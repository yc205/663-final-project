{
 "cells": [
  {
   "cell_type": "code",
   "execution_count": 1,
   "metadata": {
    "collapsed": false
   },
   "outputs": [
    {
     "data": {
      "text/plain": [
       "u'%.4f'"
      ]
     },
     "execution_count": 1,
     "metadata": {},
     "output_type": "execute_result"
    }
   ],
   "source": [
    "import os\n",
    "import sys\n",
    "import glob\n",
    "import matplotlib.pyplot as plt\n",
    "import numpy as np\n",
    "import pandas as pd\n",
    "%matplotlib inline\n",
    "%precision 4"
   ]
  },
  {
   "cell_type": "code",
   "execution_count": null,
   "metadata": {
    "collapsed": true
   },
   "outputs": [],
   "source": []
  },
  {
   "cell_type": "code",
   "execution_count": 2,
   "metadata": {
    "collapsed": false
   },
   "outputs": [],
   "source": [
    "%load_ext rpy2.ipython\n",
    "from rpy2.robjects.packages import importr\n",
    "p1=importr('leaps')\n",
    "p2=importr('stats')\n"
   ]
  },
  {
   "cell_type": "code",
   "execution_count": 64,
   "metadata": {
    "collapsed": false
   },
   "outputs": [],
   "source": [
    "# Wrote the source data\n",
    "df = pd.read_csv('ncaa.data2.txt',delim_whitespace=True)\n",
    "df.head()\n",
    "x = df.ix[:,0:19]\n",
    "y = df.ix[:,19]\n",
    "# get rid of na's since regsubsets can't handle na's\n",
    "x = x.dropna()\n",
    "y = y.dropna()\n",
    "\n",
    "m = x.shape[1]\n",
    "n = x.shape[0]\n",
    "if(m >= n): \n",
    "   m1=n-5  \n",
    "else: \n",
    "   m1=m \n",
    "vm = range(m1)\n",
    "# if only partially named columns corrects for no colnames\n",
    "pvm = [0] * m1\n"
   ]
  },
  {
   "cell_type": "code",
   "execution_count": 65,
   "metadata": {
    "collapsed": false
   },
   "outputs": [],
   "source": [
    "%%R -i x,y,vm -o out_x\n",
    "require(leaps)\n",
    "regsubsets(x,y,method=\"forward\")->out_x\n",
    "\n"
   ]
  },
  {
   "cell_type": "code",
   "execution_count": 66,
   "metadata": {
    "collapsed": false
   },
   "outputs": [
    {
     "name": "stdout",
     "output_type": "stream",
     "text": [
      "[0, 0.0, 0.00017, 0.013533333333333333, 0.013533333333333333, 0.013533333333333333, 0.043847142857142855, 0.0438, 0.051398181818181815, 0.051398181818181815, 0.051398181818181815, 0.10648, 0.11042230769230768, 0.07784666666666666, 0.07784666666666666, 0.1134375, 0.12911823529411764, 0.10755111111111111, 0.11606315789473684, 0.0]\n"
     ]
    }
   ],
   "source": [
    "rss = out_x[9]\n",
    "nn = out_x[26][0]\n",
    "q = [(rss[i]-rss[i+1])*(nn-i-1)/rss[i+1] for i in range(len(rss)-1)]\n",
    "import scipy.stats as ss\n",
    "rvf = [ ss.f(1,nn-i-1)  for i in range(len(rss)-1)]\n",
    "orig =  [round(rvf[i].pdf(q[i]),5) for i in range(len(rss)-1)]\n",
    "# sequential max of pvalues\n",
    "for i in range(m1):\n",
    "  pvm[i] = max(orig[0:i+1])\n",
    "alpha = [0]+pvm\n",
    "ng = len(alpha)\n",
    "# will contain num. of true entering in orig\n",
    "S = [0] * ng\n",
    "# loop through alpha values for S=size                        \n",
    "for ia in range(1,ng):                   \n",
    "  S[ia] = sum([pvm[i] <= alpha[ia] for i in range(len(pvm))])        # size of models at alpha[ia], S[1]=0\n",
    "ghat = [(m-S[i])*alpha[i]/(1+S[i]) for i in range(len(alpha))]              # gammahat_ER\n",
    "# add additional points to make jumps\n",
    "print ghat\n"
   ]
  },
  {
   "cell_type": "code",
   "execution_count": 66,
   "metadata": {
    "collapsed": false
   },
   "outputs": [],
   "source": []
  },
  {
   "cell_type": "code",
   "execution_count": 63,
   "metadata": {
    "collapsed": false
   },
   "outputs": [],
   "source": []
  },
  {
   "cell_type": "code",
   "execution_count": 61,
   "metadata": {
    "collapsed": false
   },
   "outputs": [],
   "source": []
  },
  {
   "cell_type": "code",
   "execution_count": 55,
   "metadata": {
    "collapsed": false
   },
   "outputs": [],
   "source": []
  },
  {
   "cell_type": "code",
   "execution_count": 57,
   "metadata": {
    "collapsed": false
   },
   "outputs": [
    {
     "name": "stdout",
     "output_type": "stream",
     "text": [
      "20\n"
     ]
    }
   ],
   "source": []
  },
  {
   "cell_type": "markdown",
   "metadata": {},
   "source": [
    "# Pseudocode/outline of algorithm\n"
   ]
  },
  {
   "cell_type": "markdown",
   "metadata": {},
   "source": [
    "- Step1: Got rid of NA's in the data set \n",
    "\n",
    "- Step2: Wrote the forward selection method for the linear regression. The returned list includes the p-values in each iteration and the order of the varaibles entered\n",
    "    - First, fit one predictor a time on the response y and choose the predictors which has the smallest p-value\n",
    "    - Second, fit this predictor and one left predictor on the response y and choose the predictor which leads to the smalles pvalue. Up to now, we have two selected variables\n",
    "    - Finally, after some steps, all the variables going to be entered bigger than 0.05, the forward selection method stops.\n",
    "- Step3: Create the pvm vector which saves the max p_value according to the following formula and get the $ \\hat{\\gamma}$\n",
    "    - First, caculate the pv.orig based on the following the formula \n",
    "    - Second, select the max_pvalue based on the formula \n",
    "      $\\tilde{p_1} < \\tilde{p_2} < \\tilde{p_3}...< \\tilde{p_k}$\n",
    "    - Third, built the alpha vector as (0,pmv)\n",
    "    - Fourth, create a S vector which stands for model size based on the formula\n",
    "      $$ S = max \\{i : \\tilde{p_i} < \\alpha \\} $$\n",
    "    - Calculate the\n",
    "      $ \\hat{\\gamma} = \\frac{(m-S)* \\alpha}{1 + S}\\\\$  \n",
    "      \n",
    "- Step4: Determine the model size and returned the model\n",
    "    \n",
    "   $${\\hat{\\gamma} < \\hat{\\gamma_0}, \\alpha <= \\alpha_{max}}$$\n"
   ]
  },
  {
   "cell_type": "markdown",
   "metadata": {},
   "source": [
    "# Unite Test:"
   ]
  },
  {
   "cell_type": "markdown",
   "metadata": {},
   "source": [
    "  1. Whether there is missing data in the data set\n",
    "  2. Test whether the result implmemented by this algorithm has the same answer with the paper"
   ]
  },
  {
   "cell_type": "code",
   "execution_count": 3,
   "metadata": {
    "collapsed": false
   },
   "outputs": [],
   "source": [
    "%load_ext rmagic\n"
   ]
  },
  {
   "cell_type": "code",
   "execution_count": null,
   "metadata": {
    "collapsed": false
   },
   "outputs": [
    {
     "name": "stdout",
     "output_type": "stream",
     "text": [
      "Would you like to use a personal library instead?  (y/n) y\n",
      "Would you like to create a personal library\n",
      "~/R/x86_64-pc-linux-gnu-library/3.1\n",
      "to install packages into?  (y/n) y\n",
      "Selection: leaps\n",
      "Selection: \n",
      "Selection: \n",
      "Selection: \n"
     ]
    }
   ],
   "source": [
    "%%R\n",
    "\n",
    "install.packages('leaps')"
   ]
  },
  {
   "cell_type": "code",
   "execution_count": null,
   "metadata": {
    "collapsed": false
   },
   "outputs": [],
   "source": []
  }
 ],
 "metadata": {
  "kernelspec": {
   "display_name": "Python 2",
   "language": "python",
   "name": "python2"
  },
  "language_info": {
   "codemirror_mode": {
    "name": "ipython",
    "version": 2
   },
   "file_extension": ".py",
   "mimetype": "text/x-python",
   "name": "python",
   "nbconvert_exporter": "python",
   "pygments_lexer": "ipython2",
   "version": "2.7.9"
  }
 },
 "nbformat": 4,
 "nbformat_minor": 0
}
