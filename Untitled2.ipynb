{
 "metadata": {
  "name": "",
  "signature": "sha256:9d8f176e1946d48a36b911ae7564700b2d3ccc4997a8f331b3fb8dbffb6ad4ac"
 },
 "nbformat": 3,
 "nbformat_minor": 0,
 "worksheets": [
  {
   "cells": [
    {
     "cell_type": "code",
     "collapsed": false,
     "input": [
      "! pip install -U ipython"
     ],
     "language": "python",
     "metadata": {},
     "outputs": []
    }
   ],
   "metadata": {}
  }
 ]
}