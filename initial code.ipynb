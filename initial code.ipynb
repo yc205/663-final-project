{
 "metadata": {
  "name": "",
  "signature": "sha256:acfc4e1c5bc1ad297d0534c263d70584fec2a0a271b7aa262ca5ae9602652552"
 },
 "nbformat": 3,
 "nbformat_minor": 0,
 "worksheets": [
  {
   "cells": [
    {
     "cell_type": "code",
     "collapsed": false,
     "input": [
      "import os\n",
      "import sys\n",
      "import glob\n",
      "import matplotlib.pyplot as plt\n",
      "import numpy as np\n",
      "import pandas as pd\n",
      "%matplotlib inline\n",
      "%precision 4"
     ],
     "language": "python",
     "metadata": {},
     "outputs": [
      {
       "metadata": {},
       "output_type": "pyout",
       "prompt_number": 1,
       "text": [
        "u'%.4f'"
       ]
      }
     ],
     "prompt_number": 1
    },
    {
     "cell_type": "code",
     "collapsed": false,
     "input": [
      "%load_ext rpy2.ipython\n",
      "from rpy2.robjects.packages import importr\n",
      "p1=importr('leaps')\n",
      "p2=importr('stats')\n"
     ],
     "language": "python",
     "metadata": {},
     "outputs": [],
     "prompt_number": 2
    },
    {
     "cell_type": "code",
     "collapsed": false,
     "input": [
      "# Wrote the source data\n",
      "df = pd.read_csv('ncaa.data2.txt',delim_whitespace=True)\n",
      "df.head()\n",
      "x = df.ix[:,0:19]\n",
      "y = df.ix[:,19]\n",
      "# get rid of na's since regsubsets can't handle na's\n",
      "x = x.dropna()\n",
      "y = y.dropna()\n",
      "\n",
      "m = x.shape[1]\n",
      "n = x.shape[0]\n",
      "if(m >= n): \n",
      "   m1=n-5  \n",
      "else: \n",
      "   m1=m \n",
      "vm = range(m1)\n",
      "# if only partially named columns corrects for no colnames\n",
      "pvm = [0] * m1\n",
      "print pvm"
     ],
     "language": "python",
     "metadata": {},
     "outputs": [
      {
       "output_type": "stream",
       "stream": "stdout",
       "text": [
        "[0, 0, 0, 0, 0, 0, 0, 0, 0, 0, 0, 0, 0, 0, 0, 0, 0, 0, 0]\n"
       ]
      }
     ],
     "prompt_number": 6
    },
    {
     "cell_type": "code",
     "collapsed": false,
     "input": [
      "%%R -i x,y,vm -o out_x\n",
      "require(leaps)\n",
      "regsubsets(x,y,method=\"forward\")->out_x\n"
     ],
     "language": "python",
     "metadata": {},
     "outputs": [],
     "prompt_number": 4
    },
    {
     "cell_type": "code",
     "collapsed": false,
     "input": [
      "rss = out_x[9]\n",
      "\n",
      "nn = out_x[26][0]\n",
      "q = [(rss[i]-rss[i+1])*(nn-i-2)/rss[i+1] for i in range(len(rss)-1)]\n",
      "import scipy.stats as ss\n",
      "rvf = [ ss.f(1,nn-i-2)  for i in range(len(rss)-1)]\n",
      "orig =  [1-rvf[i].cdf(q[i]) for i in range(len(rss)-1)]\n",
      "\n",
      "# sequential max of pvalues\n",
      "for i in range(m1):\n",
      "  pvm[i] = max(orig[0:i+1])\n",
      "alpha = [0]+pvm\n",
      "ng = len(alpha)\n",
      "# will contain num. of true entering in orig\n",
      "S = [0] * ng\n",
      "# loop through alpha values for S=size                        \n",
      "for ia in range(1,ng):                   \n",
      "  S[ia] = sum([pvm[i] <= alpha[ia] for i in range(len(pvm))])        # size of models at alpha[ia], S[1]=0\n",
      "ghat = [(m-S[i])*alpha[i]/(1+S[i]) for i in range(len(alpha))]              # gammahat_ER\n",
      "# add additional points to make jumps\n",
      "print ghat\n"
     ],
     "language": "python",
     "metadata": {},
     "outputs": [
      {
       "output_type": "stream",
       "stream": "stdout",
       "text": [
        "[0, 9.9920072216264089e-16, 0.0003938953708166511, 0.027030707387536618, 0.027030707387536618, 0.027030707387536618, 0.080442500316206908, 0.079101212739576876, 0.086425788392131761, 0.086425788392131761, 0.086425788392131761, 0.15663904567900833, 0.15423708637318098, 0.10543939807974589, 0.10543939807974589, 0.12383144663332515, 0.11164389428824373, 0.078404643890328363, 0.045291598407212537, 0.0]\n"
       ]
      }
     ],
     "prompt_number": 30
    },
    {
     "cell_type": "code",
     "collapsed": false,
     "input": [
      "alpha2 = np.array(alpha[1:ng])-.0000001\n",
      "ghat2 = ((m-np.array(S[0:(ng-1)]))*alpha2)/(1+np.array(S[0:(ng-1)]))\n",
      "a= alpha+list(alpha2)\n",
      "g=ghat + list(ghat2)\n",
      "zp = {'a' : a,\n",
      "     'g' : g}\n",
      "zp = pd.DataFrame(zp)\n",
      "zp=np.array(zp)[np.argsort(zp.a)]\n",
      "zp[:,1]"
     ],
     "language": "python",
     "metadata": {},
     "outputs": [
      {
       "metadata": {},
       "output_type": "pyout",
       "prompt_number": 88,
       "text": [
        "array([ -1.9000e-06,   0.0000e+00,   9.9920e-16,   6.2470e-04,\n",
        "         3.9390e-04,   6.5645e-02,   2.7030e-02,   2.7030e-02,\n",
        "         2.7031e-02,   2.7031e-02,   2.7031e-02,   1.0107e-01,\n",
        "         8.0443e-02,   9.7935e-02,   7.9101e-02,   8.6426e-02,\n",
        "         8.6426e-02,   1.5845e-01,   8.6426e-02,   8.6426e-02,\n",
        "         8.6426e-02,   1.9224e-01,   1.5664e-01,   1.9096e-01,\n",
        "         1.5424e-01,   1.7033e-01,   1.0544e-01,   1.0544e-01,\n",
        "         1.0544e-01,   1.6511e-01,   1.2383e-01,   1.5816e-01,\n",
        "         1.1164e-01,   1.2453e-01,   7.8405e-02,   9.5616e-02,\n",
        "         4.5292e-02,   4.7537e-02,   0.0000e+00])"
       ]
      }
     ],
     "prompt_number": 88
    },
    {
     "cell_type": "code",
     "collapsed": false,
     "input": [
      "alpha2<-alpha[2:ng]-.0000001\n",
      "  ghat2<-(m-S[1:(ng-1)])*alpha2/(1+S[1:(ng-1)])\n",
      "  zp<-data.frame(a=c(alpha,alpha2),g=c(ghat,ghat2))\n",
      "  zp<-zp[order(zp$a),]\n",
      "  gmax<-max(zp$g)\n",
      "  index.max<-which.max(zp$g)           # index of largest ghat\n",
      "  alphamax<-zp$a[index.max]       \n",
      "ind<-(ghat <= gam0 & alpha<=alphamax)*1\n",
      "  Sind<-S[max(which(ind > 0))]           # model size with ghat just below gam0\n",
      "  alphahat.fast<-(1+Sind)*gam0/(m-Sind)  # ER est.\n",
      "  size1<-sum(pvm<=alphahat.fast)+1       # size of model including intercept\n",
      "  x<-x[,colnames(x)[(out.x$vorder-1)[2:size1]]]\n",
      "  if(size1>1) x.ind<-(out.x$vorder-1)[2:size1]  else x.ind<-0\n",
      "  if (size1==1) {mod <- lm(y~1)} else {mod <- lm(y~x)}\n",
      "  # ghat3<-(m-size1+1)*alpha/(1+S)         # uses final ku est.\n",
      "  ghat4<-(m-size1+1)*alpha/(1+0:m)\n",
      "  res<-data.frame(real.seq,ghigh=ghat2,glow=ghat[2:ng])\n",
      "  if(print)print(round(res,digits))\n",
      "  if(plot){\n",
      "    plot(zp$a,zp$g,type=\"b\",xlab=\"Alpha\",ylab=\"Estimated Gamma\",xlim=c(0,alphamax))\n",
      "    points(alphahat.fast,gam0,pch=19)\n",
      "    lines(c(-1,alphahat.fast),c(gam0,gam0))\n",
      "    lines(c(alphahat.fast,alphahat.fast),c(-1,gam0))\n",
      "  }  # ends plot"
     ],
     "language": "python",
     "metadata": {},
     "outputs": []
    }
   ],
   "metadata": {}
  }
 ]
}