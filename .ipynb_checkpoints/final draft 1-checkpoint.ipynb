{
 "cells": [
  {
   "cell_type": "code",
   "execution_count": null,
   "metadata": {
    "collapsed": false
   },
   "outputs": [],
   "source": [
    "import os\n",
    "import sys\n",
    "import glob\n",
    "import matplotlib.pyplot as plt\n",
    "import numpy as np\n",
    "import pandas as pd\n",
    "from scipy import stats\n",
    "import statsmodels.api as sm\n",
    "import scipy.stats as ss\n",
    "from pandas import Series, DataFrame, Panel\n",
    "%matplotlib inline\n",
    "%precision 4"
   ]
  },
  {
   "cell_type": "code",
   "execution_count": 7,
   "metadata": {
    "collapsed": false
   },
   "outputs": [
    {
     "name": "stdout",
     "output_type": "stream",
     "text": [
      "The rpy2.ipython extension is already loaded. To reload it, use:\n",
      "  %reload_ext rpy2.ipython\n"
     ]
    }
   ],
   "source": [
    "%load_ext rpy2.ipython\n",
    "from rpy2.robjects.packages import importr\n",
    "p1=importr('leaps')\n",
    "p2=importr('stats')"
   ]
  },
  {
   "cell_type": "code",
   "execution_count": 8,
   "metadata": {
    "collapsed": true
   },
   "outputs": [],
   "source": [
    "def io13():\n",
    "    \"\"\"Numpy loadtxt.\"\"\"\n",
    "    df = pd.read_csv('actg.175.trt0.txt',delim_whitespace=True)\n",
    "    x = DataFrame(df, columns = ['cd40','cd80','age','wtkg','karnof','hemo','homo','drugs','race','gender','str2','symptom'])\n",
    "    y = df.ix[:,2]\n",
    "    x_15 = x.ix[:,0:5]\n",
    "    x.ix[:,0:5] = x_15-x_15.mean()\n",
    "    quadratic = (x.ix[:,0:5])**2\n",
    "    count=-1\n",
    "    new = np.zeros(shape=(df.shape[0],66))\n",
    "    for i in range(x.shape[1]):\n",
    "      for j in range(i+1,x.shape[1]):\n",
    "           count = count+1\n",
    "           new[:,count] = x.ix[:,i] * x.ix[:,j]\n",
    "    X = DataFrame(df, columns = ['hemo','homo','drugs','race','gender','str2','symptom'])\n",
    "    x = np.concatenate((x_15,X,quadratic,new),axis=1)\n",
    "    x = pd.DataFrame(x)\n",
    "    x.ix[:,63]=np.random.normal(0, 1, x.shape[0])\n",
    "    return y,x\n",
    "\n",
    "y = io13()[0]\n",
    "x = io13()[1]"
   ]
  },
  {
   "cell_type": "markdown",
   "metadata": {},
   "source": [
    "# FSR Function Code"
   ]
  },
  {
   "cell_type": "code",
   "execution_count": 9,
   "metadata": {
    "collapsed": false
   },
   "outputs": [],
   "source": [
    "\n",
    "def fsr_fast(x,y,gam0,digits,pl):\n",
    " m = x.shape[1]\n",
    " n = x.shape[0]\n",
    " if(m >= n): \n",
    "    m1=n-5  \n",
    " else: \n",
    "    m1=m \n",
    " vm = range(m1)\n",
    "  # if only partially named columns corrects for no colnames\n",
    " pvm = [0] * m1\n",
    " out_x = p1.regsubsets(x,y,method=\"forward\")  \n",
    " rss = out_x[9]\n",
    " nn = out_x[26][0]\n",
    " q = [(rss[i]-rss[i+1])*(nn-i-2)/rss[i+1] for i in range(len(rss)-1)]\n",
    " rvf = [ ss.f(1,nn-i-2)  for i in range(len(rss)-1)]\n",
    " orig =  [1-rvf[i].cdf(q[i]) for i in range(len(rss)-1)]\n",
    "\n",
    " # sequential max of pvalues\n",
    " for i in range(m1):\n",
    "   pvm[i] = max(orig[0:i+1])\n",
    " alpha = [0]+pvm\n",
    " ng = len(alpha)\n",
    " # will contain num. of true entering in orig\n",
    " S = [0] * ng\n",
    " # loop through alpha values for S=size                        \n",
    " for ia in range(1,ng):                   \n",
    "   S[ia] = sum([pvm[i] <= alpha[ia] for i in range(len(pvm))])        # size of models at alpha[ia], S[1]=0\n",
    " ghat = [(m-S[i])*alpha[i]/(1+S[i]) for i in range(len(alpha))]              # gammahat_ER \n",
    " # add additional points to make jumps\n",
    " alpha2 = np.array(alpha[1:ng])-.0000001\n",
    " ghat2 = ((m-np.array(S[0:(ng-1)]))*alpha2)/(1+np.array(S[0:(ng-1)]))\n",
    " a= alpha+list(alpha2)\n",
    " g=ghat + list(ghat2)\n",
    " zp = {'a' : a,\n",
    "     'g' : g}\n",
    " zp = pd.DataFrame(zp)  \n",
    " zp=np.array(zp)[np.argsort(zp.a)]\n",
    " index_max= np.argmax(zp[:,1])\n",
    " alphamax=zp[:,0][index_max]\n",
    " ind = [0]*len(ghat)\n",
    " ind = [ 1 if ghat[i]<gam0 and alpha[i]<=alphamax else 0 for i in range(len(ghat))]\n",
    " Sind = S[np.max(np.where(np.array(ind)>0))]\n",
    " alphahat_fast = (1+Sind)*gam0/(m-Sind)\n",
    " size1=np.sum(np.array(pvm)<=alphahat_fast)\n",
    " x=x[list(x.columns.values[list((np.array(out_x[7])-1)[0:size1])])]\n",
    " x=sm.add_constant(x)\n",
    " if(size1>1): \n",
    "   x_ind=(np.array(out_x[7])-1)[1:size1]\n",
    " else:\n",
    "   x_ind=0\n",
    " if (size1==1):\n",
    "    mod = np.mean(y)\n",
    " else:\n",
    "    mod = sm.OLS(y, x).fit()\n",
    " ghat4=(m-size1+1)*np.array(alpha)/(1+np.array(range(m+1)))\n",
    " #plt.axis([0,alphamax,0,1.4]) \n",
    " if pl == 1:\n",
    "  plt.plot(zp[:,0],zp[:,1],'bo',color='red')\n",
    "  plt.plot([alphahat_fast], [gam0], 'g.', markersize=20.0)\n",
    "  plt.xlabel('Alpha')\n",
    "  plt.ylabel('Estimated Gamma')\n",
    "  plt.axvspan(xmin=-0.1, xmax=alphahat_fast, ymin=0, ymax=0.18)\n",
    " return mod,size1-1,x_ind,alphahat_fast"
   ]
  },
  {
   "cell_type": "markdown",
   "metadata": {},
   "source": [
    "# Bagging FSR"
   ]
  },
  {
   "cell_type": "code",
   "execution_count": 10,
   "metadata": {
    "collapsed": false
   },
   "outputs": [],
   "source": [
    "x = pd.DataFrame(np.random.normal(1, 1, 21*150).reshape(150,21))\n",
    "y = 9*x.ix[:,5]+4*x.ix[:,6]+x.ix[:,7]+9*x.ix[:,12]+4*x.ix[:,13]+x.ix[:,14]\n",
    "quad2 = (x.ix[:,0:20])**2\n",
    "x = np.concatenate((x,quad2),axis=1)\n",
    "x = pd.DataFrame(x)"
   ]
  },
  {
   "cell_type": "code",
   "execution_count": 11,
   "metadata": {
    "collapsed": false
   },
   "outputs": [
    {
     "name": "stdout",
     "output_type": "stream",
     "text": [
      "(<statsmodels.regression.linear_model.RegressionResultsWrapper object at 0x7fdbdd266c50>, 12, array([13,  6,  7, 14,  8, 15, 41, 27, 22,  3,  2, 23], dtype=int32), 0.2413793103448276)\n"
     ]
    },
    {
     "data": {
      "image/png": "[encoded data removed]",
      "text/plain": [
       "<matplotlib.figure.Figure at 0x7fdbdd2661d0>"
      ]
     },
     "metadata": {},
     "output_type": "display_data"
    }
   ],
   "source": [
    "gam0=0.5\n",
    "digits = 4\n",
    "pl=1\n",
    "B = 1000\n",
    "m = x.shape[1]\n",
    "n = x.shape[0]\n",
    "hold = np.zeros((m,B))      # holds coefficients\n",
    "interc = [0] * B                  # holds intercepts\n",
    "alphahat = [0] * B                    # holds alphahats\n",
    "size = [0] * B\n",
    "index = np.random.choice(n,n)\n",
    "X = x.ix[index,:]\n",
    "Y = y.ix[index]\n",
    "print fsr_fast(X,Y,gam0,digits,pl)"
   ]
  },
  {
   "cell_type": "code",
   "execution_count": 795,
   "metadata": {
    "collapsed": false
   },
   "outputs": [
    {
     "data": {
      "text/plain": [
       "array([0, 1])"
      ]
     },
     "execution_count": 795,
     "metadata": {},
     "output_type": "execute_result"
    }
   ],
   "source": [
    "np.random.choice(3,2)"
   ]
  },
  {
   "cell_type": "code",
   "execution_count": 12,
   "metadata": {
    "collapsed": false
   },
   "outputs": [
    {
     "name": "stdout",
     "output_type": "stream",
     "text": [
      "[ 10  89  40  23  95  97  58  62   9  48 124  86  82  80  27   8  96  76\n",
      " 107 146 144 124  41  68  17 115  46 139  69  97  19  41  20  97 107 125\n",
      "  88   4 100  23  34  27 120  16  91 132 140  88 116  63  62  49  43  17\n",
      "  75  36 133 137  22 116 141  56  48  31  98  89   3  78 129  69  41  62\n",
      " 118  96  25  16   6  73 147  98  61   3  41 108 105  24 129  43  49  95\n",
      " 121  49   6 132  51  12  17  36 115  72 115 146  25  18 109  35 140  80\n",
      "  98 107   3  58  16  64  65 148  93 107 133 112   3 127 114 138  44  62\n",
      "  48  54  18 140 112  36 135  90 130  10  40 100 142 144  49  67  27   8\n",
      "  27   4 130  74 135  29]\n",
      "19\n"
     ]
    }
   ],
   "source": [
    "x = pd.DataFrame(np.random.normal(1, 1, 21*150).reshape(150,21))\n",
    "y = 9*x.ix[:,5]+4*x.ix[:,6]+x.ix[:,7]+9*x.ix[:,12]+4*x.ix[:,13]+x.ix[:,14]\n",
    "quad2 = (x.ix[:,0:20])**2\n",
    "x = np.concatenate((x,quad2),axis=1)\n",
    "x = pd.DataFrame(x)\n",
    "gam0=0.5\n",
    "digits = 4\n",
    "pl=1\n",
    "B = 1000\n",
    "m = x.shape[1]\n",
    "n = x.shape[0]\n",
    "hold = np.zeros((m,B))      # holds coefficients\n",
    "interc = [0] * B                  # holds intercepts\n",
    "alphahat = [0] * B                    # holds alphahats\n",
    "size = [0] * B\n",
    "\n",
    "index = np.random.choice(n, n)\n",
    "print index\n",
    "X = x.ix[index,:]\n",
    "Y = y.ix[index]\n",
    "\n",
    "m = X.shape[1]\n",
    "n = X.shape[0]\n",
    "if(m >= n): \n",
    "    m1=n-5  \n",
    "else: \n",
    "    m1=m \n",
    "vm = range(m1)\n",
    "  # if only partially named columns corrects for no colnames\n",
    "pvm = [0] * m1\n",
    "out_x = p1.regsubsets(X,Y,method=\"forward\")  \n",
    "rss = out_x[9]\n",
    "nn = out_x[26][0]\n",
    "q = [(rss[i]-rss[i+1])*(nn-i-2)/rss[i+1] for i in range(len(rss)-1)]\n",
    "rvf = [ ss.f(1,nn-i-2)  for i in range(len(rss)-1)]\n",
    "orig =  [1-rvf[i].cdf(q[i]) for i in range(len(rss)-1)]\n",
    "\n",
    " # sequential max of pvalues\n",
    "for i in range(m1):\n",
    "   pvm[i] = max(orig[0:i+1])\n",
    "alpha = [0]+pvm\n",
    "ng = len(alpha)\n",
    " # will contain num. of true entering in orig\n",
    "S = [0] * ng\n",
    " # loop through alpha values for S=size                        \n",
    "for ia in range(1,ng):                   \n",
    "   S[ia] = sum([pvm[i] <= alpha[ia] for i in range(len(pvm))])        # size of models at alpha[ia], S[1]=0\n",
    "ghat = [(m-S[i])*alpha[i]/(1+S[i]) for i in range(len(alpha))]              # gammahat_ER \n",
    " # add additional points to make jumps\n",
    "alpha2 = np.array(alpha[1:ng])-.0000001\n",
    "ghat2 = ((m-np.array(S[0:(ng-1)]))*alpha2)/(1+np.array(S[0:(ng-1)]))\n",
    "a= alpha+list(alpha2)\n",
    "g=ghat + list(ghat2)\n",
    "zp = {'a' : a,\n",
    "     'g' : g}\n",
    "zp = pd.DataFrame(zp)  \n",
    "zp=np.array(zp)[np.argsort(zp.a)]\n",
    "index_max= np.argmax(zp[:,1])\n",
    "alphamax=zp[:,0][index_max]\n",
    "ind = [0]*len(ghat)\n",
    "ind = [ 1 if ghat[i]<gam0 and alpha[i]<=alphamax else 0 for i in range(len(ghat))]\n",
    "Sind = S[np.max(np.where(np.array(ind)>0))]\n",
    "print Sind"
   ]
  },
  {
   "cell_type": "code",
   "execution_count": 24,
   "metadata": {
    "collapsed": false
   },
   "outputs": [
    {
     "name": "stdout",
     "output_type": "stream",
     "text": [
      "19\n",
      "[1] 43\n",
      "\n",
      "[ 1  7 14 15  8 16  9 10 33 35  6 24 28 43 26  5 21 30 29 34 12 25  4 23  2\n",
      " 22 18 36 37 41 20 32 11 39 13 40 19 42  3 31 27 38 17]\n",
      "[ 0  6 13 14  7 15  8  9 32 34  5 23 27 42 25  4 20 29 28 33 11 24  3 22  1\n",
      " 21 17 35 36 40 19 31 10 38 12 39 18 41  2 30 26 37 16]\n",
      "[ 0  6 13 14  7 15  8  9 32 34  5 23 27 42 25  4 20 29 28]\n"
     ]
    }
   ],
   "source": [
    "alphahat_fast = (1+Sind)*gam0/(m-Sind)\n",
    "size1=np.sum(np.array(pvm)<=alphahat_fast)\n",
    "print size1\n",
    "\n",
    "print p1.regsubsets(X,Y,method=\"forward\")[6]\n",
    "print np.array(out_x[7])\n",
    "print (np.array(out_x[7])-1)\n",
    "print (np.array(out_x[7])-1)[0:size1]\n",
    "#X=X[list(X.columns.values[list((np.array(out_x[7])-1)[1:size1])])]"
   ]
  },
  {
   "cell_type": "code",
   "execution_count": 14,
   "metadata": {
    "collapsed": false
   },
   "outputs": [
    {
     "ename": "IndexError",
     "evalue": "index 42 is out of bounds for axis 1 with size 42",
     "output_type": "error",
     "traceback": [
      "\u001b[1;31m---------------------------------------------------------------------------\u001b[0m",
      "\u001b[1;31mIndexError\u001b[0m                                Traceback (most recent call last)",
      "\u001b[1;32m<ipython-input-14-01a283c8bfc3>\u001b[0m in \u001b[0;36m<module>\u001b[1;34m()\u001b[0m\n\u001b[1;32m----> 1\u001b[1;33m \u001b[0mX\u001b[0m\u001b[1;33m=\u001b[0m\u001b[0mX\u001b[0m\u001b[1;33m[\u001b[0m\u001b[0mlist\u001b[0m\u001b[1;33m(\u001b[0m\u001b[0mX\u001b[0m\u001b[1;33m.\u001b[0m\u001b[0mcolumns\u001b[0m\u001b[1;33m.\u001b[0m\u001b[0mvalues\u001b[0m\u001b[1;33m[\u001b[0m\u001b[0mlist\u001b[0m\u001b[1;33m(\u001b[0m\u001b[1;33m(\u001b[0m\u001b[0mnp\u001b[0m\u001b[1;33m.\u001b[0m\u001b[0marray\u001b[0m\u001b[1;33m(\u001b[0m\u001b[0mout_x\u001b[0m\u001b[1;33m[\u001b[0m\u001b[1;36m7\u001b[0m\u001b[1;33m]\u001b[0m\u001b[1;33m)\u001b[0m\u001b[1;33m-\u001b[0m\u001b[1;36m1\u001b[0m\u001b[1;33m)\u001b[0m\u001b[1;33m[\u001b[0m\u001b[1;36m0\u001b[0m\u001b[1;33m:\u001b[0m\u001b[0msize1\u001b[0m\u001b[1;33m]\u001b[0m\u001b[1;33m)\u001b[0m\u001b[1;33m]\u001b[0m\u001b[1;33m)\u001b[0m\u001b[1;33m]\u001b[0m\u001b[1;33m\u001b[0m\u001b[0m\n\u001b[0m\u001b[0;32m      2\u001b[0m \u001b[0mX\u001b[0m\u001b[1;33m=\u001b[0m\u001b[0msm\u001b[0m\u001b[1;33m.\u001b[0m\u001b[0madd_constant\u001b[0m\u001b[1;33m(\u001b[0m\u001b[0mX\u001b[0m\u001b[1;33m)\u001b[0m\u001b[1;33m\u001b[0m\u001b[0m\n\u001b[0;32m      3\u001b[0m \u001b[1;32mif\u001b[0m\u001b[1;33m(\u001b[0m\u001b[0msize1\u001b[0m\u001b[1;33m>\u001b[0m\u001b[1;36m1\u001b[0m\u001b[1;33m)\u001b[0m\u001b[1;33m:\u001b[0m\u001b[1;33m\u001b[0m\u001b[0m\n\u001b[0;32m      4\u001b[0m    \u001b[0mx_ind\u001b[0m\u001b[1;33m=\u001b[0m\u001b[1;33m(\u001b[0m\u001b[0mnp\u001b[0m\u001b[1;33m.\u001b[0m\u001b[0marray\u001b[0m\u001b[1;33m(\u001b[0m\u001b[0mout_x\u001b[0m\u001b[1;33m[\u001b[0m\u001b[1;36m7\u001b[0m\u001b[1;33m]\u001b[0m\u001b[1;33m)\u001b[0m\u001b[1;33m-\u001b[0m\u001b[1;36m1\u001b[0m\u001b[1;33m)\u001b[0m\u001b[1;33m[\u001b[0m\u001b[1;36m0\u001b[0m\u001b[1;33m:\u001b[0m\u001b[0msize1\u001b[0m\u001b[1;33m]\u001b[0m\u001b[1;33m\u001b[0m\u001b[0m\n\u001b[0;32m      5\u001b[0m \u001b[1;32melse\u001b[0m\u001b[1;33m:\u001b[0m\u001b[1;33m\u001b[0m\u001b[0m\n",
      "\u001b[1;31mIndexError\u001b[0m: index 42 is out of bounds for axis 1 with size 42"
     ]
    }
   ],
   "source": [
    "X=X[list(X.columns.values[list((np.array(out_x[7])-1)[0:size1])])]\n",
    "X=sm.add_constant(X)\n",
    "if(size1>1): \n",
    "   x_ind=(np.array(out_x[7])-1)[0:size1]\n",
    "else:\n",
    "   x_ind=0\n",
    "if (size1==1):\n",
    "    mod = np.mean(Y)\n",
    "else:\n",
    "    mod = sm.OLS(Y, X).fit()"
   ]
  },
  {
   "cell_type": "code",
   "execution_count": 859,
   "metadata": {
    "collapsed": true
   },
   "outputs": [],
   "source": [
    "def bag_fsr(x,y,B,gam0):\n",
    "  m = x.shape[1]\n",
    "  n = x.shape[0]\n",
    "  hold = np.zeros((m,B))      # holds coefficients\n",
    "  interc = [0] * B                  # holds intercepts\n",
    "  alphahat = [0] * B                    # holds alphahats\n",
    "  size = [0] * B\n",
    "  for i in range(B):\n",
    "    index = np.random.choice(n, n)\n",
    "    out = fsr_fast(x.ix[index,:],y.ix[index],gam0,digits,pl)\n",
    "    if out[1]>0:\n",
    "       hold[i,out[2]] = out[0].params[1:out[1]]\n",
    "    interc[i] = out[0].params[0]\n",
    "    alphahat[i] = out[3]\n",
    "    size[i] = out[1]\n",
    " "
   ]
  },
  {
   "cell_type": "markdown",
   "metadata": {
    "collapsed": false
   },
   "source": [
    "# Example With Real Data Set"
   ]
  },
  {
   "cell_type": "code",
   "execution_count": 693,
   "metadata": {
    "collapsed": false
   },
   "outputs": [
    {
     "data": {
      "text/html": [
       "<table class=\"simpletable\">\n",
       "<caption>OLS Regression Results</caption>\n",
       "<tr>\n",
       "  <th>Dep. Variable:</th>          <td>event</td>      <th>  R-squared:         </th> <td>   0.086</td>\n",
       "</tr>\n",
       "<tr>\n",
       "  <th>Model:</th>                   <td>OLS</td>       <th>  Adj. R-squared:    </th> <td>   0.083</td>\n",
       "</tr>\n",
       "<tr>\n",
       "  <th>Method:</th>             <td>Least Squares</td>  <th>  F-statistic:       </th> <td>   24.92</td>\n",
       "</tr>\n",
       "<tr>\n",
       "  <th>Date:</th>             <td>Fri, 24 Apr 2015</td> <th>  Prob (F-statistic):</th> <td>4.53e-11</td>\n",
       "</tr>\n",
       "<tr>\n",
       "  <th>Time:</th>                 <td>22:38:22</td>     <th>  Log-Likelihood:    </th> <td> -3810.5</td>\n",
       "</tr>\n",
       "<tr>\n",
       "  <th>No. Observations:</th>      <td>   532</td>      <th>  AIC:               </th> <td>   7627.</td>\n",
       "</tr>\n",
       "<tr>\n",
       "  <th>Df Residuals:</th>          <td>   529</td>      <th>  BIC:               </th> <td>   7640.</td>\n",
       "</tr>\n",
       "<tr>\n",
       "  <th>Df Model:</th>              <td>     2</td>      <th>                     </th>     <td> </td>   \n",
       "</tr>\n",
       "</table>\n",
       "<table class=\"simpletable\">\n",
       "<tr>\n",
       "    <td></td>       <th>coef</th>     <th>std err</th>      <th>t</th>      <th>P>|t|</th> <th>[95.0% Conf. Int.]</th> \n",
       "</tr>\n",
       "<tr>\n",
       "  <th>const</th> <td>  622.0209</td> <td>   48.880</td> <td>   12.725</td> <td> 0.000</td> <td>  525.998   718.044</td>\n",
       "</tr>\n",
       "<tr>\n",
       "  <th>cd40</th>  <td>    0.8018</td> <td>    0.121</td> <td>    6.620</td> <td> 0.000</td> <td>    0.564     1.040</td>\n",
       "</tr>\n",
       "<tr>\n",
       "  <th>cd80</th>  <td>   -0.1053</td> <td>    0.029</td> <td>   -3.622</td> <td> 0.000</td> <td>   -0.162    -0.048</td>\n",
       "</tr>\n",
       "</table>\n",
       "<table class=\"simpletable\">\n",
       "<tr>\n",
       "  <th>Omnibus:</th>       <td>56.479</td> <th>  Durbin-Watson:     </th> <td>   1.989</td>\n",
       "</tr>\n",
       "<tr>\n",
       "  <th>Prob(Omnibus):</th> <td> 0.000</td> <th>  Jarque-Bera (JB):  </th> <td>  42.967</td>\n",
       "</tr>\n",
       "<tr>\n",
       "  <th>Skew:</th>          <td>-0.596</td> <th>  Prob(JB):          </th> <td>4.68e-10</td>\n",
       "</tr>\n",
       "<tr>\n",
       "  <th>Kurtosis:</th>      <td> 2.280</td> <th>  Cond. No.          </th> <td>4.12e+03</td>\n",
       "</tr>\n",
       "</table>"
      ],
      "text/plain": [
       "<class 'statsmodels.iolib.summary.Summary'>\n",
       "\"\"\"\n",
       "                            OLS Regression Results                            \n",
       "==============================================================================\n",
       "Dep. Variable:                  event   R-squared:                       0.086\n",
       "Model:                            OLS   Adj. R-squared:                  0.083\n",
       "Method:                 Least Squares   F-statistic:                     24.92\n",
       "Date:                Fri, 24 Apr 2015   Prob (F-statistic):           4.53e-11\n",
       "Time:                        22:38:22   Log-Likelihood:                -3810.5\n",
       "No. Observations:                 532   AIC:                             7627.\n",
       "Df Residuals:                     529   BIC:                             7640.\n",
       "Df Model:                           2                                         \n",
       "==============================================================================\n",
       "                 coef    std err          t      P>|t|      [95.0% Conf. Int.]\n",
       "------------------------------------------------------------------------------\n",
       "const        622.0209     48.880     12.725      0.000       525.998   718.044\n",
       "cd40           0.8018      0.121      6.620      0.000         0.564     1.040\n",
       "cd80          -0.1053      0.029     -3.622      0.000        -0.162    -0.048\n",
       "==============================================================================\n",
       "Omnibus:                       56.479   Durbin-Watson:                   1.989\n",
       "Prob(Omnibus):                  0.000   Jarque-Bera (JB):               42.967\n",
       "Skew:                          -0.596   Prob(JB):                     4.68e-10\n",
       "Kurtosis:                       2.280   Cond. No.                     4.12e+03\n",
       "==============================================================================\n",
       "\n",
       "Warnings:\n",
       "[1] The condition number is large, 4.12e+03. This might indicate that there are\n",
       "strong multicollinearity or other numerical problems.\n",
       "\"\"\""
      ]
     },
     "execution_count": 693,
     "metadata": {},
     "output_type": "execute_result"
    },
    {
     "data": {
      "image/png": "[encoded data removed]",
      "text/plain": [
       "<matplotlib.figure.Figure at 0x7eff5fe9ce90>"
      ]
     },
     "metadata": {},
     "output_type": "display_data"
    }
   ],
   "source": [
    "# Real Case 1: 12 linear variables \n",
    "df = pd.read_csv('actg.175.trt0.txt',delim_whitespace=True)\n",
    "x = DataFrame(df, columns = ['cd40','cd80','age','wtkg','karnof','hemo','homo','drugs','race','gender','str2','symptom'])\n",
    "y = df.ix[:,2]\n",
    "fsr_fast(x,y,0.05,4,1)[0].summary()"
   ]
  },
  {
   "cell_type": "code",
   "execution_count": 695,
   "metadata": {
    "collapsed": false
   },
   "outputs": [
    {
     "data": {
      "text/html": [
       "<table class=\"simpletable\">\n",
       "<caption>OLS Regression Results</caption>\n",
       "<tr>\n",
       "  <th>Dep. Variable:</th>          <td>event</td>      <th>  R-squared:         </th> <td>   0.086</td>\n",
       "</tr>\n",
       "<tr>\n",
       "  <th>Model:</th>                   <td>OLS</td>       <th>  Adj. R-squared:    </th> <td>   0.083</td>\n",
       "</tr>\n",
       "<tr>\n",
       "  <th>Method:</th>             <td>Least Squares</td>  <th>  F-statistic:       </th> <td>   24.92</td>\n",
       "</tr>\n",
       "<tr>\n",
       "  <th>Date:</th>             <td>Fri, 24 Apr 2015</td> <th>  Prob (F-statistic):</th> <td>4.53e-11</td>\n",
       "</tr>\n",
       "<tr>\n",
       "  <th>Time:</th>                 <td>22:38:47</td>     <th>  Log-Likelihood:    </th> <td> -3810.5</td>\n",
       "</tr>\n",
       "<tr>\n",
       "  <th>No. Observations:</th>      <td>   532</td>      <th>  AIC:               </th> <td>   7627.</td>\n",
       "</tr>\n",
       "<tr>\n",
       "  <th>Df Residuals:</th>          <td>   529</td>      <th>  BIC:               </th> <td>   7640.</td>\n",
       "</tr>\n",
       "<tr>\n",
       "  <th>Df Model:</th>              <td>     2</td>      <th>                     </th>     <td> </td>   \n",
       "</tr>\n",
       "</table>\n",
       "<table class=\"simpletable\">\n",
       "<tr>\n",
       "    <td></td>       <th>coef</th>     <th>std err</th>      <th>t</th>      <th>P>|t|</th> <th>[95.0% Conf. Int.]</th> \n",
       "</tr>\n",
       "<tr>\n",
       "  <th>const</th> <td>  622.0209</td> <td>   48.880</td> <td>   12.725</td> <td> 0.000</td> <td>  525.998   718.044</td>\n",
       "</tr>\n",
       "<tr>\n",
       "  <th>0</th>     <td>    0.8018</td> <td>    0.121</td> <td>    6.620</td> <td> 0.000</td> <td>    0.564     1.040</td>\n",
       "</tr>\n",
       "<tr>\n",
       "  <th>1</th>     <td>   -0.1053</td> <td>    0.029</td> <td>   -3.622</td> <td> 0.000</td> <td>   -0.162    -0.048</td>\n",
       "</tr>\n",
       "</table>\n",
       "<table class=\"simpletable\">\n",
       "<tr>\n",
       "  <th>Omnibus:</th>       <td>56.479</td> <th>  Durbin-Watson:     </th> <td>   1.989</td>\n",
       "</tr>\n",
       "<tr>\n",
       "  <th>Prob(Omnibus):</th> <td> 0.000</td> <th>  Jarque-Bera (JB):  </th> <td>  42.967</td>\n",
       "</tr>\n",
       "<tr>\n",
       "  <th>Skew:</th>          <td>-0.596</td> <th>  Prob(JB):          </th> <td>4.68e-10</td>\n",
       "</tr>\n",
       "<tr>\n",
       "  <th>Kurtosis:</th>      <td> 2.280</td> <th>  Cond. No.          </th> <td>4.12e+03</td>\n",
       "</tr>\n",
       "</table>"
      ],
      "text/plain": [
       "<class 'statsmodels.iolib.summary.Summary'>\n",
       "\"\"\"\n",
       "                            OLS Regression Results                            \n",
       "==============================================================================\n",
       "Dep. Variable:                  event   R-squared:                       0.086\n",
       "Model:                            OLS   Adj. R-squared:                  0.083\n",
       "Method:                 Least Squares   F-statistic:                     24.92\n",
       "Date:                Fri, 24 Apr 2015   Prob (F-statistic):           4.53e-11\n",
       "Time:                        22:38:47   Log-Likelihood:                -3810.5\n",
       "No. Observations:                 532   AIC:                             7627.\n",
       "Df Residuals:                     529   BIC:                             7640.\n",
       "Df Model:                           2                                         \n",
       "==============================================================================\n",
       "                 coef    std err          t      P>|t|      [95.0% Conf. Int.]\n",
       "------------------------------------------------------------------------------\n",
       "const        622.0209     48.880     12.725      0.000       525.998   718.044\n",
       "0              0.8018      0.121      6.620      0.000         0.564     1.040\n",
       "1             -0.1053      0.029     -3.622      0.000        -0.162    -0.048\n",
       "==============================================================================\n",
       "Omnibus:                       56.479   Durbin-Watson:                   1.989\n",
       "Prob(Omnibus):                  0.000   Jarque-Bera (JB):               42.967\n",
       "Skew:                          -0.596   Prob(JB):                     4.68e-10\n",
       "Kurtosis:                       2.280   Cond. No.                     4.12e+03\n",
       "==============================================================================\n",
       "\n",
       "Warnings:\n",
       "[1] The condition number is large, 4.12e+03. This might indicate that there are\n",
       "strong multicollinearity or other numerical problems.\n",
       "\"\"\""
      ]
     },
     "execution_count": 695,
     "metadata": {},
     "output_type": "execute_result"
    },
    {
     "data": {
      "image/png": "[encoded data removed]",
      "text/plain": [
       "<matplotlib.figure.Figure at 0x7eff5c062ed0>"
      ]
     },
     "metadata": {},
     "output_type": "display_data"
    }
   ],
   "source": [
    "# Two function of cleaning the data and created the quadratic and interaction variables 83 variables\n",
    "def io13():\n",
    "    \"\"\"Numpy loadtxt.\"\"\"\n",
    "    df = pd.read_csv('actg.175.trt0.txt',delim_whitespace=True)\n",
    "    x = DataFrame(df, columns = ['cd40','cd80','age','wtkg','karnof','hemo','homo','drugs','race','gender','str2','symptom'])\n",
    "    y = df.ix[:,2]\n",
    "    x_15 = x.ix[:,0:5]\n",
    "    x.ix[:,0:5] = x_15-x_15.mean()\n",
    "    quadratic = (x.ix[:,0:5])**2\n",
    "    count=-1\n",
    "    new = np.zeros(shape=(df.shape[0],66))\n",
    "    for i in range(x.shape[1]):\n",
    "      for j in range(i+1,x.shape[1]):\n",
    "           count = count+1\n",
    "           new[:,count] = x.ix[:,i] * x.ix[:,j]\n",
    "    X = DataFrame(df, columns = ['hemo','homo','drugs','race','gender','str2','symptom'])\n",
    "    x = np.concatenate((x_15,X,quadratic,new),axis=1)\n",
    "    x = pd.DataFrame(x)\n",
    "    x.ix[:,63]=np.random.normal(0, 1, x.shape[0])\n",
    "    return y,x\n",
    "\n",
    "y = io13()[0]\n",
    "x = io13()[1]\n",
    "\n",
    "fsr_fast(x,y,0.05,4,1)[0].summary()"
   ]
  },
  {
   "cell_type": "markdown",
   "metadata": {},
   "source": [
    "- Code optimization: too many loops \n",
    "- Programming optimization: vectorize the code and parallize programming\n",
    "- algorithm optimization"
   ]
  },
  {
   "cell_type": "markdown",
   "metadata": {},
   "source": [
    "# Method Comparision : Lasso, Ridge, Forward Selection with BIC"
   ]
  },
  {
   "cell_type": "code",
   "execution_count": 383,
   "metadata": {
    "collapsed": false
   },
   "outputs": [
    {
     "data": {
      "text/plain": [
       "(74,)"
      ]
     },
     "execution_count": 383,
     "metadata": {},
     "output_type": "execute_result"
    }
   ],
   "source": [
    "from sklearn.linear_model import Lasso\n",
    "alpha = 0.5\n",
    "lasso = Lasso(alpha=alpha, tol=0.001)\n",
    "y_coef_lasso = lasso.fit(x, y).coef_\n",
    "y_coef_lasso[np.round(y_coef_lasso,4) != 0].shape\n"
   ]
  },
  {
   "cell_type": "code",
   "execution_count": 384,
   "metadata": {
    "collapsed": false
   },
   "outputs": [
    {
     "data": {
      "text/plain": [
       "(81,)"
      ]
     },
     "execution_count": 384,
     "metadata": {},
     "output_type": "execute_result"
    }
   ],
   "source": [
    "from sklearn.linear_model import Ridge\n",
    "alpha = 0.5\n",
    "ridge = Ridge(alpha=0.5,tol=0.001)\n",
    "y_coef_ridge = ridge.fit(x, y).coef_\n",
    "y_coef_ridge[np.round(y_coef_ridge,3) != 0].shape"
   ]
  },
  {
   "cell_type": "markdown",
   "metadata": {},
   "source": [
    "# Method Assesment and comparison"
   ]
  },
  {
   "cell_type": "markdown",
   "metadata": {},
   "source": [
    "- Comparsion among lasso, fast fsr, ridge and forward selectino with BIC based on two criteria: Model Error Ratio \n",
    "  and False Selection Rate by the simulated data \n",
    "- In this simulation study, I simulated 100 data points with 42 variables. Four models are simulated: H1: all variables are zeros. H2: 6 variables are non-zeros at variables 6–8 and 13–15 with values (9,4,1). H3: 10 variables are non-zeros at variables 5–9 and 12–16 with values (25,16,9,4,1). H4: 14 variables are non-zeros at variables 4–10 and 11–17 with value (49, 36, 25, 16, 9, 4, 1)\n",
    "- Plot the ME and FSR comparison plot for four models"
   ]
  },
  {
   "cell_type": "code",
   "execution_count": 521,
   "metadata": {
    "collapsed": false
   },
   "outputs": [],
   "source": [
    "def ME (method_coef,x,y,n):\n",
    "    me=[]\n",
    "    for i in range(n):\n",
    "        me.append(np.sum((np.dot(method_coef,x.transpose())-y)**2)/150.0)\n",
    "        i = i + 1\n",
    "    return me\n"
   ]
  },
  {
   "cell_type": "code",
   "execution_count": 522,
   "metadata": {
    "collapsed": true
   },
   "outputs": [],
   "source": [
    "# function to find the False Selection Rate  \n",
    "def FSRR (target,method_selected,n):\n",
    "    l=[]\n",
    "    for i in range(n):\n",
    "      I = set(target)&set(method_selected)\n",
    "      l.append((len(method_selected)-len(I))/(1.0+len(method_selected)))\n",
    "      i = i+1\n",
    "    return l"
   ]
  },
  {
   "cell_type": "markdown",
   "metadata": {},
   "source": [
    "#  Parall pragramming"
   ]
  },
  {
   "cell_type": "code",
   "execution_count": 532,
   "metadata": {
    "collapsed": false
   },
   "outputs": [],
   "source": [
    "def pi_multiprocessing1(target,method,n):\n",
    "    \"\"\"Split a job of length n into num_procs pieces.\"\"\"\n",
    "    import multiprocessing\n",
    "    m = multiprocessing.cpu_count()\n",
    "    pool = multiprocessing.Pool(m)\n",
    "    mapfunc = partial(FSRR, target,method)\n",
    "    results = pool.map(mapfunc,[n/m]*m)\n",
    "    pool.close()\n",
    "    return np.mean(results)\n"
   ]
  },
  {
   "cell_type": "code",
   "execution_count": 535,
   "metadata": {
    "collapsed": true
   },
   "outputs": [],
   "source": [
    "def pi_multiprocessing2(ME,method_coef,x,y,n):\n",
    "    \"\"\"Split a job of length n into num_procs pieces.\"\"\"\n",
    "    m = multiprocessing.cpu_count()\n",
    "    pool = multiprocessing.Pool(m)\n",
    "    mapfunc = partial(ME,method_coef,x,y)\n",
    "    results = pool.map(mapfunc,[n/m]*m)\n",
    "    pool.close()\n",
    "    return np.mean(results),min(min(results))"
   ]
  },
  {
   "cell_type": "code",
   "execution_count": 549,
   "metadata": {
    "collapsed": false
   },
   "outputs": [
    {
     "name": "stdout",
     "output_type": "stream",
     "text": [
      "LASSO FSR is 0.5\n",
      "(2.0702594030887242, 2.0702594030883468)\n",
      "LASSO ME is 1.0\n",
      "FAST FSR is 0\n"
     ]
    }
   ],
   "source": [
    "# Simulate the data set under model 1\n",
    "x = pd.DataFrame(np.random.normal(1, 1, 21*150).reshape(150,21))\n",
    "y = np.random.normal(1, 1, 150)\n",
    "quad1 = (x.ix[:,0:20])**2\n",
    "x = np.concatenate((x,quad1),axis=1)\n",
    "x = pd.DataFrame(x)\n",
    "\n",
    "alpha = 0.5\n",
    "lasso = Lasso(alpha=alpha, tol=0.001)\n",
    "y_coef_lasso = lasso.fit(x, y).coef_\n",
    "lasso_index = np.where(y_coef_lasso != 0)[0]+1\n",
    "\n",
    "\n",
    "\n",
    "target =[]\n",
    "print \"LASSO FSR is\",pi_multiprocessing1(target,lasso_index,n)\n",
    "me_r = pi_multiprocessing2(ME,y_coef_lasso,x,y,n)\n",
    "print me_r\n",
    "print \"LASSO ME is\",me_r[1]/me_r[0]\n",
    "print \"FAST FSR is\",fsr_fast(x,y,0.05,4,0)[2]"
   ]
  },
  {
   "cell_type": "code",
   "execution_count": 541,
   "metadata": {
    "collapsed": false
   },
   "outputs": [
    {
     "name": "stdout",
     "output_type": "stream",
     "text": [
      "LASSO FSR is 0.642857142857\n",
      "LASSO ME is (13.000121257981803, 13.000121257975911)\n",
      "FAST FSR is 0.125\n"
     ]
    }
   ],
   "source": [
    "# Simulate the data under model 2 6–8 and 13–15\n",
    "x = pd.DataFrame(np.random.normal(1, 1, 21*150).reshape(150,21))\n",
    "y = 9*x.ix[:,5]+4*x.ix[:,6]+x.ix[:,7]+9*x.ix[:,12]+4*x.ix[:,13]+x.ix[:,14]\n",
    "quad2 = (x.ix[:,0:20])**2\n",
    "x = np.concatenate((x,quad2),axis=1)\n",
    "x = pd.DataFrame(x)\n",
    "\n",
    "alpha = 0.5\n",
    "lasso = Lasso(alpha=alpha, tol=0.001)\n",
    "y_coef_lasso = lasso.fit(x, y).coef_\n",
    "lasso_index = np.where(y_coef_lasso != 0)[0]+1\n",
    "\n",
    "n = int(1e5)\n",
    "target = [6,7,8,13,14,15]\n",
    "\n",
    "print \"LASSO FSR is\",pi_multiprocessing1(target,lasso_index,n) ##parallel programming 100 times then average\n",
    "print \"LASSO ME is\",pi_multiprocessing2(ME,y_coef_lasso,x,y,n)\n",
    "print \"FAST FSR is\",pi_multiprocessing1(target,fsr_fast(x,y,0.05,4,0)[2],n)"
   ]
  },
  {
   "cell_type": "code",
   "execution_count": 542,
   "metadata": {
    "collapsed": false
   },
   "outputs": [
    {
     "name": "stdout",
     "output_type": "stream",
     "text": [
      "LASSO FSR is 0.52380952381\n",
      "LASSO ME is (42.660467129209579, 42.66046712920339)\n",
      "FAST FSR is 0.0833333333333\n"
     ]
    }
   ],
   "source": [
    "# Simulate the data under model 3 5–9 and 12–16 \n",
    "x = pd.DataFrame(np.random.normal(1, 1, 21*150).reshape(150,21))\n",
    "y = 25*x.ix[:,4]+16*x.ix[:,5]+9*x.ix[:,6]+4*x.ix[:,7]+1*x.ix[:,8]+25*x.ix[:,11]+16*x.ix[:,12]+9*x.ix[:,13]+4*x.ix[:,14]+1*x.ix[:,15]\n",
    "quad3 = (x.ix[:,0:20])**2\n",
    "x = np.concatenate((x,quad3),axis=1)\n",
    "x = pd.DataFrame(x)\n",
    "\n",
    "\n",
    "alpha = 0.5\n",
    "lasso = Lasso(alpha=alpha, tol=0.001)\n",
    "y_coef_lasso = lasso.fit(x, y).coef_\n",
    "lasso_index = np.where(y_coef_lasso != 0)[0]+1\n",
    "\n",
    "\n",
    "\n",
    "n = int(1e5)\n",
    "target = [5,6,7,8,9,12,13,14,15,16]\n",
    "print \"LASSO FSR is\",pi_multiprocessing1(target,lasso_index,n) ##parallel programming 100 times then average\n",
    "print \"LASSO ME is\",pi_multiprocessing2(ME,y_coef_lasso,x,y,n)\n",
    "print \"FAST FSR is\",pi_multiprocessing1(target,fsr_fast(x,y,0.05,4,0)[2],n)"
   ]
  },
  {
   "cell_type": "code",
   "execution_count": 548,
   "metadata": {
    "collapsed": false
   },
   "outputs": [
    {
     "name": "stdout",
     "output_type": "stream",
     "text": [
      "LASSO FSR is 0.518518518519\n",
      "LASSO ME is (123.85160024467945, 123.85160024465611)\n",
      "FAST FSR is 0.125\n"
     ]
    }
   ],
   "source": [
    "# Simulate the data under model 4  4–10 and 11–17 \n",
    "x = pd.DataFrame(np.random.normal(1, 1, 21*150).reshape(150,21))\n",
    "y = 45*x.ix[:,3]+36*x.ix[:,4]+25*x.ix[:,5]+16*x.ix[:,6]+9*x.ix[:,7]+4*x.ix[:,8]+x.ix[:,9]+45*x.ix[:,10]+36*x.ix[:,11]+25*x.ix[:,12]+16*x.ix[:,13]+9*x.ix[:,14]+4*x.ix[:,15]+x.ix[:,16]\n",
    "quad4 = (x.ix[:,0:20])**2\n",
    "x = np.concatenate((x,quad4),axis=1)\n",
    "x = pd.DataFrame(x) \n",
    "\n",
    "alpha = 0.5\n",
    "lasso = Lasso(alpha=alpha, tol=0.001)\n",
    "y_coef_lasso = lasso.fit(x, y).coef_\n",
    "lasso_index = np.where(y_coef_lasso != 0)[0]+1\n",
    "\n",
    "n = int(1e5)\n",
    "target = [4,5,6,7,8,9,10,11,12,13,14,15,16]\n",
    "print \"LASSO FSR is\",pi_multiprocessing1(target,lasso_index,n) ##parallel programming 100000 times then average\n",
    "print \"LASSO ME is\",pi_multiprocessing2(ME,y_coef_lasso,x,y,n)\n",
    "print \"FAST FSR is\",pi_multiprocessing1(target,fsr_fast(x,y,0.05,4,0)[2],n)"
   ]
  },
  {
   "cell_type": "markdown",
   "metadata": {},
   "source": [
    "# Profiling the Functions and Optimizing the code by parall pragramming "
   ]
  },
  {
   "cell_type": "code",
   "execution_count": 547,
   "metadata": {
    "collapsed": false
   },
   "outputs": [
    {
     "name": "stdout",
     "output_type": "stream",
     "text": [
      "1 loops, best of 3: 426 ms per loop\n",
      "1 loops, best of 3: 809 ms per loop\n"
     ]
    },
    {
     "name": "stderr",
     "output_type": "stream",
     "text": [
      "Exception in thread Thread-1201:\n",
      "Traceback (most recent call last):\n",
      "  File \"/home/bitnami/anaconda/lib/python2.7/threading.py\", line 810, in __bootstrap_inner\n",
      "    self.run()\n",
      "  File \"/home/bitnami/anaconda/lib/python2.7/site-packages/zmq/utils/garbage.py\", line 34, in run\n",
      "    s.bind(self.gc.url)\n",
      "  File \"socket.pyx\", line 444, in zmq.backend.cython.socket.Socket.bind (zmq/backend/cython/socket.c:4076)\n",
      "  File \"checkrc.pxd\", line 21, in zmq.backend.cython.checkrc._check_rc (zmq/backend/cython/socket.c:6032)\n",
      "ZMQError: Address already in use\n"
     ]
    }
   ],
   "source": [
    "n = int(1e5)\n",
    "%timeit pi_multiprocessing1(target,lasso_index,n)\n",
    "%timeit np.mean(FSRR(target,lasso_index,n))"
   ]
  },
  {
   "cell_type": "code",
   "execution_count": 546,
   "metadata": {
    "collapsed": false
   },
   "outputs": [],
   "source": [
    "! pip install --pre line-profiler &> /dev/null\n",
    "! pip install psutil &> /dev/null\n",
    "! pip install memory_profiler &> /dev/null"
   ]
  },
  {
   "cell_type": "code",
   "execution_count": 83,
   "metadata": {
    "collapsed": false
   },
   "outputs": [
    {
     "name": "stdout",
     "output_type": "stream",
     "text": [
      "1 loops, best of 1: 143 ms per loop\n",
      "1 loops, best of 1: 29 ms per loop\n"
     ]
    }
   ],
   "source": [
    "%timeit -r1 -n1 fsr_fast(x,y,.05,4,0)\n",
    "%timeit -r1 -n1 io13(interaction)"
   ]
  },
  {
   "cell_type": "code",
   "execution_count": 85,
   "metadata": {
    "collapsed": false
   },
   "outputs": [
    {
     "name": "stdout",
     "output_type": "stream",
     "text": [
      "          132355 function calls (132010 primitive calls) in 0.169 seconds\n",
      "\n",
      "   Ordered by: internal time\n",
      "   List reduced from 458 to 10 due to restriction <10>\n",
      "\n",
      "   ncalls  tottime  percall  cumtime  percall filename:lineno(function)\n",
      "      166    0.024    0.000    0.060    0.000 doccer.py:12(docformat)\n",
      "      168    0.016    0.000    0.018    0.000 numpy2ri.py:42(numpy2ri)\n",
      "       86    0.016    0.000    0.016    0.000 {sum}\n",
      "     5146    0.011    0.000    0.011    0.000 {method 'expandtabs' of 'str' objects}\n",
      "       85    0.008    0.000    0.008    0.000 {method 'rcall' of 'rpy2.rinterface.SexpClosure' objects}\n",
      "      166    0.008    0.000    0.012    0.000 doccer.py:128(indentcount_lines)\n",
      "     5146    0.007    0.000    0.007    0.000 {method 'splitlines' of 'str' objects}\n",
      "        1    0.006    0.006    0.049    0.049 functions.py:95(__call__)\n",
      "    50400    0.004    0.000    0.004    0.000 {method 'append' of 'list' objects}\n",
      "       83    0.003    0.000    0.087    0.001 _distn_infrastructure.py:1395(__init__)\n",
      "\n",
      "\n"
     ]
    },
    {
     "data": {
      "text/plain": [
       "<pstats.Stats instance at 0x7f06f3183dd0>"
      ]
     },
     "execution_count": 85,
     "metadata": {},
     "output_type": "execute_result"
    }
   ],
   "source": [
    "stat = %prun -r -q fsr_fast(x,y,.05,4,0)\n",
    "stat.sort_stats('time').print_stats(10)"
   ]
  },
  {
   "cell_type": "code",
   "execution_count": 86,
   "metadata": {
    "collapsed": false
   },
   "outputs": [
    {
     "name": "stdout",
     "output_type": "stream",
     "text": [
      "         132355 function calls (132010 primitive calls) in 0.169 seconds\n",
      "\n",
      "   Ordered by: internal time\n",
      "   List reduced from 458 to 1 due to restriction <'ipython'>\n",
      "\n",
      "   ncalls  tottime  percall  cumtime  percall filename:lineno(function)\n",
      "        1    0.002    0.002    0.179    0.179 <ipython-input-75-5fd1a2e39ab4>:2(fsr_fast)\n",
      "\n",
      "\n"
     ]
    },
    {
     "data": {
      "text/plain": [
       "<pstats.Stats instance at 0x7f06f3183dd0>"
      ]
     },
     "execution_count": 86,
     "metadata": {},
     "output_type": "execute_result"
    }
   ],
   "source": [
    "stat.sort_stats('time').print_stats(r'ipython')"
   ]
  },
  {
   "cell_type": "code",
   "execution_count": 88,
   "metadata": {
    "collapsed": false
   },
   "outputs": [],
   "source": [
    "%load_ext memory_profiler"
   ]
  },
  {
   "cell_type": "code",
   "execution_count": 89,
   "metadata": {
    "collapsed": false
   },
   "outputs": [
    {
     "name": "stdout",
     "output_type": "stream",
     "text": [
      "peak memory: 188.52 MiB, increment: 0.02 MiB\n"
     ]
    }
   ],
   "source": [
    "%memit fsr_fast(x,y,.05,4,0)"
   ]
  },
  {
   "cell_type": "markdown",
   "metadata": {},
   "source": [
    "- 1.how to improve the input reading speed? necessary use numpy.load or not?\n",
    "- 2.how to detect which part should be improved? based on my running time for the functions\n",
    "- 3.does my memory use too much memory for the data?\n",
    "- 4.comparision : glmnet result lasso julia?\n",
    "- 5.one column covariance equals to zero.....add random value to it....?\n",
    "- 6.julia? can i solve it????"
   ]
  },
  {
   "cell_type": "markdown",
   "metadata": {
    "collapsed": false
   },
   "source": [
    "# Draft of Make Files:\n",
    "\n"
   ]
  },
  {
   "cell_type": "markdown",
   "metadata": {},
   "source": [
    "- make -f MyMakefile\n",
    "- target: dependencies\n",
    "- make -f Makefile-1"
   ]
  },
  {
   "cell_type": "code",
   "execution_count": null,
   "metadata": {
    "collapsed": true
   },
   "outputs": [],
   "source": []
  }
 ],
 "metadata": {
  "kernelspec": {
   "display_name": "Python 2",
   "language": "python",
   "name": "python2"
  },
  "language_info": {
   "codemirror_mode": {
    "name": "ipython",
    "version": 2
   },
   "file_extension": ".py",
   "mimetype": "text/x-python",
   "name": "python",
   "nbconvert_exporter": "python",
   "pygments_lexer": "ipython2",
   "version": "2.7.9"
  }
 },
 "nbformat": 4,
 "nbformat_minor": 0
}
