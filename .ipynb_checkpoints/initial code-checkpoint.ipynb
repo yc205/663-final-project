{
 "metadata": {
  "name": "",
  "signature": "sha256:bb6821ffebe0d4838532b411d96bcb19e182afb3e2c8774939cd6c6d3597b1cd"
 },
 "nbformat": 3,
 "nbformat_minor": 0,
 "worksheets": [
  {
   "cells": [
    {
     "cell_type": "code",
     "collapsed": false,
     "input": [
      "import os\n",
      "import sys\n",
      "import glob\n",
      "import matplotlib.pyplot as plt\n",
      "import numpy as np\n",
      "import pandas as pd\n",
      "%matplotlib inline\n",
      "%precision 4"
     ],
     "language": "python",
     "metadata": {},
     "outputs": []
    },
    {
     "cell_type": "code",
     "collapsed": false,
     "input": [
      "%load_ext rpy2.ipython\n",
      "from rpy2.robjects.packages import importr\n",
      "p1=importr('leaps')\n",
      "p2=importr('stats')\n"
     ],
     "language": "python",
     "metadata": {},
     "outputs": []
    },
    {
     "cell_type": "code",
     "collapsed": false,
     "input": [
      "# Wrote the source data\n",
      "df = pd.read_csv('ncaa.data2.txt',delim_whitespace=True)\n",
      "df.head()\n",
      "x = df.ix[:,0:19]\n",
      "y = df.ix[:,19]\n",
      "# get rid of na's since regsubsets can't handle na's\n",
      "x = x.dropna()\n",
      "y = y.dropna()\n",
      "\n",
      "m = x.shape[1]\n",
      "n = x.shape[0]\n",
      "if(m >= n): \n",
      "   m1=n-5  \n",
      "else: \n",
      "   m1=m \n",
      "vm = range(m1)\n",
      "# if only partially named columns corrects for no colnames\n",
      "pvm = [0] * m1\n"
     ],
     "language": "python",
     "metadata": {},
     "outputs": []
    },
    {
     "cell_type": "code",
     "collapsed": false,
     "input": [
      "%%R -i x,y,vm -o out_x\n",
      "require(leaps)\n",
      "regsubsets(x,y,method=\"forward\")->out_x\n"
     ],
     "language": "python",
     "metadata": {},
     "outputs": []
    },
    {
     "cell_type": "code",
     "collapsed": false,
     "input": [
      "rss = out_x[9]\n",
      "nn = out_x[26][0]\n",
      "q = [(rss[i]-rss[i+1])*(nn-i-1)/rss[i+1] for i in range(len(rss)-1)]\n",
      "import scipy.stats as ss\n",
      "rvf = [ ss.f(1,nn-i-1)  for i in range(len(rss)-1)]\n",
      "orig =  [round(rvf[i].pdf(q[i]),5) for i in range(len(rss)-1)]\n",
      "# sequential max of pvalues\n",
      "for i in range(m1):\n",
      "  pvm[i] = max(orig[0:i+1])\n",
      "alpha = [0]+pvm\n",
      "ng = len(alpha)\n",
      "# will contain num. of true entering in orig\n",
      "S = [0] * ng\n",
      "# loop through alpha values for S=size                        \n",
      "for ia in range(1,ng):                   \n",
      "  S[ia] = sum([pvm[i] <= alpha[ia] for i in range(len(pvm))])        # size of models at alpha[ia], S[1]=0\n",
      "ghat = [(m-S[i])*alpha[i]/(1+S[i]) for i in range(len(alpha))]              # gammahat_ER\n",
      "# add additional points to make jumps\n",
      "print ghat\n"
     ],
     "language": "python",
     "metadata": {},
     "outputs": []
    }
   ],
   "metadata": {}
  }
 ]
}