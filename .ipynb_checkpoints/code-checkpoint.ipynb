{
 "metadata": {
  "name": "",
  "signature": "sha256:1f154ffbe722baff6a8d3ab05480c4a345fa057ee50d937812b32aaf0d1c505d"
 },
 "nbformat": 3,
 "nbformat_minor": 0,
 "worksheets": []
}