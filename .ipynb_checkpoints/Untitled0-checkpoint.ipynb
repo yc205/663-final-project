{
 "metadata": {
  "name": "",
  "signature": "sha256:c002dd61232ad246e2184df4e961f4091891ad21fb3f508c33453c7f920f63d0"
 },
 "nbformat": 3,
 "nbformat_minor": 0,
 "worksheets": []
}