{
 "metadata": {
  "name": "",
  "signature": "sha256:861d1f378f2216fe5eb9e6d6caf173c4bec8f8af128ddf965c7eeaf272988678"
 },
 "nbformat": 3,
 "nbformat_minor": 0,
 "worksheets": [
  {
   "cells": [
    {
     "cell_type": "code",
     "collapsed": false,
     "input": [
      "import os\n",
      "import sys\n",
      "import glob\n",
      "import matplotlib.pyplot as plt\n",
      "import numpy as np\n",
      "import pandas as pd\n",
      "from scipy import stats\n",
      "import statsmodels.api as sm\n",
      "%matplotlib inline\n",
      "%precision 4"
     ],
     "language": "python",
     "metadata": {},
     "outputs": [
      {
       "metadata": {},
       "output_type": "pyout",
       "prompt_number": 2,
       "text": [
        "u'%.4f'"
       ]
      }
     ],
     "prompt_number": 2
    },
    {
     "cell_type": "code",
     "collapsed": false,
     "input": [
      "%load_ext rpy2.ipython\n",
      "from rpy2.robjects.packages import importr\n",
      "p1=importr('leaps')\n",
      "p2=importr('stats')"
     ],
     "language": "python",
     "metadata": {},
     "outputs": [],
     "prompt_number": 3
    },
    {
     "cell_type": "code",
     "collapsed": false,
     "input": [
      "# Wrote the source data\n",
      "df = pd.read_csv('ncaa.data2.txt',delim_whitespace=True)\n",
      "df.head()\n",
      "x = df.ix[:,0:19]\n",
      "y = df.ix[:,19]"
     ],
     "language": "python",
     "metadata": {},
     "outputs": [],
     "prompt_number": 4
    },
    {
     "cell_type": "code",
     "collapsed": false,
     "input": [
      "def fsr_fast(x,y,gam0=.05,digits=4):\n",
      " # get rid of na's since regsubsets can't handle na's\n",
      " x = x.dropna()\n",
      " y = y.dropna()\n",
      " m = x.shape[1]\n",
      " n = x.shape[0]\n",
      " if(m >= n): \n",
      "    m1=n-5  \n",
      " else: \n",
      "    m1=m \n",
      " vm = range(m1)\n",
      "  # if only partially named columns corrects for no colnames\n",
      " pvm = [0] * m1\n",
      " out_x = p1.regsubsets(x,y,method=\"forward\")  \n",
      " rss = out_x[9]\n",
      " nn = out_x[26][0]\n",
      " q = [(rss[i]-rss[i+1])*(nn-i-2)/rss[i+1] for i in range(len(rss)-1)]\n",
      " import scipy.stats as ss\n",
      " rvf = [ ss.f(1,nn-i-2)  for i in range(len(rss)-1)]\n",
      " orig =  [1-rvf[i].cdf(q[i]) for i in range(len(rss)-1)]\n",
      "\n",
      " # sequential max of pvalues\n",
      " for i in range(m1):\n",
      "   pvm[i] = max(orig[0:i+1])\n",
      " alpha = [0]+pvm\n",
      " ng = len(alpha)\n",
      " # will contain num. of true entering in orig\n",
      " S = [0] * ng\n",
      " # loop through alpha values for S=size                        \n",
      " for ia in range(1,ng):                   \n",
      "   S[ia] = sum([pvm[i] <= alpha[ia] for i in range(len(pvm))])        # size of models at alpha[ia], S[1]=0\n",
      " ghat = [(m-S[i])*alpha[i]/(1+S[i]) for i in range(len(alpha))]              # gammahat_ER \n",
      " # add additional points to make jumps\n",
      " alpha2 = np.array(alpha[1:ng])-.0000001\n",
      " ghat2 = ((m-np.array(S[0:(ng-1)]))*alpha2)/(1+np.array(S[0:(ng-1)]))\n",
      " a= alpha+list(alpha2)\n",
      " g=ghat + list(ghat2)\n",
      " zp = {'a' : a,\n",
      "     'g' : g}\n",
      " zp = pd.DataFrame(zp)  \n",
      " zp=np.array(zp)[np.argsort(zp.a)]\n",
      " index_max= np.argmax(zp[:,1])\n",
      " alphamax=zp[:,0][index_max]\n",
      " ind = [0]*len(ghat)\n",
      " ind = [ 1 if ghat[i]<gam0 and alpha[i]<=alphamax else 0 for i in range(len(ghat))]\n",
      " Sind = S[np.max(np.where(np.array(ind)>0))]\n",
      " alphahat_fast = (1+Sind)*gam0/(m-Sind)\n",
      " size1=np.sum(np.array(pvm)<=alphahat_fast)+1\n",
      " x=x[list(x.columns.values[list((np.array(out_x[7])-2)[1:size1])])]\n",
      " if(size1>1): \n",
      "   x_ind=(np.array(out_x[7])-1)[1:size1]\n",
      " else:\n",
      "   x_ind=0\n",
      " if (size1==1):\n",
      "    mod = np.mean(y)\n",
      " else:\n",
      "    mod = sm.OLS(y, x).fit()\n",
      " ghat4=(m-size1+1)*np.array(alpha)/(1+np.array(range(m+1)))\n",
      " plt.axis([0,alphamax+0.01,0,0.2]) \n",
      " plt.plot(zp[:,0],zp[:,1],'bo',color='red')\n",
      " plt.plot([alphahat_fast], [gam0], 'g.', markersize=20.0)\n",
      " plt.xlabel('Alpha')\n",
      " plt.ylabel('Estimated Gamma')\n",
      " plt.axvspan(xmin=0, xmax=alphahat_fast, ymin=0, ymax=gam0)\n",
      " return \"fdsfd\""
     ],
     "language": "python",
     "metadata": {},
     "outputs": [],
     "prompt_number": 5
    },
    {
     "cell_type": "code",
     "collapsed": false,
     "input": [
      "%timeit fsr_fast(x,y,gam0=.05,digits=4)"
     ],
     "language": "python",
     "metadata": {},
     "outputs": [
      {
       "output_type": "stream",
       "stream": "stdout",
       "text": [
        "10 loops, best of 3: 36.6 ms per loop\n"
       ]
      },
      {
       "metadata": {},
       "output_type": "display_data",
       "png": "[encoded data removed]",
       "text": [
        "<matplotlib.figure.Figure at 0x7fd6b38a7390>"
       ]
      }
     ],
     "prompt_number": 6
    },
    {
     "cell_type": "markdown",
     "metadata": {},
     "source": [
      "- Code optimization: too many loops \n",
      "- Programming optimization: vectorize the code and parallize programming\n",
      "- algorithm optimization"
     ]
    },
    {
     "cell_type": "code",
     "collapsed": false,
     "input": [],
     "language": "python",
     "metadata": {},
     "outputs": []
    }
   ],
   "metadata": {}
  }
 ]
}