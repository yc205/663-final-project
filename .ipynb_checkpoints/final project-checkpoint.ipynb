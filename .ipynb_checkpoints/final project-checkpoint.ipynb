{
 "metadata": {
  "name": "",
  "signature": "sha256:499eb4731a072e86bc0a27337fc24670680a91cef951c660716b95d3fe0e868d"
 },
 "nbformat": 3,
 "nbformat_minor": 0,
 "worksheets": [
  {
   "cells": [
    {
     "cell_type": "code",
     "collapsed": false,
     "input": [
      "lnagjxo4"
     ],
     "language": "python",
     "metadata": {},
     "outputs": []
    }
   ],
   "metadata": {}
  }
 ]
}