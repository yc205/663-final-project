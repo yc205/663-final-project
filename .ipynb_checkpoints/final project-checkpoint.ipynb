{
 "metadata": {
  "name": "",
  "signature": "sha256:dce5765950b45639a10c79d6c6441ed73ce07b90ab282dc1985aeff6847b0969"
 },
 "nbformat": 3,
 "nbformat_minor": 0,
 "worksheets": [
  {
   "cells": [
    {
     "cell_type": "heading",
     "level": 2,
     "metadata": {},
     "source": [
      "Paper Selected: "
     ]
    },
    {
     "cell_type": "markdown",
     "metadata": {},
     "source": [
      "\"Fast FSR Variable Selection with Applications to Clinical Trials\" written by Yujun Wu, Leonard A. Stefanski \n",
      "and Dennis D. Boos in 2009. "
     ]
    },
    {
     "cell_type": "heading",
     "level": 2,
     "metadata": {},
     "source": [
      "Outline"
     ]
    },
    {
     "cell_type": "markdown",
     "metadata": {},
     "source": [
      "Summary:\n",
      "    \n",
      "    In this paper, the fast FSR variable selection algorithm will be implemented and applied to the NCAA data which is provided by the \"Boos-Stefanski Variable Selection Home\" http://www4.stat.ncsu.edu/~boos/var.select/ncaa.data.orig.txt. I will reivewed two literatures before implementing algorithms in this paper. Then, I will presents simulation results and the results of the real data set. I will try some methods in improving the algorithm efficiency or using the multiple cores for saving the execution time. Furthermore, I will compare the other variable selection method, such as LASSO and stepwise and compare the method in prediction performance. \n",
      "\n",
      "Literature Reivew: \n",
      "     \n",
      "     This paper is published in 2009. There are two other papers should be reviewed before implementing this algorithm. One is the 2004 dissertation of Yujun Wu http://repository.lib.ncsu.edu/ir/bitstream/1840.16/5883/1/etd.pdf. The other is 2007 paper Wu, Boos, and Stefanski (2007) \"Controlling Variable Selection by the Addition of Pseudovariables,\" Journal of the American Statistical Association, No. 477, p. 235-243.\n",
      "\n",
      "Data Used: Full data set NCAA data is the and the test data set are available at\n",
      "http://www4.stat.ncsu.edu/~boos/var.select/ncaa.html\n",
      "http://www4.stat.ncsu.edu/~boos/var.select/ncaa.data2.txt\n",
      "                    "
     ]
    },
    {
     "cell_type": "code",
     "collapsed": false,
     "input": [],
     "language": "python",
     "metadata": {},
     "outputs": [],
     "prompt_number": 2
    },
    {
     "cell_type": "code",
     "collapsed": false,
     "input": [],
     "language": "python",
     "metadata": {},
     "outputs": []
    }
   ],
   "metadata": {}
  }
 ]
}