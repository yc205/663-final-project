{
 "cells": [
  {
   "cell_type": "code",
   "execution_count": 240,
   "metadata": {
    "collapsed": false
   },
   "outputs": [
    {
     "data": {
      "text/plain": [
       "u'%.4f'"
      ]
     },
     "execution_count": 240,
     "metadata": {},
     "output_type": "execute_result"
    }
   ],
   "source": [
    "import os\n",
    "import sys\n",
    "import glob\n",
    "import matplotlib.pyplot as plt\n",
    "import numpy as np\n",
    "import pandas as pd\n",
    "from scipy import stats\n",
    "import statsmodels.api as sm\n",
    "import scipy.stats as ss\n",
    "from functools import partial\n",
    "from pandas import Series, DataFrame, Panel\n",
    "%matplotlib inline\n",
    "%precision 4"
   ]
  },
  {
   "cell_type": "code",
   "execution_count": 241,
   "metadata": {
    "collapsed": false
   },
   "outputs": [
    {
     "name": "stdout",
     "output_type": "stream",
     "text": [
      "The rpy2.ipython extension is already loaded. To reload it, use:\n",
      "  %reload_ext rpy2.ipython\n"
     ]
    }
   ],
   "source": [
    "%load_ext rpy2.ipython\n",
    "from rpy2.robjects.packages import importr\n",
    "p1=importr('leaps')\n",
    "p2=importr('stats')"
   ]
  },
  {
   "cell_type": "code",
   "execution_count": 239,
   "metadata": {
    "collapsed": true
   },
   "outputs": [],
   "source": [
    "def io13():\n",
    "    \"\"\"Numpy loadtxt.\"\"\"\n",
    "    df = pd.read_csv('actg.175.trt0.txt',delim_whitespace=True)\n",
    "    x = DataFrame(df, columns = ['cd40','cd80','age','wtkg','karnof','hemo','homo','drugs','race','gender','str2','symptom'])\n",
    "    y = df.ix[:,2]\n",
    "    x_15 = x.ix[:,0:5]\n",
    "    x.ix[:,0:5] = x_15-x_15.mean()\n",
    "    quadratic = (x.ix[:,0:5])**2\n",
    "    count=-1\n",
    "    new = np.zeros(shape=(df.shape[0],66))\n",
    "    for i in range(x.shape[1]):\n",
    "      for j in range(i+1,x.shape[1]):\n",
    "           count = count+1\n",
    "           new[:,count] = x.ix[:,i] * x.ix[:,j]\n",
    "    X = DataFrame(df, columns = ['hemo','homo','drugs','race','gender','str2','symptom'])\n",
    "    x = np.concatenate((x_15,X,quadratic,new),axis=1)\n",
    "    x = pd.DataFrame(x)\n",
    "    x.ix[:,63]=np.random.normal(0, 1, x.shape[0])\n",
    "    return y,x\n",
    "\n",
    "y = io13()[0]\n",
    "x = io13()[1]"
   ]
  },
  {
   "cell_type": "markdown",
   "metadata": {},
   "source": [
    "# FSR Function Code"
   ]
  },
  {
   "cell_type": "code",
   "execution_count": 234,
   "metadata": {
    "collapsed": false
   },
   "outputs": [],
   "source": [
    "\n",
    "def fsr_fast(x,y,gam0,digits,pl):\n",
    "    m = x.shape[1]\n",
    "    n = x.shape[0]\n",
    "    if(m >= n): \n",
    "        m1=n-5  \n",
    "    else: \n",
    "        m1=m \n",
    "    vm = range(m1)\n",
    "  # if only partially named columns corrects for no colnames\n",
    "    pvm = [0] * m1\n",
    "    out_x = p1.regsubsets(x,y,method=\"forward\")  \n",
    "    rss = out_x[9]\n",
    "    nn = out_x[26][0]\n",
    "    q = [(rss[i]-rss[i+1])*(nn-i-2)/rss[i+1] for i in range(len(rss)-1)]\n",
    "    rvf = [ ss.f(1,nn-i-2)  for i in range(len(rss)-1)]\n",
    "    orig =  [1-rvf[i].cdf(q[i]) for i in range(len(rss)-1)]\n",
    "\n",
    " # sequential max of pvalues\n",
    "    for i in range(m1):\n",
    "        pvm[i] = max(orig[0:i+1])\n",
    "    alpha = [0]+pvm\n",
    "    ng = len(alpha)\n",
    " # will contain num. of true entering in orig\n",
    "    S = [0] * ng\n",
    " # loop through alpha values for S=size                        \n",
    "    for ia in range(1,ng):                   \n",
    "        S[ia] = sum([pvm[i] <= alpha[ia] for i in range(len(pvm))])        # size of models at alpha[ia], S[1]=0\n",
    "    ghat = [(m-S[i])*alpha[i]/(1+S[i]) for i in range(len(alpha))]              # gammahat_ER \n",
    " # add additional points to make jumps\n",
    "    alpha2 = np.array(alpha[1:ng])-.0000001\n",
    "    ghat2 = ((m-np.array(S[0:(ng-1)]))*alpha2)/(1+np.array(S[0:(ng-1)]))\n",
    "    a= alpha+list(alpha2)\n",
    "    g=ghat + list(ghat2)\n",
    "    zp = {'a' : a,\n",
    "     'g' : g}\n",
    "    zp = pd.DataFrame(zp)  \n",
    "    zp=np.array(zp)[np.argsort(zp.a)]\n",
    "    index_max= np.argmax(zp[:,1])\n",
    "    alphamax=zp[:,0][index_max]\n",
    "    ind = [0]*len(ghat)\n",
    "    ind = [ 1 if ghat[i]<gam0 and alpha[i]<=alphamax else 0 for i in range(len(ghat))]\n",
    "    Sind = S[np.max(np.where(np.array(ind)>0))]\n",
    "    alphahat_fast = (1+Sind)*gam0/(m-Sind)\n",
    "    size1=np.sum(np.array(pvm)<=alphahat_fast)+1\n",
    "    x=x[list(x.columns.values[list((np.array(out_x[7])-2)[1:size1])])]\n",
    "    x=sm.add_constant(x)\n",
    "    if(size1>1): \n",
    "        x_ind=(np.array(out_x[7])-1)[1:size1]\n",
    "    else:\n",
    "        x_ind=0\n",
    "    if (size1==1):\n",
    "        mod = np.mean(y)\n",
    "    else:\n",
    "        mod = sm.OLS(y, x).fit()\n",
    "    ghat4=(m-size1+1)*np.array(alpha)/(1+np.array(range(m+1)))\n",
    " #plt.axis([0,alphamax,0,1.4]) \n",
    "    if pl == 1:\n",
    "        plt.plot(zp[:,0],zp[:,1],'bo',color='red')\n",
    "        plt.plot([alphahat_fast], [gam0], 'g.', markersize=20.0)\n",
    "        plt.xlabel('Alpha')\n",
    "        plt.ylabel('Estimated Gamma')\n",
    "        plt.axvspan(xmin=-0.1, xmax=alphahat_fast, ymin=0, ymax=0.18)\n",
    "    return mod,size1-1,x_ind,alphahat_fast"
   ]
  },
  {
   "cell_type": "markdown",
   "metadata": {},
   "source": [
    "# Bagging FSR"
   ]
  },
  {
   "cell_type": "code",
   "execution_count": 109,
   "metadata": {
    "collapsed": false
   },
   "outputs": [],
   "source": [
    "x = pd.DataFrame(np.random.normal(1, 1, 21*150).reshape(150,21))\n",
    "y = 9*x.ix[:,5]+4*x.ix[:,6]+x.ix[:,7]+9*x.ix[:,12]+4*x.ix[:,13]+x.ix[:,14]\n",
    "quad2 = x**2\n",
    "x = np.concatenate((x,quad2),axis=1)\n",
    "x = pd.DataFrame(x)"
   ]
  },
  {
   "cell_type": "code",
   "execution_count": 110,
   "metadata": {
    "collapsed": false
   },
   "outputs": [],
   "source": [
    "gam0=0.5\n",
    "digits = 4\n",
    "pl=1\n",
    "B =100\n",
    "m = x.shape[1]\n",
    "n = x.shape[0]\n",
    "hold = np.zeros((m,B))      # holds coefficients\\\n",
    "hold = pd.DataFrame(hold)\n",
    "interc = [0] * B                  # holds intercepts\n",
    "alphahat = [0] * B                    # holds alphahats\n",
    "size = [0] * B\n",
    "\n"
   ]
  },
  {
   "cell_type": "code",
   "execution_count": 227,
   "metadata": {
    "collapsed": false
   },
   "outputs": [
    {
     "name": "stdout",
     "output_type": "stream",
     "text": [
      "14\n",
      "12\n",
      "19\n",
      "14\n",
      "19\n",
      "16\n",
      "15\n",
      "15\n",
      "13\n",
      "19\n",
      "19\n",
      "12\n",
      "10\n",
      "15\n",
      "19\n",
      "16\n",
      "19\n",
      "16\n",
      "19\n",
      "16\n",
      "19\n",
      "19\n",
      "19\n",
      "16\n",
      "18\n",
      "13\n",
      "19\n",
      "18\n",
      "16\n",
      "14\n",
      "19\n",
      "19\n",
      "14\n",
      "19\n",
      "13\n",
      "11\n",
      "14\n",
      "19\n",
      "14\n",
      "19\n",
      "18\n",
      "13\n",
      "19\n",
      "12\n",
      "19\n",
      "19\n",
      "19\n",
      "13\n",
      "11\n",
      "19\n",
      "2\n",
      "11\n",
      "18\n",
      "19\n",
      "19\n",
      "19\n",
      "18\n",
      "17\n",
      "16\n",
      "12\n",
      "19\n",
      "15\n",
      "19\n",
      "19\n",
      "19\n",
      "19\n",
      "10\n",
      "17\n",
      "14\n",
      "19\n",
      "18\n",
      "19\n",
      "18\n",
      "16\n",
      "14\n",
      "19\n",
      "12\n",
      "15\n",
      "19\n",
      "19\n",
      "17\n",
      "19\n",
      "17\n",
      "19\n",
      "18\n",
      "14\n",
      "16\n",
      "8\n",
      "15\n",
      "14\n",
      "17\n",
      "19\n",
      "7\n",
      "16\n",
      "19\n",
      "16\n",
      "18\n",
      "19\n",
      "13\n",
      "15\n"
     ]
    }
   ],
   "source": [
    "def bag_fsr(x,y,B,gam0):\n",
    "    m = x.shape[1]\n",
    "    n = x.shape[0]\n",
    "    hold = np.zeros((B,m+1))      # holds coefficients\n",
    "    hold = pd.DataFrame(hold)\n",
    "    alphahat = [0] * B                    # holds alphahats\n",
    "    size = [0] * B\n",
    "    for i in range(B):\n",
    "        index = np.random.choice(n, n)\n",
    "        out = fsr_fast(x.iloc[index,:],y.iloc[index],gam0,digits,0)\n",
    "        if out[1]>0:\n",
    "            hold.iloc[i,out[2]] = np.array(out[0].params)[1:(len(out[2])+1)]\n",
    "        hold.iloc[i,0] = out[0].params[0]\n",
    "        alphahat[i] = out[3]\n",
    "        size[i] = out[1]\n",
    "        print out[1]\n",
    "    hold[np.isnan(hold)]=0\n",
    "    para_av = np.mean(hold,0)\n",
    "    para_sd = [0]*(m+1)\n",
    "    para_sd = np.var(hold,0)**0.5\n",
    "    amean = np.mean(alphahat)\n",
    "    sizem = np.mean(size)\n",
    "    pred = np.matrix(x)*np.transpose(np.matrix(para_av[1:]))+para_av[0]\n",
    "    return para_av,para_sd,pred,amean,sizem\n",
    "ho = bag_fsr(x,y,B,gam0)   "
   ]
  },
  {
   "cell_type": "markdown",
   "metadata": {
    "collapsed": false
   },
   "source": [
    "# Example With Real Data Set"
   ]
  },
  {
   "cell_type": "code",
   "execution_count": 242,
   "metadata": {
    "collapsed": false
   },
   "outputs": [
    {
     "name": "stdout",
     "output_type": "stream",
     "text": [
      "\n"
     ]
    }
   ],
   "source": [
    "df = pd.read_csv('ncaa.data2.txt',delim_whitespace=True)\n",
    "x = df.ix[:,0:19]\n",
    "y = df.ix[:,19]\n",
    "out = fsr_fast(x,y,gam0,digits,0)\n",
    "print "
   ]
  },
  {
   "cell_type": "code",
   "execution_count": 180,
   "metadata": {
    "collapsed": false
   },
   "outputs": [
    {
     "data": {
      "text/html": [
       "<table class=\"simpletable\">\n",
       "<caption>OLS Regression Results</caption>\n",
       "<tr>\n",
       "  <th>Dep. Variable:</th>          <td>event</td>      <th>  R-squared:         </th> <td>   0.086</td>\n",
       "</tr>\n",
       "<tr>\n",
       "  <th>Model:</th>                   <td>OLS</td>       <th>  Adj. R-squared:    </th> <td>   0.083</td>\n",
       "</tr>\n",
       "<tr>\n",
       "  <th>Method:</th>             <td>Least Squares</td>  <th>  F-statistic:       </th> <td>   24.92</td>\n",
       "</tr>\n",
       "<tr>\n",
       "  <th>Date:</th>             <td>Sat, 25 Apr 2015</td> <th>  Prob (F-statistic):</th> <td>4.53e-11</td>\n",
       "</tr>\n",
       "<tr>\n",
       "  <th>Time:</th>                 <td>19:49:57</td>     <th>  Log-Likelihood:    </th> <td> -3810.5</td>\n",
       "</tr>\n",
       "<tr>\n",
       "  <th>No. Observations:</th>      <td>   532</td>      <th>  AIC:               </th> <td>   7627.</td>\n",
       "</tr>\n",
       "<tr>\n",
       "  <th>Df Residuals:</th>          <td>   529</td>      <th>  BIC:               </th> <td>   7640.</td>\n",
       "</tr>\n",
       "<tr>\n",
       "  <th>Df Model:</th>              <td>     2</td>      <th>                     </th>     <td> </td>   \n",
       "</tr>\n",
       "</table>\n",
       "<table class=\"simpletable\">\n",
       "<tr>\n",
       "    <td></td>       <th>coef</th>     <th>std err</th>      <th>t</th>      <th>P>|t|</th> <th>[95.0% Conf. Int.]</th> \n",
       "</tr>\n",
       "<tr>\n",
       "  <th>const</th> <td>  622.0209</td> <td>   48.880</td> <td>   12.725</td> <td> 0.000</td> <td>  525.998   718.044</td>\n",
       "</tr>\n",
       "<tr>\n",
       "  <th>cd40</th>  <td>    0.8018</td> <td>    0.121</td> <td>    6.620</td> <td> 0.000</td> <td>    0.564     1.040</td>\n",
       "</tr>\n",
       "<tr>\n",
       "  <th>cd80</th>  <td>   -0.1053</td> <td>    0.029</td> <td>   -3.622</td> <td> 0.000</td> <td>   -0.162    -0.048</td>\n",
       "</tr>\n",
       "</table>\n",
       "<table class=\"simpletable\">\n",
       "<tr>\n",
       "  <th>Omnibus:</th>       <td>56.479</td> <th>  Durbin-Watson:     </th> <td>   1.989</td>\n",
       "</tr>\n",
       "<tr>\n",
       "  <th>Prob(Omnibus):</th> <td> 0.000</td> <th>  Jarque-Bera (JB):  </th> <td>  42.967</td>\n",
       "</tr>\n",
       "<tr>\n",
       "  <th>Skew:</th>          <td>-0.596</td> <th>  Prob(JB):          </th> <td>4.68e-10</td>\n",
       "</tr>\n",
       "<tr>\n",
       "  <th>Kurtosis:</th>      <td> 2.280</td> <th>  Cond. No.          </th> <td>4.12e+03</td>\n",
       "</tr>\n",
       "</table>"
      ],
      "text/plain": [
       "<class 'statsmodels.iolib.summary.Summary'>\n",
       "\"\"\"\n",
       "                            OLS Regression Results                            \n",
       "==============================================================================\n",
       "Dep. Variable:                  event   R-squared:                       0.086\n",
       "Model:                            OLS   Adj. R-squared:                  0.083\n",
       "Method:                 Least Squares   F-statistic:                     24.92\n",
       "Date:                Sat, 25 Apr 2015   Prob (F-statistic):           4.53e-11\n",
       "Time:                        19:49:57   Log-Likelihood:                -3810.5\n",
       "No. Observations:                 532   AIC:                             7627.\n",
       "Df Residuals:                     529   BIC:                             7640.\n",
       "Df Model:                           2                                         \n",
       "==============================================================================\n",
       "                 coef    std err          t      P>|t|      [95.0% Conf. Int.]\n",
       "------------------------------------------------------------------------------\n",
       "const        622.0209     48.880     12.725      0.000       525.998   718.044\n",
       "cd40           0.8018      0.121      6.620      0.000         0.564     1.040\n",
       "cd80          -0.1053      0.029     -3.622      0.000        -0.162    -0.048\n",
       "==============================================================================\n",
       "Omnibus:                       56.479   Durbin-Watson:                   1.989\n",
       "Prob(Omnibus):                  0.000   Jarque-Bera (JB):               42.967\n",
       "Skew:                          -0.596   Prob(JB):                     4.68e-10\n",
       "Kurtosis:                       2.280   Cond. No.                     4.12e+03\n",
       "==============================================================================\n",
       "\n",
       "Warnings:\n",
       "[1] The condition number is large, 4.12e+03. This might indicate that there are\n",
       "strong multicollinearity or other numerical problems.\n",
       "\"\"\""
      ]
     },
     "execution_count": 180,
     "metadata": {},
     "output_type": "execute_result"
    },
    {
     "data": {
      "image/png": "[encoded data removed]",
      "text/plain": [
       "<matplotlib.figure.Figure at 0x7fdbd403c6d0>"
      ]
     },
     "metadata": {},
     "output_type": "display_data"
    }
   ],
   "source": [
    "# Real Case 1: 12 linear variables \n",
    "df = pd.read_csv('actg.175.trt0.txt',delim_whitespace=True)\n",
    "x = DataFrame(df, columns = ['cd40','cd80','age','wtkg','karnof','hemo','homo','drugs','race','gender','str2','symptom'])\n",
    "y = df.ix[:,2]\n",
    "fsr_fast(x,y,0.05,4,1)[0].summary()"
   ]
  },
  {
   "cell_type": "code",
   "execution_count": 181,
   "metadata": {
    "collapsed": false
   },
   "outputs": [
    {
     "data": {
      "text/html": [
       "<table class=\"simpletable\">\n",
       "<caption>OLS Regression Results</caption>\n",
       "<tr>\n",
       "  <th>Dep. Variable:</th>          <td>event</td>      <th>  R-squared:         </th> <td>   0.092</td>\n",
       "</tr>\n",
       "<tr>\n",
       "  <th>Model:</th>                   <td>OLS</td>       <th>  Adj. R-squared:    </th> <td>   0.088</td>\n",
       "</tr>\n",
       "<tr>\n",
       "  <th>Method:</th>             <td>Least Squares</td>  <th>  F-statistic:       </th> <td>   26.76</td>\n",
       "</tr>\n",
       "<tr>\n",
       "  <th>Date:</th>             <td>Sat, 25 Apr 2015</td> <th>  Prob (F-statistic):</th> <td>8.52e-12</td>\n",
       "</tr>\n",
       "<tr>\n",
       "  <th>Time:</th>                 <td>19:50:00</td>     <th>  Log-Likelihood:    </th> <td> -3808.8</td>\n",
       "</tr>\n",
       "<tr>\n",
       "  <th>No. Observations:</th>      <td>   532</td>      <th>  AIC:               </th> <td>   7624.</td>\n",
       "</tr>\n",
       "<tr>\n",
       "  <th>Df Residuals:</th>          <td>   529</td>      <th>  BIC:               </th> <td>   7636.</td>\n",
       "</tr>\n",
       "<tr>\n",
       "  <th>Df Model:</th>              <td>     2</td>      <th>                     </th>     <td> </td>   \n",
       "</tr>\n",
       "</table>\n",
       "<table class=\"simpletable\">\n",
       "<tr>\n",
       "    <td></td>       <th>coef</th>     <th>std err</th>      <th>t</th>      <th>P>|t|</th> <th>[95.0% Conf. Int.]</th> \n",
       "</tr>\n",
       "<tr>\n",
       "  <th>const</th> <td>  526.9251</td> <td>   44.312</td> <td>   11.891</td> <td> 0.000</td> <td>  439.875   613.975</td>\n",
       "</tr>\n",
       "<tr>\n",
       "  <th>0</th>     <td>    0.7830</td> <td>    0.120</td> <td>    6.544</td> <td> 0.000</td> <td>    0.548     1.018</td>\n",
       "</tr>\n",
       "<tr>\n",
       "  <th>32</th>    <td>   -0.1600</td> <td>    0.039</td> <td>   -4.069</td> <td> 0.000</td> <td>   -0.237    -0.083</td>\n",
       "</tr>\n",
       "</table>\n",
       "<table class=\"simpletable\">\n",
       "<tr>\n",
       "  <th>Omnibus:</th>       <td>52.216</td> <th>  Durbin-Watson:     </th> <td>   1.980</td>\n",
       "</tr>\n",
       "<tr>\n",
       "  <th>Prob(Omnibus):</th> <td> 0.000</td> <th>  Jarque-Bera (JB):  </th> <td>  40.574</td>\n",
       "</tr>\n",
       "<tr>\n",
       "  <th>Skew:</th>          <td>-0.580</td> <th>  Prob(JB):          </th> <td>1.55e-09</td>\n",
       "</tr>\n",
       "<tr>\n",
       "  <th>Kurtosis:</th>      <td> 2.303</td> <th>  Cond. No.          </th> <td>1.24e+03</td>\n",
       "</tr>\n",
       "</table>"
      ],
      "text/plain": [
       "<class 'statsmodels.iolib.summary.Summary'>\n",
       "\"\"\"\n",
       "                            OLS Regression Results                            \n",
       "==============================================================================\n",
       "Dep. Variable:                  event   R-squared:                       0.092\n",
       "Model:                            OLS   Adj. R-squared:                  0.088\n",
       "Method:                 Least Squares   F-statistic:                     26.76\n",
       "Date:                Sat, 25 Apr 2015   Prob (F-statistic):           8.52e-12\n",
       "Time:                        19:50:00   Log-Likelihood:                -3808.8\n",
       "No. Observations:                 532   AIC:                             7624.\n",
       "Df Residuals:                     529   BIC:                             7636.\n",
       "Df Model:                           2                                         \n",
       "==============================================================================\n",
       "                 coef    std err          t      P>|t|      [95.0% Conf. Int.]\n",
       "------------------------------------------------------------------------------\n",
       "const        526.9251     44.312     11.891      0.000       439.875   613.975\n",
       "0              0.7830      0.120      6.544      0.000         0.548     1.018\n",
       "32            -0.1600      0.039     -4.069      0.000        -0.237    -0.083\n",
       "==============================================================================\n",
       "Omnibus:                       52.216   Durbin-Watson:                   1.980\n",
       "Prob(Omnibus):                  0.000   Jarque-Bera (JB):               40.574\n",
       "Skew:                          -0.580   Prob(JB):                     1.55e-09\n",
       "Kurtosis:                       2.303   Cond. No.                     1.24e+03\n",
       "==============================================================================\n",
       "\n",
       "Warnings:\n",
       "[1] The condition number is large, 1.24e+03. This might indicate that there are\n",
       "strong multicollinearity or other numerical problems.\n",
       "\"\"\""
      ]
     },
     "execution_count": 181,
     "metadata": {},
     "output_type": "execute_result"
    },
    {
     "data": {
      "image/png": "[encoded data removed]",
      "text/plain": [
       "<matplotlib.figure.Figure at 0x7fdbc859e1d0>"
      ]
     },
     "metadata": {},
     "output_type": "display_data"
    }
   ],
   "source": [
    "# Two function of cleaning the data and created the quadratic and interaction variables 83 variables\n",
    "def io13():\n",
    "    \"\"\"Numpy loadtxt.\"\"\"\n",
    "    df = pd.read_csv('actg.175.trt0.txt',delim_whitespace=True)\n",
    "    x = DataFrame(df, columns = ['cd40','cd80','age','wtkg','karnof','hemo','homo','drugs','race','gender','str2','symptom'])\n",
    "    y = df.ix[:,2]\n",
    "    x_15 = x.ix[:,0:5]\n",
    "    x.ix[:,0:5] = x_15-x_15.mean()\n",
    "    quadratic = (x.ix[:,0:5])**2\n",
    "    count=-1\n",
    "    new = np.zeros(shape=(df.shape[0],66))\n",
    "    for i in range(x.shape[1]):\n",
    "      for j in range(i+1,x.shape[1]):\n",
    "           count = count+1\n",
    "           new[:,count] = x.ix[:,i] * x.ix[:,j]\n",
    "    X = DataFrame(df, columns = ['hemo','homo','drugs','race','gender','str2','symptom'])\n",
    "    x = np.concatenate((x_15,X,quadratic,new),axis=1)\n",
    "    x = pd.DataFrame(x)\n",
    "    x.ix[:,63]=np.random.normal(0, 1, x.shape[0])\n",
    "    return y,x\n",
    "\n",
    "y = io13()[0]\n",
    "x = io13()[1]\n",
    "\n",
    "fsr_fast(x,y,0.05,4,1)[0].summary()"
   ]
  },
  {
   "cell_type": "markdown",
   "metadata": {},
   "source": [
    "- Code optimization: too many loops \n",
    "- Programming optimization: vectorize the code and parallize programming\n",
    "- algorithm optimization"
   ]
  },
  {
   "cell_type": "markdown",
   "metadata": {},
   "source": [
    "# Method Comparision : Lasso, Ridge, Forward Selection with BIC"
   ]
  },
  {
   "cell_type": "code",
   "execution_count": 120,
   "metadata": {
    "collapsed": false
   },
   "outputs": [
    {
     "data": {
      "text/plain": [
       "(75,)"
      ]
     },
     "execution_count": 120,
     "metadata": {},
     "output_type": "execute_result"
    }
   ],
   "source": [
    "from sklearn.linear_model import Lasso\n",
    "alpha = 0.5\n",
    "lasso = Lasso(alpha=alpha, tol=0.001)\n",
    "y_coef_lasso = lasso.fit(x, y).coef_\n",
    "y_coef_lasso[np.round(y_coef_lasso,4) != 0].shape\n"
   ]
  },
  {
   "cell_type": "code",
   "execution_count": 121,
   "metadata": {
    "collapsed": false
   },
   "outputs": [
    {
     "data": {
      "text/plain": [
       "(81,)"
      ]
     },
     "execution_count": 121,
     "metadata": {},
     "output_type": "execute_result"
    }
   ],
   "source": [
    "from sklearn.linear_model import Ridge\n",
    "alpha = 0.5\n",
    "ridge = Ridge(alpha=0.5,tol=0.001)\n",
    "y_coef_ridge = ridge.fit(x, y).coef_\n",
    "y_coef_ridge[np.round(y_coef_ridge,3) != 0].shape"
   ]
  },
  {
   "cell_type": "markdown",
   "metadata": {},
   "source": [
    "# Method Assesment and comparison"
   ]
  },
  {
   "cell_type": "markdown",
   "metadata": {},
   "source": [
    "- Comparsion among lasso, fast fsr, ridge and forward selectino with BIC based on two criteria: Model Error Ratio \n",
    "  and False Selection Rate by the simulated data \n",
    "- In this simulation study, I simulated 100 data points with 42 variables. Four models are simulated: H1: all variables are zeros. H2: 6 variables are non-zeros at variables 6–8 and 13–15 with values (9,4,1). H3: 10 variables are non-zeros at variables 5–9 and 12–16 with values (25,16,9,4,1). H4: 14 variables are non-zeros at variables 4–10 and 11–17 with value (49, 36, 25, 16, 9, 4, 1)\n",
    "- Plot the ME and FSR comparison plot for four models"
   ]
  },
  {
   "cell_type": "code",
   "execution_count": 122,
   "metadata": {
    "collapsed": false
   },
   "outputs": [],
   "source": [
    "def ME (method_coef,x,y,n):\n",
    "    me=[]\n",
    "    for i in range(n):\n",
    "        me.append(np.sum((np.dot(method_coef,x.transpose())-y)**2)/150.0)\n",
    "        i = i + 1\n",
    "    return me\n"
   ]
  },
  {
   "cell_type": "code",
   "execution_count": 123,
   "metadata": {
    "collapsed": true
   },
   "outputs": [],
   "source": [
    "# function to find the False Selection Rate  \n",
    "def FSRR (target,method_selected,n):\n",
    "    l=[]\n",
    "    for i in range(n):\n",
    "      I = set(target)&set(method_selected)\n",
    "      l.append((len(method_selected)-len(I))/(1.0+len(method_selected)))\n",
    "      i = i+1\n",
    "    return l"
   ]
  },
  {
   "cell_type": "markdown",
   "metadata": {},
   "source": [
    "#  Parall pragramming"
   ]
  },
  {
   "cell_type": "code",
   "execution_count": 124,
   "metadata": {
    "collapsed": false
   },
   "outputs": [],
   "source": [
    "def pi_multiprocessing1(target,method,n):\n",
    "    \"\"\"Split a job of length n into num_procs pieces.\"\"\"\n",
    "    import multiprocessing\n",
    "    m = multiprocessing.cpu_count()\n",
    "    pool = multiprocessing.Pool(m)\n",
    "    mapfunc = partial(FSRR, target,method)\n",
    "    results = pool.map(mapfunc,[n/m]*m)\n",
    "    pool.close()\n",
    "    return np.mean(results)\n"
   ]
  },
  {
   "cell_type": "code",
   "execution_count": 125,
   "metadata": {
    "collapsed": true
   },
   "outputs": [],
   "source": [
    "def pi_multiprocessing2(ME,method_coef,x,y,n):\n",
    "    \"\"\"Split a job of length n into num_procs pieces.\"\"\"\n",
    "    m = multiprocessing.cpu_count()\n",
    "    pool = multiprocessing.Pool(m)\n",
    "    mapfunc = partial(ME,method_coef,x,y)\n",
    "    results = pool.map(mapfunc,[n/m]*m)\n",
    "    pool.close()\n",
    "    return np.mean(results),min(min(results))"
   ]
  },
  {
   "cell_type": "code",
   "execution_count": 182,
   "metadata": {
    "collapsed": false
   },
   "outputs": [
    {
     "name": "stdout",
     "output_type": "stream",
     "text": [
      "LASSO FSR is 0.5\n"
     ]
    }
   ],
   "source": [
    "# Simulate the data set under model 1\n",
    "x = pd.DataFrame(np.random.normal(1, 1, 21*150).reshape(150,21))\n",
    "y = np.random.normal(1, 1, 150)\n",
    "quad1 = (x.ix[:,0:20])**2\n",
    "x = np.concatenate((x,quad1),axis=1)\n",
    "x = pd.DataFrame(x)\n",
    "\n",
    "alpha = 0.5\n",
    "lasso = Lasso(alpha=alpha, tol=0.001)\n",
    "y_coef_lasso = lasso.fit(x, y).coef_\n",
    "lasso_index = np.where(y_coef_lasso != 0)[0]+1\n",
    "\n",
    "target =[]\n",
    "n = int(1e5)\n",
    "print \"LASSO FSR is\",pi_multiprocessing1(target,lasso_index,n)\n",
    "\n",
    "\n",
    "    "
   ]
  },
  {
   "cell_type": "code",
   "execution_count": 183,
   "metadata": {
    "collapsed": false
   },
   "outputs": [
    {
     "name": "stdout",
     "output_type": "stream",
     "text": [
      "LASSO FSR is 0.5\n",
      "(2.0435776669172974, 2.043577666917296)\n",
      "LASSO ME is 1.0\n",
      "FAST FSR is 0\n"
     ]
    }
   ],
   "source": [
    "target =[]\n",
    "print \"LASSO FSR is\",pi_multiprocessing1(target,lasso_index,n)\n",
    "me_r = pi_multiprocessing2(ME,y_coef_lasso,x,y,n)\n",
    "print me_r\n",
    "print \"LASSO ME is\",me_r[1]/me_r[0]\n",
    "print \"FAST FSR is\",fsr_fast(x,y,0.05,4,0)[2]"
   ]
  },
  {
   "cell_type": "code",
   "execution_count": 185,
   "metadata": {
    "collapsed": false
   },
   "outputs": [
    {
     "name": "stdout",
     "output_type": "stream",
     "text": [
      "LASSO FSR is 0.461538461538\n",
      "LASSO ME is (8.4626850158024922, 8.462685015802494)\n",
      "FAST FSR is 0.125\n"
     ]
    }
   ],
   "source": [
    "# Simulate the data under model 2 6–8 and 13–15\n",
    "x = pd.DataFrame(np.random.normal(1, 1, 21*150).reshape(150,21))\n",
    "y = 9*x.ix[:,5]+4*x.ix[:,6]+x.ix[:,7]+9*x.ix[:,12]+4*x.ix[:,13]+x.ix[:,14]\n",
    "quad2 = (x.ix[:,0:20])**2\n",
    "x = np.concatenate((x,quad2),axis=1)\n",
    "x = pd.DataFrame(x)\n",
    "\n",
    "alpha = 0.5\n",
    "lasso = Lasso(alpha=alpha, tol=0.001)\n",
    "y_coef_lasso = lasso.fit(x, y).coef_\n",
    "lasso_index = np.where(y_coef_lasso != 0)[0]+1\n",
    "\n",
    "n = int(1e5)\n",
    "target = [6,7,8,13,14,15]\n",
    "\n",
    "print \"LASSO FSR is\",pi_multiprocessing1(target,lasso_index,n) ##parallel programming 100 times then average\n",
    "print \"LASSO ME is\",pi_multiprocessing2(ME,y_coef_lasso,x,y,n)\n",
    "print \"FAST FSR is\",pi_multiprocessing1(target,fsr_fast(x,y,0.05,4,0)[2],n)"
   ]
  },
  {
   "cell_type": "code",
   "execution_count": 186,
   "metadata": {
    "collapsed": false
   },
   "outputs": [
    {
     "name": "stdout",
     "output_type": "stream",
     "text": [
      "LASSO FSR is 0.52380952381\n",
      "LASSO ME is (36.110368839259877, 36.110368839259849)\n",
      "FAST FSR is 0.0\n"
     ]
    }
   ],
   "source": [
    "# Simulate the data under model 3 5–9 and 12–16 \n",
    "x = pd.DataFrame(np.random.normal(1, 1, 21*150).reshape(150,21))\n",
    "y = 25*x.ix[:,4]+16*x.ix[:,5]+9*x.ix[:,6]+4*x.ix[:,7]+1*x.ix[:,8]+25*x.ix[:,11]+16*x.ix[:,12]+9*x.ix[:,13]+4*x.ix[:,14]+1*x.ix[:,15]\n",
    "quad3 = (x.ix[:,0:20])**2\n",
    "x = np.concatenate((x,quad3),axis=1)\n",
    "x = pd.DataFrame(x)\n",
    "\n",
    "\n",
    "alpha = 0.5\n",
    "lasso = Lasso(alpha=alpha, tol=0.001)\n",
    "y_coef_lasso = lasso.fit(x, y).coef_\n",
    "lasso_index = np.where(y_coef_lasso != 0)[0]+1\n",
    "\n",
    "\n",
    "\n",
    "n = int(1e5)\n",
    "target = [5,6,7,8,9,12,13,14,15,16]\n",
    "print \"LASSO FSR is\",pi_multiprocessing1(target,lasso_index,n) ##parallel programming 100 times then average\n",
    "print \"LASSO ME is\",pi_multiprocessing2(ME,y_coef_lasso,x,y,n)\n",
    "print \"FAST FSR is\",pi_multiprocessing1(target,fsr_fast(x,y,0.05,4,0)[2],n)"
   ]
  },
  {
   "cell_type": "code",
   "execution_count": 187,
   "metadata": {
    "collapsed": false
   },
   "outputs": [
    {
     "name": "stdout",
     "output_type": "stream",
     "text": [
      "LASSO FSR is 0.551724137931\n",
      "LASSO ME is (74.443841501470828, 74.443841501470814)\n",
      "FAST FSR is 0.0666666666667\n"
     ]
    }
   ],
   "source": [
    "# Simulate the data under model 4  4–10 and 11–17 \n",
    "x = pd.DataFrame(np.random.normal(1, 1, 21*150).reshape(150,21))\n",
    "y = 45*x.ix[:,3]+36*x.ix[:,4]+25*x.ix[:,5]+16*x.ix[:,6]+9*x.ix[:,7]+4*x.ix[:,8]+x.ix[:,9]+45*x.ix[:,10]+36*x.ix[:,11]+25*x.ix[:,12]+16*x.ix[:,13]+9*x.ix[:,14]+4*x.ix[:,15]+x.ix[:,16]\n",
    "quad4 = (x.ix[:,0:20])**2\n",
    "x = np.concatenate((x,quad4),axis=1)\n",
    "x = pd.DataFrame(x) \n",
    "\n",
    "alpha = 0.5\n",
    "lasso = Lasso(alpha=alpha, tol=0.001)\n",
    "y_coef_lasso = lasso.fit(x, y).coef_\n",
    "lasso_index = np.where(y_coef_lasso != 0)[0]+1\n",
    "\n",
    "n = int(1e5)\n",
    "target = [4,5,6,7,8,9,10,11,12,13,14,15,16]\n",
    "print \"LASSO FSR is\",pi_multiprocessing1(target,lasso_index,n) ##parallel programming 100000 times then average\n",
    "print \"LASSO ME is\",pi_multiprocessing2(ME,y_coef_lasso,x,y,n)\n",
    "print \"FAST FSR is\",pi_multiprocessing1(target,fsr_fast(x,y,0.05,4,0)[2],n)"
   ]
  },
  {
   "cell_type": "markdown",
   "metadata": {},
   "source": [
    "# Profiling the Functions and Optimizing the code by parall pragramming "
   ]
  },
  {
   "cell_type": "code",
   "execution_count": 547,
   "metadata": {
    "collapsed": false
   },
   "outputs": [
    {
     "name": "stdout",
     "output_type": "stream",
     "text": [
      "1 loops, best of 3: 426 ms per loop\n",
      "1 loops, best of 3: 809 ms per loop\n"
     ]
    },
    {
     "name": "stderr",
     "output_type": "stream",
     "text": [
      "Exception in thread Thread-1201:\n",
      "Traceback (most recent call last):\n",
      "  File \"/home/bitnami/anaconda/lib/python2.7/threading.py\", line 810, in __bootstrap_inner\n",
      "    self.run()\n",
      "  File \"/home/bitnami/anaconda/lib/python2.7/site-packages/zmq/utils/garbage.py\", line 34, in run\n",
      "    s.bind(self.gc.url)\n",
      "  File \"socket.pyx\", line 444, in zmq.backend.cython.socket.Socket.bind (zmq/backend/cython/socket.c:4076)\n",
      "  File \"checkrc.pxd\", line 21, in zmq.backend.cython.checkrc._check_rc (zmq/backend/cython/socket.c:6032)\n",
      "ZMQError: Address already in use\n"
     ]
    }
   ],
   "source": [
    "n = int(1e5)\n",
    "%timeit pi_multiprocessing1(target,lasso_index,n)\n",
    "%timeit np.mean(FSRR(target,lasso_index,n))"
   ]
  },
  {
   "cell_type": "code",
   "execution_count": 546,
   "metadata": {
    "collapsed": false
   },
   "outputs": [],
   "source": [
    "! pip install --pre line-profiler &> /dev/null\n",
    "! pip install psutil &> /dev/null\n",
    "! pip install memory_profiler &> /dev/null"
   ]
  },
  {
   "cell_type": "code",
   "execution_count": 83,
   "metadata": {
    "collapsed": false
   },
   "outputs": [
    {
     "name": "stdout",
     "output_type": "stream",
     "text": [
      "1 loops, best of 1: 143 ms per loop\n",
      "1 loops, best of 1: 29 ms per loop\n"
     ]
    }
   ],
   "source": [
    "%timeit -r1 -n1 fsr_fast(x,y,.05,4,0)\n",
    "%timeit -r1 -n1 io13(interaction)"
   ]
  },
  {
   "cell_type": "code",
   "execution_count": 85,
   "metadata": {
    "collapsed": false
   },
   "outputs": [
    {
     "name": "stdout",
     "output_type": "stream",
     "text": [
      "          132355 function calls (132010 primitive calls) in 0.169 seconds\n",
      "\n",
      "   Ordered by: internal time\n",
      "   List reduced from 458 to 10 due to restriction <10>\n",
      "\n",
      "   ncalls  tottime  percall  cumtime  percall filename:lineno(function)\n",
      "      166    0.024    0.000    0.060    0.000 doccer.py:12(docformat)\n",
      "      168    0.016    0.000    0.018    0.000 numpy2ri.py:42(numpy2ri)\n",
      "       86    0.016    0.000    0.016    0.000 {sum}\n",
      "     5146    0.011    0.000    0.011    0.000 {method 'expandtabs' of 'str' objects}\n",
      "       85    0.008    0.000    0.008    0.000 {method 'rcall' of 'rpy2.rinterface.SexpClosure' objects}\n",
      "      166    0.008    0.000    0.012    0.000 doccer.py:128(indentcount_lines)\n",
      "     5146    0.007    0.000    0.007    0.000 {method 'splitlines' of 'str' objects}\n",
      "        1    0.006    0.006    0.049    0.049 functions.py:95(__call__)\n",
      "    50400    0.004    0.000    0.004    0.000 {method 'append' of 'list' objects}\n",
      "       83    0.003    0.000    0.087    0.001 _distn_infrastructure.py:1395(__init__)\n",
      "\n",
      "\n"
     ]
    },
    {
     "data": {
      "text/plain": [
       "<pstats.Stats instance at 0x7f06f3183dd0>"
      ]
     },
     "execution_count": 85,
     "metadata": {},
     "output_type": "execute_result"
    }
   ],
   "source": [
    "stat = %prun -r -q fsr_fast(x,y,.05,4,0)\n",
    "stat.sort_stats('time').print_stats(10)"
   ]
  },
  {
   "cell_type": "code",
   "execution_count": 86,
   "metadata": {
    "collapsed": false
   },
   "outputs": [
    {
     "name": "stdout",
     "output_type": "stream",
     "text": [
      "         132355 function calls (132010 primitive calls) in 0.169 seconds\n",
      "\n",
      "   Ordered by: internal time\n",
      "   List reduced from 458 to 1 due to restriction <'ipython'>\n",
      "\n",
      "   ncalls  tottime  percall  cumtime  percall filename:lineno(function)\n",
      "        1    0.002    0.002    0.179    0.179 <ipython-input-75-5fd1a2e39ab4>:2(fsr_fast)\n",
      "\n",
      "\n"
     ]
    },
    {
     "data": {
      "text/plain": [
       "<pstats.Stats instance at 0x7f06f3183dd0>"
      ]
     },
     "execution_count": 86,
     "metadata": {},
     "output_type": "execute_result"
    }
   ],
   "source": [
    "stat.sort_stats('time').print_stats(r'ipython')"
   ]
  },
  {
   "cell_type": "code",
   "execution_count": 88,
   "metadata": {
    "collapsed": false
   },
   "outputs": [],
   "source": [
    "%load_ext memory_profiler"
   ]
  },
  {
   "cell_type": "code",
   "execution_count": 89,
   "metadata": {
    "collapsed": false
   },
   "outputs": [
    {
     "name": "stdout",
     "output_type": "stream",
     "text": [
      "peak memory: 188.52 MiB, increment: 0.02 MiB\n"
     ]
    }
   ],
   "source": [
    "%memit fsr_fast(x,y,.05,4,0)"
   ]
  },
  {
   "cell_type": "markdown",
   "metadata": {},
   "source": [
    "- 1.how to improve the input reading speed? necessary use numpy.load or not?\n",
    "- 2.how to detect which part should be improved? based on my running time for the functions\n",
    "- 3.does my memory use too much memory for the data?\n",
    "- 4.comparision : glmnet result lasso julia?\n",
    "- 5.one column covariance equals to zero.....add random value to it....?\n",
    "- 6.julia? can i solve it????"
   ]
  },
  {
   "cell_type": "markdown",
   "metadata": {
    "collapsed": false
   },
   "source": [
    "# Draft of Make Files:\n",
    "\n"
   ]
  },
  {
   "cell_type": "markdown",
   "metadata": {},
   "source": [
    "- make -f MyMakefile\n",
    "- target: dependencies\n",
    "- make -f Makefile-1"
   ]
  },
  {
   "cell_type": "code",
   "execution_count": null,
   "metadata": {
    "collapsed": true
   },
   "outputs": [],
   "source": []
  }
 ],
 "metadata": {
  "kernelspec": {
   "display_name": "Python 2",
   "language": "python",
   "name": "python2"
  },
  "language_info": {
   "codemirror_mode": {
    "name": "ipython",
    "version": 2
   },
   "file_extension": ".py",
   "mimetype": "text/x-python",
   "name": "python",
   "nbconvert_exporter": "python",
   "pygments_lexer": "ipython2",
   "version": "2.7.9"
  }
 },
 "nbformat": 4,
 "nbformat_minor": 0
}
