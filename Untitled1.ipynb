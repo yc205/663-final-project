{
 "metadata": {
  "name": "",
  "signature": "sha256:7b6e4b2257c9edc4bbaee2fa47faf73afca0d408f6033b681064ded23a219bcd"
 },
 "nbformat": 3,
 "nbformat_minor": 0,
 "worksheets": [
  {
   "cells": [
    {
     "cell_type": "code",
     "collapsed": false,
     "input": [
      "%load_ext rpy2.ipython"
     ],
     "language": "python",
     "metadata": {},
     "outputs": [],
     "prompt_number": 1
    },
    {
     "cell_type": "code",
     "collapsed": false,
     "input": [
      "%R install.packages(\"devtools\")"
     ],
     "language": "python",
     "metadata": {},
     "outputs": [
      {
       "name": "stdout",
       "output_type": "stream",
       "stream": "stdout",
       "text": [
        "Selection: 89\n"
       ]
      },
      {
       "metadata": {},
       "output_type": "display_data",
       "text": [
        "Installing package into \u2018/home/bitnami/R/x86_64-pc-linux-gnu-library/3.1\u2019\n",
        "(as \u2018lib\u2019 is unspecified)\n",
        "--- Please select a CRAN mirror for use in this session ---\n",
        "CRAN mirror \n",
        "\n",
        "  1: 0-Cloud                        2: Algeria                    \n",
        "  3: Argentina (La Plata)           4: Australia (Canberra)       \n",
        "  5: Australia (Melbourne)          6: Austria                    \n",
        "  7: Belgium                        8: Brazil (BA)                \n",
        "  9: Brazil (PR)                   10: Brazil (RJ)                \n",
        " 11: Brazil (SP 1)                 12: Brazil (SP 2)              \n",
        " 13: Canada (BC)                   14: Canada (NS)                \n",
        " 15: Canada (ON)                   16: Canada (QC 1)              \n",
        " 17: Canada (QC 2)                 18: Chile                      \n",
        " 19: China (Beijing 1)             20: China (Beijing 2)          \n",
        " 21: China (Beijing 3)             22: China (Hefei)              \n",
        " 23: China (Lanzhou)               24: China (Xiamen)             \n",
        " 25: Colombia (Cali)               26: Czech Republic             \n",
        " 27: Denmark                       28: Ecuador                    \n",
        " 29: El Salvador                   30: Estonia                    \n",
        " 31: France (Lyon 1)               32: France (Lyon 2)            \n",
        " 33: France (Montpellier)          34: France (Paris 2)           \n",
        " 35: France (Strasbourg)           36: Germany (Berlin)           \n",
        " 37: Germany (Goettingen)          38: Germany (Frankfurt)        \n",
        " 39: Germany (M\u00fcnster)             40: Greece                     \n",
        " 41: Hungary                       42: Iceland                    \n",
        " 43: India                         44: Indonesia (Jakarta)        \n",
        " 45: Indonesia (Jember)            46: Iran                       \n",
        " 47: Ireland                       48: Italy (Milano)             \n",
        " 49: Italy (Padua)                 50: Italy (Palermo)            \n",
        " 51: Japan (Tokyo)                 52: Japan (Tsukuba)            \n",
        " 53: Japan (Yamagata)              54: Korea (Seoul 1)            \n",
        " 55: Korea (Seoul 2)               56: Korea (Ulsan)              \n",
        " 57: Lebanon                       58: Mexico (Mexico City)       \n",
        " 59: Mexico (Texcoco)              60: Netherlands (Amsterdam)    \n",
        " 61: Netherlands (Utrecht)         62: New Zealand                \n",
        " 63: Norway                        64: Philippines                \n",
        " 65: Poland                        66: Portugal                   \n",
        " 67: Russia                        68: Singapore                  \n",
        " 69: Slovakia                      70: South Africa (Johannesburg)\n",
        " 71: Spain (A Coru\u00f1a)              72: Spain (Madrid)             \n",
        " 73: Sweden                        74: Switzerland                \n",
        " 75: Taiwan (Chungli)              76: Taiwan (Taipei)            \n",
        " 77: Thailand                      78: Turkey                     \n",
        " 79: UK (Bristol)                  80: UK (Cambridge)             \n",
        " 81: UK (London)                   82: UK (London)                \n",
        " 83: UK (St Andrews)               84: USA (CA 1)                 \n",
        " 85: USA (CA 2)                    86: USA (IA)                   \n",
        " 87: USA (IN)                      88: USA (KS)                   \n",
        " 89: USA (MD)                      90: USA (MI)                   \n",
        " 91: USA (MO)                      92: USA (OH)                   \n",
        " 93: USA (OR)                      94: USA (PA 1)                 \n",
        " 95: USA (PA 2)                    96: USA (TN)                   \n",
        " 97: USA (TX 1)                    98: USA (WA 1)                 \n",
        " 99: USA (WA 2)                   100: Venezuela                  \n",
        "101: Vietnam                      \n",
        "\n",
        "also installing the dependencies \u2018httr\u2019, \u2018RCurl\u2019\n",
        "\n",
        "trying URL 'http://watson.nci.nih.gov/cran_mirror/src/contrib/httr_0.6.1.tar.gz'\n",
        "Content type 'application/octet-stream' length 247531 bytes (241 Kb)\n",
        "opened URL\n",
        "==================================================\n",
        "downloaded 241 Kb\n",
        "\n",
        "trying URL 'http://watson.nci.nih.gov/cran_mirror/src/contrib/RCurl_1.95-4.5.tar.gz'\n",
        "Content type 'application/octet-stream' length 878607 bytes (858 Kb)\n",
        "opened URL\n",
        "==================================================\n",
        "downloaded 858 Kb\n",
        "\n",
        "trying URL 'http://watson.nci.nih.gov/cran_mirror/src/contrib/devtools_1.7.0.tar.gz'\n",
        "Content type 'application/octet-stream' length 130760 bytes (127 Kb)\n",
        "opened URL\n",
        "==================================================\n",
        "downloaded 127 Kb\n",
        "\n",
        "\n",
        "The downloaded source packages are in\n",
        "\t\u2018/tmp/RtmpRPJjh3/downloaded_packages\u2019\n"
       ]
      }
     ],
     "prompt_number": 3
    },
    {
     "cell_type": "code",
     "collapsed": false,
     "input": [
      "%R library(devtools)"
     ],
     "language": "python",
     "metadata": {},
     "outputs": [
      {
       "output_type": "stream",
       "stream": "stdout",
       "text": [
        "Error in library(devtools) : there is no package called \u2018devtools\u2019\n",
        "In addition: Warning messages:\n",
        "1: In install.packages(\"devtools\") :\n",
        "  installation of package \u2018RCurl\u2019 had non-zero exit status\n",
        "2: In install.packages(\"devtools\") :\n",
        "  installation of package \u2018httr\u2019 had non-zero exit status\n",
        "3: In install.packages(\"devtools\") :\n",
        "  installation of package \u2018devtools\u2019 had non-zero exit status\n",
        "Error in library(devtools) : there is no package called \u2018devtools\u2019\n"
       ]
      }
     ],
     "prompt_number": 6
    },
    {
     "cell_type": "code",
     "collapsed": false,
     "input": [],
     "language": "python",
     "metadata": {},
     "outputs": []
    }
   ],
   "metadata": {}
  }
 ]
}