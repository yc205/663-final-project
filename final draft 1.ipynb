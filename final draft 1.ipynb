{
 "cells": [
  {
   "cell_type": "code",
   "execution_count": 284,
   "metadata": {
    "collapsed": false
   },
   "outputs": [
    {
     "data": {
      "text/plain": [
       "u'%.4f'"
      ]
     },
     "execution_count": 284,
     "metadata": {},
     "output_type": "execute_result"
    }
   ],
   "source": [
    "import os\n",
    "import sys\n",
    "import glob\n",
    "import matplotlib.pyplot as plt\n",
    "import numpy as np\n",
    "import pandas as pd\n",
    "from scipy import stats\n",
    "import statsmodels.api as sm\n",
    "import scipy.stats as ss\n",
    "from functools import partial\n",
    "from pandas import Series, DataFrame, Panel\n",
    "%matplotlib inline\n",
    "%precision 4"
   ]
  },
  {
   "cell_type": "code",
   "execution_count": 285,
   "metadata": {
    "collapsed": false
   },
   "outputs": [
    {
     "name": "stdout",
     "output_type": "stream",
     "text": [
      "The rpy2.ipython extension is already loaded. To reload it, use:\n",
      "  %reload_ext rpy2.ipython\n"
     ]
    }
   ],
   "source": [
    "%load_ext rpy2.ipython\n",
    "from rpy2.robjects.packages import importr\n",
    "p1=importr('leaps')\n",
    "p2=importr('stats')"
   ]
  },
  {
   "cell_type": "markdown",
   "metadata": {},
   "source": [
    "# FSR Function Code"
   ]
  },
  {
   "cell_type": "code",
   "execution_count": 286,
   "metadata": {
    "collapsed": false
   },
   "outputs": [],
   "source": [
    "\n",
    "def fsr_fast(x,y,gam0,digits,pl):\n",
    "    m = x.shape[1]\n",
    "    n = x.shape[0]\n",
    "    if(m >= n): \n",
    "        m1=n-5  \n",
    "    else: \n",
    "        m1=m \n",
    "    vm = range(m1)\n",
    "  # if only partially named columns corrects for no colnames\n",
    "    pvm = [0] * m1\n",
    "    out_x = p1.regsubsets(x,y,method=\"forward\")  \n",
    "    rss = out_x[9]\n",
    "    nn = out_x[26][0]\n",
    "    q = [(rss[i]-rss[i+1])*(nn-i-2)/rss[i+1] for i in range(len(rss)-1)]\n",
    "    rvf = [ ss.f(1,nn-i-2)  for i in range(len(rss)-1)]\n",
    "    orig =  [1-rvf[i].cdf(q[i]) for i in range(len(rss)-1)]\n",
    "\n",
    " # sequential max of pvalues\n",
    "    for i in range(m1):\n",
    "        pvm[i] = max(orig[0:i+1])\n",
    "    alpha = [0]+pvm\n",
    "    ng = len(alpha)\n",
    " # will contain num. of true entering in orig\n",
    "    S = [0] * ng\n",
    " # loop through alpha values for S=size                        \n",
    "    for ia in range(1,ng):                   \n",
    "        S[ia] = sum([pvm[i] <= alpha[ia] for i in range(len(pvm))])        # size of models at alpha[ia], S[1]=0\n",
    "    ghat = [(m-S[i])*alpha[i]/(1+S[i]) for i in range(len(alpha))]              # gammahat_ER \n",
    " # add additional points to make jumps\n",
    "    alpha2 = np.array(alpha[1:ng])-.0000001\n",
    "    ghat2 = ((m-np.array(S[0:(ng-1)]))*alpha2)/(1+np.array(S[0:(ng-1)]))\n",
    "    a= alpha+list(alpha2)\n",
    "    g=ghat + list(ghat2)\n",
    "    zp = {'a' : a,\n",
    "     'g' : g}\n",
    "    zp = pd.DataFrame(zp)  \n",
    "    zp=np.array(zp)[np.argsort(zp.a)]\n",
    "    index_max= np.argmax(zp[:,1])\n",
    "    alphamax=zp[:,0][index_max]\n",
    "    ind = [0]*len(ghat)\n",
    "    ind = [ 1 if ghat[i]<gam0 and alpha[i]<=alphamax else 0 for i in range(len(ghat))]\n",
    "    Sind = S[np.max(np.where(np.array(ind)>0))]\n",
    "    alphahat_fast = (1+Sind)*gam0/(m-Sind)\n",
    "    size1=np.sum(np.array(pvm)<=alphahat_fast)+1\n",
    "    x=x[list(x.columns.values[list((np.array(out_x[7])-2)[1:size1])])]\n",
    "    x=sm.add_constant(x)\n",
    "    if(size1>1): \n",
    "        x_ind=(np.array(out_x[7])-1)[1:size1]\n",
    "    else:\n",
    "        x_ind=0\n",
    "    if (size1==1):\n",
    "        mod = np.mean(y)\n",
    "    else:\n",
    "        mod = sm.OLS(y, x).fit()\n",
    "    ghat4=(m-size1+1)*np.array(alpha)/(1+np.array(range(m+1)))\n",
    " #plt.axis([0,alphamax,0,1.4]) \n",
    "    if pl == 1:\n",
    "        plt.plot(zp[:,0],zp[:,1],'bo',color='red')\n",
    "        plt.plot([alphahat_fast], [gam0], 'g.', markersize=20.0)\n",
    "        plt.xlabel('Alpha')\n",
    "        plt.ylabel('Estimated Gamma')\n",
    "        plt.axvspan(xmin=-0.1, xmax=alphahat_fast, ymin=0, ymax=0.18)\n",
    "    return mod,size1-1,x_ind,alphahat_fast"
   ]
  },
  {
   "cell_type": "markdown",
   "metadata": {},
   "source": [
    "# Bagging FSR"
   ]
  },
  {
   "cell_type": "code",
   "execution_count": 287,
   "metadata": {
    "collapsed": false
   },
   "outputs": [],
   "source": [
    "def bag_fsr(x,y,B,gam0,fsr_fast,digits):\n",
    "    m = x.shape[1]\n",
    "    n = x.shape[0]\n",
    "    hold = np.zeros((B,m+1))      # holds coefficients\n",
    "    hold = pd.DataFrame(hold)\n",
    "    alphahat = [0] * B                    # holds alphahats\n",
    "    size = [0] * B\n",
    "    for i in range(B):\n",
    "        index = np.random.choice(n, n)\n",
    "        out = fsr_fast(x.ix[index,:],y.ix[index],gam0,digits,0)\n",
    "        if out[1]>0:\n",
    "            hold.iloc[i,out[2]] = np.array(out[0].params)[1:(len(out[2])+1)]\n",
    "        hold.iloc[i,0] = out[0].params[0]\n",
    "        alphahat[i] = out[3]\n",
    "        size[i] = out[1]\n",
    "    hold[np.isnan(hold)]=0\n",
    "    para_av = np.mean(hold,0)\n",
    "    para_sd = [0]*(m+1)\n",
    "    para_sd = np.var(hold,0)**0.5\n",
    "    amean = np.mean(alphahat)\n",
    "    sizem = np.mean(size)\n",
    "    pred = np.matrix(x)*np.transpose(np.matrix(para_av[1:]))+para_av[0]\n",
    "    return para_av,para_sd,pred,amean,sizem\n"
   ]
  },
  {
   "cell_type": "markdown",
   "metadata": {
    "collapsed": false
   },
   "source": [
    "# Example With Real Data Set"
   ]
  },
  {
   "cell_type": "code",
   "execution_count": 295,
   "metadata": {
    "collapsed": false
   },
   "outputs": [
    {
     "data": {
      "text/html": [
       "<table class=\"simpletable\">\n",
       "<caption>OLS Regression Results</caption>\n",
       "<tr>\n",
       "  <th>Dep. Variable:</th>            <td>y</td>        <th>  R-squared:         </th> <td>   0.811</td>\n",
       "</tr>\n",
       "<tr>\n",
       "  <th>Model:</th>                   <td>OLS</td>       <th>  Adj. R-squared:    </th> <td>   0.800</td>\n",
       "</tr>\n",
       "<tr>\n",
       "  <th>Method:</th>             <td>Least Squares</td>  <th>  F-statistic:       </th> <td>   75.50</td>\n",
       "</tr>\n",
       "<tr>\n",
       "  <th>Date:</th>             <td>Sun, 26 Apr 2015</td> <th>  Prob (F-statistic):</th> <td>2.49e-30</td>\n",
       "</tr>\n",
       "<tr>\n",
       "  <th>Time:</th>                 <td>00:20:33</td>     <th>  Log-Likelihood:    </th> <td> -315.88</td>\n",
       "</tr>\n",
       "<tr>\n",
       "  <th>No. Observations:</th>      <td>    94</td>      <th>  AIC:               </th> <td>   643.8</td>\n",
       "</tr>\n",
       "<tr>\n",
       "  <th>Df Residuals:</th>          <td>    88</td>      <th>  BIC:               </th> <td>   659.0</td>\n",
       "</tr>\n",
       "<tr>\n",
       "  <th>Df Model:</th>              <td>     5</td>      <th>                     </th>     <td> </td>   \n",
       "</tr>\n",
       "</table>\n",
       "<table class=\"simpletable\">\n",
       "<tr>\n",
       "    <td></td>       <th>coef</th>     <th>std err</th>      <th>t</th>      <th>P>|t|</th> <th>[95.0% Conf. Int.]</th> \n",
       "</tr>\n",
       "<tr>\n",
       "  <th>const</th> <td>  -42.1069</td> <td>    8.990</td> <td>   -4.684</td> <td> 0.000</td> <td>  -59.972   -24.242</td>\n",
       "</tr>\n",
       "<tr>\n",
       "  <th>x2</th>    <td>    3.4714</td> <td>    0.467</td> <td>    7.428</td> <td> 0.000</td> <td>    2.543     4.400</td>\n",
       "</tr>\n",
       "<tr>\n",
       "  <th>x3</th>    <td>    0.2391</td> <td>    0.076</td> <td>    3.163</td> <td> 0.002</td> <td>    0.089     0.389</td>\n",
       "</tr>\n",
       "<tr>\n",
       "  <th>x5</th>    <td>    0.2787</td> <td>    0.078</td> <td>    3.582</td> <td> 0.001</td> <td>    0.124     0.433</td>\n",
       "</tr>\n",
       "<tr>\n",
       "  <th>x4</th>    <td>    0.6770</td> <td>    0.195</td> <td>    3.475</td> <td> 0.001</td> <td>    0.290     1.064</td>\n",
       "</tr>\n",
       "<tr>\n",
       "  <th>x7</th>    <td>   -2.5913</td> <td>    0.832</td> <td>   -3.115</td> <td> 0.002</td> <td>   -4.245    -0.938</td>\n",
       "</tr>\n",
       "</table>\n",
       "<table class=\"simpletable\">\n",
       "<tr>\n",
       "  <th>Omnibus:</th>       <td> 5.624</td> <th>  Durbin-Watson:     </th> <td>   1.718</td>\n",
       "</tr>\n",
       "<tr>\n",
       "  <th>Prob(Omnibus):</th> <td> 0.060</td> <th>  Jarque-Bera (JB):  </th> <td>   3.905</td>\n",
       "</tr>\n",
       "<tr>\n",
       "  <th>Skew:</th>          <td> 0.351</td> <th>  Prob(JB):          </th> <td>   0.142</td>\n",
       "</tr>\n",
       "<tr>\n",
       "  <th>Kurtosis:</th>      <td> 2.290</td> <th>  Cond. No.          </th> <td>    620.</td>\n",
       "</tr>\n",
       "</table>"
      ],
      "text/plain": [
       "<class 'statsmodels.iolib.summary.Summary'>\n",
       "\"\"\"\n",
       "                            OLS Regression Results                            \n",
       "==============================================================================\n",
       "Dep. Variable:                      y   R-squared:                       0.811\n",
       "Model:                            OLS   Adj. R-squared:                  0.800\n",
       "Method:                 Least Squares   F-statistic:                     75.50\n",
       "Date:                Sun, 26 Apr 2015   Prob (F-statistic):           2.49e-30\n",
       "Time:                        00:20:33   Log-Likelihood:                -315.88\n",
       "No. Observations:                  94   AIC:                             643.8\n",
       "Df Residuals:                      88   BIC:                             659.0\n",
       "Df Model:                           5                                         \n",
       "==============================================================================\n",
       "                 coef    std err          t      P>|t|      [95.0% Conf. Int.]\n",
       "------------------------------------------------------------------------------\n",
       "const        -42.1069      8.990     -4.684      0.000       -59.972   -24.242\n",
       "x2             3.4714      0.467      7.428      0.000         2.543     4.400\n",
       "x3             0.2391      0.076      3.163      0.002         0.089     0.389\n",
       "x5             0.2787      0.078      3.582      0.001         0.124     0.433\n",
       "x4             0.6770      0.195      3.475      0.001         0.290     1.064\n",
       "x7            -2.5913      0.832     -3.115      0.002        -4.245    -0.938\n",
       "==============================================================================\n",
       "Omnibus:                        5.624   Durbin-Watson:                   1.718\n",
       "Prob(Omnibus):                  0.060   Jarque-Bera (JB):                3.905\n",
       "Skew:                           0.351   Prob(JB):                        0.142\n",
       "Kurtosis:                       2.290   Cond. No.                         620.\n",
       "==============================================================================\n",
       "\"\"\""
      ]
     },
     "execution_count": 295,
     "metadata": {},
     "output_type": "execute_result"
    },
    {
     "data": {
      "image/png": "[encoded data removed]",
      "text/plain": [
       "<matplotlib.figure.Figure at 0x7f693b2c0d50>"
      ]
     },
     "metadata": {},
     "output_type": "display_data"
    }
   ],
   "source": [
    "df = pd.read_csv('ncaa.data2.txt',delim_whitespace=True)\n",
    "df.head()\n",
    "x = df.ix[:,0:19]\n",
    "y = df.ix[:,19]\n",
    "fsr_fast(x,y,0.05,4,1)[0].summary()"
   ]
  },
  {
   "cell_type": "code",
   "execution_count": 296,
   "metadata": {
    "collapsed": false
   },
   "outputs": [
    {
     "name": "stdout",
     "output_type": "stream",
     "text": [
      "(0    -44.327079\n",
      "1      0.021881\n",
      "2      3.011726\n",
      "3      0.214705\n",
      "4      0.764621\n",
      "5      0.216301\n",
      "6      0.106215\n",
      "7     -2.361223\n",
      "8     -0.298818\n",
      "9      1.143781\n",
      "10    -0.000072\n",
      "11     0.066673\n",
      "12    -0.093154\n",
      "13     0.033116\n",
      "14     0.026811\n",
      "15    -0.000000\n",
      "16     0.049923\n",
      "17    -0.037481\n",
      "18    -0.032718\n",
      "19     0.021964\n",
      "dtype: float64, 0     19.629963\n",
      "1      0.053562\n",
      "2      0.939698\n",
      "3      0.140278\n",
      "4      0.286638\n",
      "5      0.157552\n",
      "6      0.135324\n",
      "7      1.622961\n",
      "8      0.460943\n",
      "9      1.476677\n",
      "10     0.000193\n",
      "11     0.161593\n",
      "12     0.264631\n",
      "13     0.071869\n",
      "14     0.199994\n",
      "15     0.000001\n",
      "16     0.136407\n",
      "17     0.078907\n",
      "18     0.076471\n",
      "19     0.067228\n",
      "dtype: float64, matrix([[ 37.6118],\n",
      "        [ 52.8732],\n",
      "        [ 54.8586],\n",
      "        [ 51.0313],\n",
      "        [ 54.9188],\n",
      "        [ 51.4285],\n",
      "        [ 60.1073],\n",
      "        [ 85.7997],\n",
      "        [ 61.0322],\n",
      "        [ 67.3723],\n",
      "        [ 53.9166],\n",
      "        [ 63.9063],\n",
      "        [ 58.4593],\n",
      "        [ 59.6534],\n",
      "        [ 98.2325],\n",
      "        [ 44.875 ],\n",
      "        [ 47.6985],\n",
      "        [ 61.4741],\n",
      "        [ 61.1738],\n",
      "        [ 33.5798],\n",
      "        [ 70.2586],\n",
      "        [ 73.1266],\n",
      "        [ 48.0668],\n",
      "        [ 40.8039],\n",
      "        [ 81.8037],\n",
      "        [ 59.4862],\n",
      "        [ 54.568 ],\n",
      "        [ 58.5036],\n",
      "        [ 55.2314],\n",
      "        [ 51.8823],\n",
      "        [ 52.0981],\n",
      "        [ 53.6701],\n",
      "        [ 34.2661],\n",
      "        [ 49.5041],\n",
      "        [ 37.5172],\n",
      "        [ 63.851 ],\n",
      "        [ 36.2224],\n",
      "        [ 64.0581],\n",
      "        [ 72.5708],\n",
      "        [ 79.0536],\n",
      "        [ 59.9859],\n",
      "        [ 54.4864],\n",
      "        [ 54.9454],\n",
      "        [ 50.5373],\n",
      "        [ 68.4982],\n",
      "        [ 54.254 ],\n",
      "        [ 62.2361],\n",
      "        [ 56.8152],\n",
      "        [ 38.9955],\n",
      "        [ 71.9235],\n",
      "        [ 98.5516],\n",
      "        [ 63.5579],\n",
      "        [ 60.8351],\n",
      "        [ 48.9276],\n",
      "        [ 52.5988],\n",
      "        [ 46.6989],\n",
      "        [ 53.2442],\n",
      "        [ 69.0715],\n",
      "        [ 64.3582],\n",
      "        [ 66.8362],\n",
      "        [ 85.4852],\n",
      "        [ 78.0277],\n",
      "        [ 45.2167],\n",
      "        [ 43.3337],\n",
      "        [ 31.4155],\n",
      "        [ 59.1089],\n",
      "        [ 54.8159],\n",
      "        [ 98.5916],\n",
      "        [ 71.0205],\n",
      "        [ 64.8116],\n",
      "        [ 52.0842],\n",
      "        [ 59.0712],\n",
      "        [ 28.6614],\n",
      "        [ 59.8814],\n",
      "        [ 71.4671],\n",
      "        [ 51.8642],\n",
      "        [ 39.648 ],\n",
      "        [ 65.2089],\n",
      "        [ 59.7925],\n",
      "        [ 72.338 ],\n",
      "        [ 71.5345],\n",
      "        [ 66.9741],\n",
      "        [ 40.2639],\n",
      "        [ 39.7619],\n",
      "        [ 89.5521],\n",
      "        [ 82.5573],\n",
      "        [ 67.3375],\n",
      "        [ 46.2574],\n",
      "        [ 81.1956],\n",
      "        [ 61.4997],\n",
      "        [ 60.2239],\n",
      "        [ 51.46  ],\n",
      "        [ 67.5193],\n",
      "        [ 50.5448]]), 0.041188193342605109, 7.21)\n"
     ]
    }
   ],
   "source": [
    "ho = bag_fsr(x,y,100,0.05,fsr_fast,4)  "
   ]
  },
  {
   "cell_type": "code",
   "execution_count": 291,
   "metadata": {
    "collapsed": false
   },
   "outputs": [
    {
     "data": {
      "text/html": [
       "<table class=\"simpletable\">\n",
       "<caption>OLS Regression Results</caption>\n",
       "<tr>\n",
       "  <th>Dep. Variable:</th>          <td>event</td>      <th>  R-squared:         </th> <td>   0.086</td>\n",
       "</tr>\n",
       "<tr>\n",
       "  <th>Model:</th>                   <td>OLS</td>       <th>  Adj. R-squared:    </th> <td>   0.083</td>\n",
       "</tr>\n",
       "<tr>\n",
       "  <th>Method:</th>             <td>Least Squares</td>  <th>  F-statistic:       </th> <td>   24.92</td>\n",
       "</tr>\n",
       "<tr>\n",
       "  <th>Date:</th>             <td>Sun, 26 Apr 2015</td> <th>  Prob (F-statistic):</th> <td>4.53e-11</td>\n",
       "</tr>\n",
       "<tr>\n",
       "  <th>Time:</th>                 <td>00:19:19</td>     <th>  Log-Likelihood:    </th> <td> -3810.5</td>\n",
       "</tr>\n",
       "<tr>\n",
       "  <th>No. Observations:</th>      <td>   532</td>      <th>  AIC:               </th> <td>   7627.</td>\n",
       "</tr>\n",
       "<tr>\n",
       "  <th>Df Residuals:</th>          <td>   529</td>      <th>  BIC:               </th> <td>   7640.</td>\n",
       "</tr>\n",
       "<tr>\n",
       "  <th>Df Model:</th>              <td>     2</td>      <th>                     </th>     <td> </td>   \n",
       "</tr>\n",
       "</table>\n",
       "<table class=\"simpletable\">\n",
       "<tr>\n",
       "    <td></td>       <th>coef</th>     <th>std err</th>      <th>t</th>      <th>P>|t|</th> <th>[95.0% Conf. Int.]</th> \n",
       "</tr>\n",
       "<tr>\n",
       "  <th>const</th> <td>  622.0209</td> <td>   48.880</td> <td>   12.725</td> <td> 0.000</td> <td>  525.998   718.044</td>\n",
       "</tr>\n",
       "<tr>\n",
       "  <th>cd40</th>  <td>    0.8018</td> <td>    0.121</td> <td>    6.620</td> <td> 0.000</td> <td>    0.564     1.040</td>\n",
       "</tr>\n",
       "<tr>\n",
       "  <th>cd80</th>  <td>   -0.1053</td> <td>    0.029</td> <td>   -3.622</td> <td> 0.000</td> <td>   -0.162    -0.048</td>\n",
       "</tr>\n",
       "</table>\n",
       "<table class=\"simpletable\">\n",
       "<tr>\n",
       "  <th>Omnibus:</th>       <td>56.479</td> <th>  Durbin-Watson:     </th> <td>   1.989</td>\n",
       "</tr>\n",
       "<tr>\n",
       "  <th>Prob(Omnibus):</th> <td> 0.000</td> <th>  Jarque-Bera (JB):  </th> <td>  42.967</td>\n",
       "</tr>\n",
       "<tr>\n",
       "  <th>Skew:</th>          <td>-0.596</td> <th>  Prob(JB):          </th> <td>4.68e-10</td>\n",
       "</tr>\n",
       "<tr>\n",
       "  <th>Kurtosis:</th>      <td> 2.280</td> <th>  Cond. No.          </th> <td>4.12e+03</td>\n",
       "</tr>\n",
       "</table>"
      ],
      "text/plain": [
       "<class 'statsmodels.iolib.summary.Summary'>\n",
       "\"\"\"\n",
       "                            OLS Regression Results                            \n",
       "==============================================================================\n",
       "Dep. Variable:                  event   R-squared:                       0.086\n",
       "Model:                            OLS   Adj. R-squared:                  0.083\n",
       "Method:                 Least Squares   F-statistic:                     24.92\n",
       "Date:                Sun, 26 Apr 2015   Prob (F-statistic):           4.53e-11\n",
       "Time:                        00:19:19   Log-Likelihood:                -3810.5\n",
       "No. Observations:                 532   AIC:                             7627.\n",
       "Df Residuals:                     529   BIC:                             7640.\n",
       "Df Model:                           2                                         \n",
       "==============================================================================\n",
       "                 coef    std err          t      P>|t|      [95.0% Conf. Int.]\n",
       "------------------------------------------------------------------------------\n",
       "const        622.0209     48.880     12.725      0.000       525.998   718.044\n",
       "cd40           0.8018      0.121      6.620      0.000         0.564     1.040\n",
       "cd80          -0.1053      0.029     -3.622      0.000        -0.162    -0.048\n",
       "==============================================================================\n",
       "Omnibus:                       56.479   Durbin-Watson:                   1.989\n",
       "Prob(Omnibus):                  0.000   Jarque-Bera (JB):               42.967\n",
       "Skew:                          -0.596   Prob(JB):                     4.68e-10\n",
       "Kurtosis:                       2.280   Cond. No.                     4.12e+03\n",
       "==============================================================================\n",
       "\n",
       "Warnings:\n",
       "[1] The condition number is large, 4.12e+03. This might indicate that there are\n",
       "strong multicollinearity or other numerical problems.\n",
       "\"\"\""
      ]
     },
     "execution_count": 291,
     "metadata": {},
     "output_type": "execute_result"
    },
    {
     "data": {
      "image/png": "[encoded data removed]",
      "text/plain": [
       "<matplotlib.figure.Figure at 0x7f6939def110>"
      ]
     },
     "metadata": {},
     "output_type": "display_data"
    }
   ],
   "source": [
    "# Real Case 1: 12 linear variables \n",
    "df = pd.read_csv('actg.175.trt0.txt',delim_whitespace=True)\n",
    "x = DataFrame(df, columns = ['cd40','cd80','age','wtkg','karnof','hemo','homo','drugs','race','gender','str2','symptom'])\n",
    "y = df.ix[:,2]\n",
    "fsr_fast(x,y,0.05,4,1)[0].summary()"
   ]
  },
  {
   "cell_type": "code",
   "execution_count": 293,
   "metadata": {
    "collapsed": false
   },
   "outputs": [
    {
     "name": "stdout",
     "output_type": "stream",
     "text": [
      "(0     648.699944\n",
      "1       0.791876\n",
      "2      -0.103357\n",
      "3       0.080302\n",
      "4      -0.591846\n",
      "5       0.276773\n",
      "6     -46.271976\n",
      "7      12.615884\n",
      "8     -11.657673\n",
      "9     -20.765497\n",
      "10     -0.520910\n",
      "11     -5.801544\n",
      "12    -13.124827\n",
      "dtype: float64, 0     172.874008\n",
      "1       0.119850\n",
      "2       0.042034\n",
      "3       0.723409\n",
      "4       1.106170\n",
      "5       1.391328\n",
      "6      72.214007\n",
      "7      34.434114\n",
      "8      34.055185\n",
      "9      36.714855\n",
      "10     19.092501\n",
      "11     18.573485\n",
      "12     31.836969\n",
      "dtype: float64, matrix([[  955.8446],\n",
      "        [  761.9784],\n",
      "        [  860.7675],\n",
      "        [  791.4686],\n",
      "        [  563.6031],\n",
      "        [  818.1259],\n",
      "        [  720.0956],\n",
      "        [  784.178 ],\n",
      "        [  729.6593],\n",
      "        [  867.5916],\n",
      "        [  693.2018],\n",
      "        [  805.4746],\n",
      "        [ 1153.2468],\n",
      "        [  719.7291],\n",
      "        [  781.2804],\n",
      "        [  695.69  ],\n",
      "        [  885.6893],\n",
      "        [  795.5398],\n",
      "        [  925.643 ],\n",
      "        [  697.8143],\n",
      "        [  868.3839],\n",
      "        [  673.7654],\n",
      "        [  929.7436],\n",
      "        [  850.0288],\n",
      "        [  715.938 ],\n",
      "        [  877.3546],\n",
      "        [  860.6477],\n",
      "        [  881.709 ],\n",
      "        [  826.4308],\n",
      "        [  946.4198],\n",
      "        [  824.3318],\n",
      "        [  884.8545],\n",
      "        [  788.4276],\n",
      "        [  721.9806],\n",
      "        [  821.5718],\n",
      "        [  708.4748],\n",
      "        [  761.3741],\n",
      "        [  917.815 ],\n",
      "        [  727.5969],\n",
      "        [  917.2827],\n",
      "        [  764.1003],\n",
      "        [  692.2863],\n",
      "        [  797.8635],\n",
      "        [  769.9797],\n",
      "        [  634.0398],\n",
      "        [  818.8667],\n",
      "        [  629.9555],\n",
      "        [  818.6441],\n",
      "        [  832.3352],\n",
      "        [  650.8065],\n",
      "        [  882.3677],\n",
      "        [  787.1092],\n",
      "        [  794.8357],\n",
      "        [  733.3076],\n",
      "        [  671.9423],\n",
      "        [  864.9213],\n",
      "        [  768.8599],\n",
      "        [  911.8974],\n",
      "        [  710.1191],\n",
      "        [  725.7823],\n",
      "        [  740.6562],\n",
      "        [  738.0946],\n",
      "        [  889.1859],\n",
      "        [  769.283 ],\n",
      "        [  743.5575],\n",
      "        [  872.5103],\n",
      "        [  685.5448],\n",
      "        [  902.8821],\n",
      "        [  706.6362],\n",
      "        [  841.6652],\n",
      "        [  684.5757],\n",
      "        [  787.6483],\n",
      "        [  618.6891],\n",
      "        [  731.0228],\n",
      "        [  786.7911],\n",
      "        [  759.003 ],\n",
      "        [  811.0144],\n",
      "        [  787.7894],\n",
      "        [  872.5887],\n",
      "        [  835.1459],\n",
      "        [  934.3986],\n",
      "        [ 1082.5523],\n",
      "        [  776.2802],\n",
      "        [ 1046.6384],\n",
      "        [  690.6853],\n",
      "        [  840.5491],\n",
      "        [  756.4336],\n",
      "        [  600.4909],\n",
      "        [  779.6959],\n",
      "        [  801.2972],\n",
      "        [  810.0215],\n",
      "        [  779.657 ],\n",
      "        [  619.596 ],\n",
      "        [ 1048.828 ],\n",
      "        [  877.5491],\n",
      "        [  738.6272],\n",
      "        [  711.0965],\n",
      "        [  796.6147],\n",
      "        [  892.5352],\n",
      "        [  776.3119],\n",
      "        [  879.5073],\n",
      "        [  737.7185],\n",
      "        [  743.6972],\n",
      "        [  841.2729],\n",
      "        [  866.8398],\n",
      "        [  773.4247],\n",
      "        [  708.275 ],\n",
      "        [  637.0382],\n",
      "        [  794.5233],\n",
      "        [  859.4029],\n",
      "        [  994.0148],\n",
      "        [  661.6957],\n",
      "        [  783.5217],\n",
      "        [  798.3826],\n",
      "        [  842.3187],\n",
      "        [  865.4408],\n",
      "        [  811.2589],\n",
      "        [  769.7451],\n",
      "        [  727.1257],\n",
      "        [  738.2589],\n",
      "        [  812.5957],\n",
      "        [  756.4554],\n",
      "        [  681.2703],\n",
      "        [  820.0167],\n",
      "        [  759.9892],\n",
      "        [  815.3395],\n",
      "        [  798.312 ],\n",
      "        [  929.1916],\n",
      "        [  814.0949],\n",
      "        [  764.5148],\n",
      "        [  843.7861],\n",
      "        [  925.3814],\n",
      "        [  900.8286],\n",
      "        [  802.2984],\n",
      "        [  924.0586],\n",
      "        [  815.4677],\n",
      "        [  836.8243],\n",
      "        [  951.7419],\n",
      "        [  920.375 ],\n",
      "        [  822.2333],\n",
      "        [  866.7615],\n",
      "        [  887.0077],\n",
      "        [  799.2055],\n",
      "        [  813.8733],\n",
      "        [  874.4793],\n",
      "        [  955.3643],\n",
      "        [  725.9371],\n",
      "        [  736.6339],\n",
      "        [  821.7646],\n",
      "        [  689.6726],\n",
      "        [  823.4287],\n",
      "        [  909.5938],\n",
      "        [  805.3277],\n",
      "        [  714.1439],\n",
      "        [  938.7442],\n",
      "        [  928.5638],\n",
      "        [  778.2557],\n",
      "        [  687.5284],\n",
      "        [  704.1883],\n",
      "        [  858.0855],\n",
      "        [  854.0073],\n",
      "        [  827.5912],\n",
      "        [  830.4655],\n",
      "        [  959.5877],\n",
      "        [  668.6869],\n",
      "        [  672.6548],\n",
      "        [  779.9329],\n",
      "        [  983.0777],\n",
      "        [  789.1021],\n",
      "        [ 1081.9482],\n",
      "        [  663.3226],\n",
      "        [  681.6306],\n",
      "        [  820.7073],\n",
      "        [  860.9483],\n",
      "        [  739.8965],\n",
      "        [  777.2363],\n",
      "        [  812.513 ],\n",
      "        [  801.2824],\n",
      "        [  667.4442],\n",
      "        [  699.2306],\n",
      "        [  791.8322],\n",
      "        [  822.7824],\n",
      "        [  774.5862],\n",
      "        [  928.7507],\n",
      "        [  742.0367],\n",
      "        [  683.7039],\n",
      "        [  837.3464],\n",
      "        [  674.287 ],\n",
      "        [  668.9307],\n",
      "        [  780.0298],\n",
      "        [  679.0196],\n",
      "        [  755.2363],\n",
      "        [  806.6366],\n",
      "        [  810.0671],\n",
      "        [  704.42  ],\n",
      "        [  878.3728],\n",
      "        [  729.0349],\n",
      "        [  724.464 ],\n",
      "        [  977.2184],\n",
      "        [  760.1488],\n",
      "        [  884.7686],\n",
      "        [  739.5939],\n",
      "        [  815.8227],\n",
      "        [  852.1448],\n",
      "        [  806.3376],\n",
      "        [  779.0551],\n",
      "        [  859.4268],\n",
      "        [  752.0677],\n",
      "        [  784.4402],\n",
      "        [  986.6395],\n",
      "        [  868.4165],\n",
      "        [  766.7592],\n",
      "        [  910.2976],\n",
      "        [  909.5344],\n",
      "        [  688.5553],\n",
      "        [  829.4724],\n",
      "        [  738.9301],\n",
      "        [  641.3561],\n",
      "        [  721.9504],\n",
      "        [  700.2488],\n",
      "        [  908.4974],\n",
      "        [  692.4671],\n",
      "        [  754.2872],\n",
      "        [  811.3632],\n",
      "        [  745.8376],\n",
      "        [  886.8948],\n",
      "        [  925.625 ],\n",
      "        [  741.9418],\n",
      "        [  838.9404],\n",
      "        [  868.6297],\n",
      "        [  855.8097],\n",
      "        [  806.1303],\n",
      "        [  763.3011],\n",
      "        [  932.3103],\n",
      "        [  935.9197],\n",
      "        [  734.3064],\n",
      "        [  735.1426],\n",
      "        [  875.146 ],\n",
      "        [  752.3659],\n",
      "        [  838.7366],\n",
      "        [  904.5534],\n",
      "        [  809.3897],\n",
      "        [  773.6087],\n",
      "        [  720.4944],\n",
      "        [  856.3419],\n",
      "        [  800.4518],\n",
      "        [  765.1718],\n",
      "        [  689.888 ],\n",
      "        [  798.6348],\n",
      "        [  773.6325],\n",
      "        [  734.2773],\n",
      "        [  829.3238],\n",
      "        [  660.5308],\n",
      "        [  773.8946],\n",
      "        [  795.7835],\n",
      "        [  726.9496],\n",
      "        [  870.2622],\n",
      "        [  701.0245],\n",
      "        [  691.2791],\n",
      "        [  796.2101],\n",
      "        [  738.6347],\n",
      "        [  961.211 ],\n",
      "        [  885.3544],\n",
      "        [  843.1278],\n",
      "        [  871.6316],\n",
      "        [  913.877 ],\n",
      "        [  673.7216],\n",
      "        [  764.394 ],\n",
      "        [  876.5857],\n",
      "        [  934.7582],\n",
      "        [  911.1272],\n",
      "        [  824.6595],\n",
      "        [  751.2103],\n",
      "        [  721.8295],\n",
      "        [  739.5458],\n",
      "        [  737.2772],\n",
      "        [  742.2142],\n",
      "        [  781.3988],\n",
      "        [  973.1671],\n",
      "        [  774.1531],\n",
      "        [  790.8528],\n",
      "        [  837.1617],\n",
      "        [  662.712 ],\n",
      "        [  825.9592],\n",
      "        [  814.5973],\n",
      "        [  950.4605],\n",
      "        [  879.4384],\n",
      "        [  781.9752],\n",
      "        [  898.4415],\n",
      "        [ 1105.2956],\n",
      "        [  632.4357],\n",
      "        [  814.8454],\n",
      "        [  748.039 ],\n",
      "        [  812.2005],\n",
      "        [  870.218 ],\n",
      "        [  905.261 ],\n",
      "        [ 1010.2707],\n",
      "        [  774.1527],\n",
      "        [  823.8206],\n",
      "        [  634.5341],\n",
      "        [  802.3017],\n",
      "        [  708.8323],\n",
      "        [  762.8884],\n",
      "        [  753.5837],\n",
      "        [  714.4492],\n",
      "        [  821.8853],\n",
      "        [  714.0556],\n",
      "        [  769.4998],\n",
      "        [  823.9893],\n",
      "        [  799.792 ],\n",
      "        [  685.0378],\n",
      "        [  619.5792],\n",
      "        [  890.7925],\n",
      "        [  707.6309],\n",
      "        [  591.126 ],\n",
      "        [  799.3432],\n",
      "        [  831.2569],\n",
      "        [  913.0163],\n",
      "        [ 1051.8011],\n",
      "        [  858.0697],\n",
      "        [  817.7024],\n",
      "        [  798.3368],\n",
      "        [  913.3463],\n",
      "        [  893.7103],\n",
      "        [  811.933 ],\n",
      "        [  651.7479],\n",
      "        [  658.9241],\n",
      "        [  782.4675],\n",
      "        [  763.3988],\n",
      "        [  866.2227],\n",
      "        [  894.8278],\n",
      "        [ 1045.0591],\n",
      "        [  862.8608],\n",
      "        [  893.7197],\n",
      "        [  885.2027],\n",
      "        [  838.4376],\n",
      "        [  710.4567],\n",
      "        [  696.024 ],\n",
      "        [  713.2069],\n",
      "        [  912.3314],\n",
      "        [  811.6458],\n",
      "        [  779.2783],\n",
      "        [  659.2268],\n",
      "        [  853.5994],\n",
      "        [  937.2493],\n",
      "        [  739.1478],\n",
      "        [  871.8217],\n",
      "        [  760.6687],\n",
      "        [  880.0578],\n",
      "        [  992.2041],\n",
      "        [  805.3755],\n",
      "        [  605.1543],\n",
      "        [  750.4521],\n",
      "        [  659.2104],\n",
      "        [  646.8217],\n",
      "        [  773.8125],\n",
      "        [  735.83  ],\n",
      "        [  846.4676],\n",
      "        [  816.4141],\n",
      "        [  730.0869],\n",
      "        [  893.1272],\n",
      "        [  842.3976],\n",
      "        [  765.5197],\n",
      "        [  877.1344],\n",
      "        [  877.875 ],\n",
      "        [  960.1218],\n",
      "        [  757.139 ],\n",
      "        [ 1034.03  ],\n",
      "        [  844.8676],\n",
      "        [  858.2917],\n",
      "        [  853.3288],\n",
      "        [  918.6654],\n",
      "        [  895.3351],\n",
      "        [  685.7696],\n",
      "        [  731.7422],\n",
      "        [  864.6853],\n",
      "        [ 1042.3963],\n",
      "        [  598.8468],\n",
      "        [  827.3742],\n",
      "        [  799.4583],\n",
      "        [  951.9225],\n",
      "        [  867.4682],\n",
      "        [  815.7651],\n",
      "        [  647.0205],\n",
      "        [  811.4277],\n",
      "        [  706.9609],\n",
      "        [  693.1377],\n",
      "        [  859.3296],\n",
      "        [  820.3757],\n",
      "        [  877.0455],\n",
      "        [  597.4917],\n",
      "        [  831.1607],\n",
      "        [  935.6018],\n",
      "        [  735.6069],\n",
      "        [  714.0589],\n",
      "        [  675.455 ],\n",
      "        [  932.7134],\n",
      "        [  748.4984],\n",
      "        [  795.7274],\n",
      "        [  885.1589],\n",
      "        [  637.898 ],\n",
      "        [  773.6597],\n",
      "        [  910.6514],\n",
      "        [  862.8423],\n",
      "        [  824.6489],\n",
      "        [  800.2592],\n",
      "        [  865.0554],\n",
      "        [  774.2066],\n",
      "        [  724.6181],\n",
      "        [  722.2031],\n",
      "        [  953.3286],\n",
      "        [  679.1181],\n",
      "        [  742.931 ],\n",
      "        [  741.4488],\n",
      "        [  824.3072],\n",
      "        [  892.6472],\n",
      "        [ 1076.1581],\n",
      "        [  837.6676],\n",
      "        [  902.3917],\n",
      "        [  820.5048],\n",
      "        [  869.3416],\n",
      "        [  967.2078],\n",
      "        [  741.4013],\n",
      "        [  738.3775],\n",
      "        [  687.7776],\n",
      "        [  980.1523],\n",
      "        [  818.0526],\n",
      "        [  710.0688],\n",
      "        [  945.4791],\n",
      "        [  770.1369],\n",
      "        [  651.2212],\n",
      "        [  829.5254],\n",
      "        [  950.7296],\n",
      "        [  914.1958],\n",
      "        [  715.5398],\n",
      "        [  660.5247],\n",
      "        [  653.8677],\n",
      "        [  822.6623],\n",
      "        [  746.1287],\n",
      "        [  866.4334],\n",
      "        [  787.2075],\n",
      "        [  791.0885],\n",
      "        [  932.346 ],\n",
      "        [  642.9889],\n",
      "        [  496.588 ],\n",
      "        [  819.0318],\n",
      "        [  735.4463],\n",
      "        [  848.5332],\n",
      "        [  923.0022],\n",
      "        [  813.0644],\n",
      "        [  699.9193],\n",
      "        [  978.9096],\n",
      "        [  949.6995],\n",
      "        [  745.7778],\n",
      "        [  791.1802],\n",
      "        [  707.3654],\n",
      "        [  750.0508],\n",
      "        [  994.7159],\n",
      "        [  837.941 ],\n",
      "        [  722.3311],\n",
      "        [  758.7387],\n",
      "        [  917.771 ],\n",
      "        [  859.6684],\n",
      "        [  792.5709],\n",
      "        [  861.9769],\n",
      "        [  918.3727],\n",
      "        [  972.5388],\n",
      "        [  898.4182],\n",
      "        [  865.6333],\n",
      "        [  919.478 ],\n",
      "        [  751.2788],\n",
      "        [  766.118 ],\n",
      "        [  662.5813],\n",
      "        [  772.0633],\n",
      "        [  766.8812],\n",
      "        [  901.7883],\n",
      "        [  752.7684],\n",
      "        [  785.4826],\n",
      "        [  874.5294],\n",
      "        [  811.6662],\n",
      "        [  476.28  ],\n",
      "        [  645.9355],\n",
      "        [  744.7793],\n",
      "        [  789.8056],\n",
      "        [  885.9276],\n",
      "        [  860.0546],\n",
      "        [  663.9542],\n",
      "        [  746.6265],\n",
      "        [  785.4098],\n",
      "        [  769.8465],\n",
      "        [  766.2595],\n",
      "        [  790.4766],\n",
      "        [  851.2602],\n",
      "        [ 1001.3003],\n",
      "        [  905.5315],\n",
      "        [  709.6664],\n",
      "        [  776.7329],\n",
      "        [  749.4437],\n",
      "        [  759.864 ],\n",
      "        [  827.6514],\n",
      "        [  723.4676],\n",
      "        [  777.161 ],\n",
      "        [  739.2506],\n",
      "        [  729.6509],\n",
      "        [  791.216 ],\n",
      "        [  775.1712],\n",
      "        [  861.0841],\n",
      "        [  657.2099],\n",
      "        [  804.3996],\n",
      "        [  644.21  ],\n",
      "        [  829.6316],\n",
      "        [  827.2678],\n",
      "        [  770.1095],\n",
      "        [  833.0326],\n",
      "        [  976.7757],\n",
      "        [  630.1802],\n",
      "        [  772.3211],\n",
      "        [  602.5267],\n",
      "        [  925.9871],\n",
      "        [  854.5216],\n",
      "        [  765.6448],\n",
      "        [  597.7067],\n",
      "        [  866.3197],\n",
      "        [  830.7437],\n",
      "        [  718.2827],\n",
      "        [  885.598 ],\n",
      "        [  626.1005],\n",
      "        [  792.3468],\n",
      "        [  822.2904],\n",
      "        [  768.1192],\n",
      "        [  657.0064],\n",
      "        [  623.3955]]), 0.028939826839826842, 3.3599999999999999)\n"
     ]
    }
   ],
   "source": [
    "ho = bag_fsr(x,y,100,0.05,fsr_fast,4)   \n",
    "print ho"
   ]
  },
  {
   "cell_type": "code",
   "execution_count": 256,
   "metadata": {
    "collapsed": false
   },
   "outputs": [
    {
     "data": {
      "text/html": [
       "<table class=\"simpletable\">\n",
       "<caption>OLS Regression Results</caption>\n",
       "<tr>\n",
       "  <th>Dep. Variable:</th>          <td>event</td>      <th>  R-squared:         </th> <td>   0.092</td>\n",
       "</tr>\n",
       "<tr>\n",
       "  <th>Model:</th>                   <td>OLS</td>       <th>  Adj. R-squared:    </th> <td>   0.088</td>\n",
       "</tr>\n",
       "<tr>\n",
       "  <th>Method:</th>             <td>Least Squares</td>  <th>  F-statistic:       </th> <td>   26.76</td>\n",
       "</tr>\n",
       "<tr>\n",
       "  <th>Date:</th>             <td>Sun, 26 Apr 2015</td> <th>  Prob (F-statistic):</th> <td>8.52e-12</td>\n",
       "</tr>\n",
       "<tr>\n",
       "  <th>Time:</th>                 <td>00:07:41</td>     <th>  Log-Likelihood:    </th> <td> -3808.8</td>\n",
       "</tr>\n",
       "<tr>\n",
       "  <th>No. Observations:</th>      <td>   532</td>      <th>  AIC:               </th> <td>   7624.</td>\n",
       "</tr>\n",
       "<tr>\n",
       "  <th>Df Residuals:</th>          <td>   529</td>      <th>  BIC:               </th> <td>   7636.</td>\n",
       "</tr>\n",
       "<tr>\n",
       "  <th>Df Model:</th>              <td>     2</td>      <th>                     </th>     <td> </td>   \n",
       "</tr>\n",
       "</table>\n",
       "<table class=\"simpletable\">\n",
       "<tr>\n",
       "    <td></td>       <th>coef</th>     <th>std err</th>      <th>t</th>      <th>P>|t|</th> <th>[95.0% Conf. Int.]</th> \n",
       "</tr>\n",
       "<tr>\n",
       "  <th>const</th> <td>  526.9251</td> <td>   44.312</td> <td>   11.891</td> <td> 0.000</td> <td>  439.875   613.975</td>\n",
       "</tr>\n",
       "<tr>\n",
       "  <th>0</th>     <td>    0.7830</td> <td>    0.120</td> <td>    6.544</td> <td> 0.000</td> <td>    0.548     1.018</td>\n",
       "</tr>\n",
       "<tr>\n",
       "  <th>32</th>    <td>   -0.1600</td> <td>    0.039</td> <td>   -4.069</td> <td> 0.000</td> <td>   -0.237    -0.083</td>\n",
       "</tr>\n",
       "</table>\n",
       "<table class=\"simpletable\">\n",
       "<tr>\n",
       "  <th>Omnibus:</th>       <td>52.216</td> <th>  Durbin-Watson:     </th> <td>   1.980</td>\n",
       "</tr>\n",
       "<tr>\n",
       "  <th>Prob(Omnibus):</th> <td> 0.000</td> <th>  Jarque-Bera (JB):  </th> <td>  40.574</td>\n",
       "</tr>\n",
       "<tr>\n",
       "  <th>Skew:</th>          <td>-0.580</td> <th>  Prob(JB):          </th> <td>1.55e-09</td>\n",
       "</tr>\n",
       "<tr>\n",
       "  <th>Kurtosis:</th>      <td> 2.303</td> <th>  Cond. No.          </th> <td>1.24e+03</td>\n",
       "</tr>\n",
       "</table>"
      ],
      "text/plain": [
       "<class 'statsmodels.iolib.summary.Summary'>\n",
       "\"\"\"\n",
       "                            OLS Regression Results                            \n",
       "==============================================================================\n",
       "Dep. Variable:                  event   R-squared:                       0.092\n",
       "Model:                            OLS   Adj. R-squared:                  0.088\n",
       "Method:                 Least Squares   F-statistic:                     26.76\n",
       "Date:                Sun, 26 Apr 2015   Prob (F-statistic):           8.52e-12\n",
       "Time:                        00:07:41   Log-Likelihood:                -3808.8\n",
       "No. Observations:                 532   AIC:                             7624.\n",
       "Df Residuals:                     529   BIC:                             7636.\n",
       "Df Model:                           2                                         \n",
       "==============================================================================\n",
       "                 coef    std err          t      P>|t|      [95.0% Conf. Int.]\n",
       "------------------------------------------------------------------------------\n",
       "const        526.9251     44.312     11.891      0.000       439.875   613.975\n",
       "0              0.7830      0.120      6.544      0.000         0.548     1.018\n",
       "32            -0.1600      0.039     -4.069      0.000        -0.237    -0.083\n",
       "==============================================================================\n",
       "Omnibus:                       52.216   Durbin-Watson:                   1.980\n",
       "Prob(Omnibus):                  0.000   Jarque-Bera (JB):               40.574\n",
       "Skew:                          -0.580   Prob(JB):                     1.55e-09\n",
       "Kurtosis:                       2.303   Cond. No.                     1.24e+03\n",
       "==============================================================================\n",
       "\n",
       "Warnings:\n",
       "[1] The condition number is large, 1.24e+03. This might indicate that there are\n",
       "strong multicollinearity or other numerical problems.\n",
       "\"\"\""
      ]
     },
     "execution_count": 256,
     "metadata": {},
     "output_type": "execute_result"
    },
    {
     "data": {
      "image/png": "[encoded data removed]",
      "text/plain": [
       "<matplotlib.figure.Figure at 0x7f6939d925d0>"
      ]
     },
     "metadata": {},
     "output_type": "display_data"
    }
   ],
   "source": [
    "# Two function of cleaning the data and created the quadratic and interaction variables 83 variables\n",
    "def io13():\n",
    "    \"\"\"Numpy loadtxt.\"\"\"\n",
    "    df = pd.read_csv('actg.175.trt0.txt',delim_whitespace=True)\n",
    "    x = DataFrame(df, columns = ['cd40','cd80','age','wtkg','karnof','hemo','homo','drugs','race','gender','str2','symptom'])\n",
    "    y = df.ix[:,2]\n",
    "    x_15 = x.ix[:,0:5]\n",
    "    x.ix[:,0:5] = x_15-x_15.mean()\n",
    "    quadratic = (x.ix[:,0:5])**2\n",
    "    count=-1\n",
    "    new = np.zeros(shape=(df.shape[0],66))\n",
    "    for i in range(x.shape[1]):\n",
    "      for j in range(i+1,x.shape[1]):\n",
    "           count = count+1\n",
    "           new[:,count] = x.ix[:,i] * x.ix[:,j]\n",
    "    X = DataFrame(df, columns = ['hemo','homo','drugs','race','gender','str2','symptom'])\n",
    "    x = np.concatenate((x_15,X,quadratic,new),axis=1)\n",
    "    x = pd.DataFrame(x)\n",
    "    x.ix[:,63]=np.random.normal(0, 1, x.shape[0])\n",
    "    return y,x\n",
    "\n",
    "y = io13()[0]\n",
    "x = io13()[1]\n",
    "\n",
    "fsr_fast(x,y,0.05,4,1)[0].summary()"
   ]
  },
  {
   "cell_type": "markdown",
   "metadata": {},
   "source": [
    "- Code optimization: too many loops \n",
    "- Programming optimization: vectorize the code and parallize programming\n",
    "- algorithm optimization"
   ]
  },
  {
   "cell_type": "markdown",
   "metadata": {},
   "source": [
    "# Method Comparision : Lasso, Ridge, Forward Selection with BIC"
   ]
  },
  {
   "cell_type": "code",
   "execution_count": 120,
   "metadata": {
    "collapsed": false
   },
   "outputs": [
    {
     "data": {
      "text/plain": [
       "(75,)"
      ]
     },
     "execution_count": 120,
     "metadata": {},
     "output_type": "execute_result"
    }
   ],
   "source": [
    "from sklearn.linear_model import Lasso\n",
    "alpha = 0.5\n",
    "lasso = Lasso(alpha=alpha, tol=0.001)\n",
    "y_coef_lasso = lasso.fit(x, y).coef_\n",
    "y_coef_lasso[np.round(y_coef_lasso,4) != 0].shape\n"
   ]
  },
  {
   "cell_type": "code",
   "execution_count": 121,
   "metadata": {
    "collapsed": false
   },
   "outputs": [
    {
     "data": {
      "text/plain": [
       "(81,)"
      ]
     },
     "execution_count": 121,
     "metadata": {},
     "output_type": "execute_result"
    }
   ],
   "source": [
    "from sklearn.linear_model import Ridge\n",
    "alpha = 0.5\n",
    "ridge = Ridge(alpha=0.5,tol=0.001)\n",
    "y_coef_ridge = ridge.fit(x, y).coef_\n",
    "y_coef_ridge[np.round(y_coef_ridge,3) != 0].shape"
   ]
  },
  {
   "cell_type": "markdown",
   "metadata": {},
   "source": [
    "# Method Assesment and comparison"
   ]
  },
  {
   "cell_type": "markdown",
   "metadata": {},
   "source": [
    "- Comparsion among lasso, fast fsr, ridge and forward selectino with BIC based on two criteria: Model Error Ratio \n",
    "  and False Selection Rate by the simulated data \n",
    "- In this simulation study, I simulated 100 data points with 42 variables. Four models are simulated: H1: all variables are zeros. H2: 6 variables are non-zeros at variables 6–8 and 13–15 with values (9,4,1). H3: 10 variables are non-zeros at variables 5–9 and 12–16 with values (25,16,9,4,1). H4: 14 variables are non-zeros at variables 4–10 and 11–17 with value (49, 36, 25, 16, 9, 4, 1)\n",
    "- Plot the ME and FSR comparison plot for four models"
   ]
  },
  {
   "cell_type": "code",
   "execution_count": 122,
   "metadata": {
    "collapsed": false
   },
   "outputs": [],
   "source": [
    "def ME (method_coef,x,y,n):\n",
    "    me=[]\n",
    "    for i in range(n):\n",
    "        me.append(np.sum((np.dot(method_coef,x.transpose())-y)**2)/150.0)\n",
    "        i = i + 1\n",
    "    return me\n"
   ]
  },
  {
   "cell_type": "code",
   "execution_count": 123,
   "metadata": {
    "collapsed": true
   },
   "outputs": [],
   "source": [
    "# function to find the False Selection Rate  \n",
    "def FSRR (target,method_selected,n):\n",
    "    l=[]\n",
    "    for i in range(n):\n",
    "      I = set(target)&set(method_selected)\n",
    "      l.append((len(method_selected)-len(I))/(1.0+len(method_selected)))\n",
    "      i = i+1\n",
    "    return l"
   ]
  },
  {
   "cell_type": "markdown",
   "metadata": {},
   "source": [
    "#  Parall pragramming"
   ]
  },
  {
   "cell_type": "code",
   "execution_count": 124,
   "metadata": {
    "collapsed": false
   },
   "outputs": [],
   "source": [
    "def pi_multiprocessing1(target,method,n):\n",
    "    \"\"\"Split a job of length n into num_procs pieces.\"\"\"\n",
    "    import multiprocessing\n",
    "    m = multiprocessing.cpu_count()\n",
    "    pool = multiprocessing.Pool(m)\n",
    "    mapfunc = partial(FSRR, target,method)\n",
    "    results = pool.map(mapfunc,[n/m]*m)\n",
    "    pool.close()\n",
    "    return np.mean(results)\n"
   ]
  },
  {
   "cell_type": "code",
   "execution_count": 125,
   "metadata": {
    "collapsed": true
   },
   "outputs": [],
   "source": [
    "def pi_multiprocessing2(ME,method_coef,x,y,n):\n",
    "    \"\"\"Split a job of length n into num_procs pieces.\"\"\"\n",
    "    m = multiprocessing.cpu_count()\n",
    "    pool = multiprocessing.Pool(m)\n",
    "    mapfunc = partial(ME,method_coef,x,y)\n",
    "    results = pool.map(mapfunc,[n/m]*m)\n",
    "    pool.close()\n",
    "    return np.mean(results),min(min(results))"
   ]
  },
  {
   "cell_type": "code",
   "execution_count": 128,
   "metadata": {
    "collapsed": false
   },
   "outputs": [
    {
     "name": "stdout",
     "output_type": "stream",
     "text": [
      "LASSO FSR is 0.0\n"
     ]
    }
   ],
   "source": [
    "# Simulate the data set under model 1\n",
    "x = pd.DataFrame(np.random.normal(1, 1, 21*150).reshape(150,21))\n",
    "y = np.random.normal(1, 1, 150)\n",
    "quad1 = (x.ix[:,0:20])**2\n",
    "x = np.concatenate((x,quad1),axis=1)\n",
    "x = pd.DataFrame(x)\n",
    "\n",
    "alpha = 0.5\n",
    "lasso = Lasso(alpha=alpha, tol=0.001)\n",
    "y_coef_lasso = lasso.fit(x, y).coef_\n",
    "lasso_index = np.where(y_coef_lasso != 0)[0]+1\n",
    "\n",
    "target =[]\n",
    "n = int(1e5)\n",
    "print \"LASSO FSR is\",pi_multiprocessing1(target,lasso_index,n)\n",
    "\n",
    "\n",
    "    "
   ]
  },
  {
   "cell_type": "code",
   "execution_count": 129,
   "metadata": {
    "collapsed": false
   },
   "outputs": [
    {
     "name": "stdout",
     "output_type": "stream",
     "text": [
      "LASSO FSR is 0.0\n",
      "(1.8510745950583427, 1.8510745950583427)\n",
      "LASSO ME is 1.0\n",
      "FAST FSR is 0\n"
     ]
    }
   ],
   "source": [
    "target =[]\n",
    "print \"LASSO FSR is\",pi_multiprocessing1(target,lasso_index,n)\n",
    "me_r = pi_multiprocessing2(ME,y_coef_lasso,x,y,n)\n",
    "print me_r\n",
    "print \"LASSO ME is\",me_r[1]/me_r[0]\n",
    "print \"FAST FSR is\",fsr_fast(x,y,0.05,4,0)[2]"
   ]
  },
  {
   "cell_type": "code",
   "execution_count": null,
   "metadata": {
    "collapsed": false
   },
   "outputs": [],
   "source": [
    "# Simulate the data under model 2 6–8 and 13–15\n",
    "x = pd.DataFrame(np.random.normal(1, 1, 21*150).reshape(150,21))\n",
    "y = 9*x.ix[:,5]+4*x.ix[:,6]+x.ix[:,7]+9*x.ix[:,12]+4*x.ix[:,13]+x.ix[:,14]\n",
    "quad2 = (x.ix[:,0:20])**2\n",
    "x = np.concatenate((x,quad2),axis=1)\n",
    "x = pd.DataFrame(x)\n",
    "\n",
    "alpha = 0.5\n",
    "lasso = Lasso(alpha=alpha, tol=0.001)\n",
    "y_coef_lasso = lasso.fit(x, y).coef_\n",
    "lasso_index = np.where(y_coef_lasso != 0)[0]+1\n",
    "\n",
    "n = int(1e5)\n",
    "target = [6,7,8,13,14,15]\n",
    "\n",
    "print \"LASSO FSR is\",pi_multiprocessing1(target,lasso_index,n) ##parallel programming 100 times then average\n",
    "print \"LASSO ME is\",pi_multiprocessing2(ME,y_coef_lasso,x,y,n)\n",
    "print \"FAST FSR is\",pi_multiprocessing1(target,fsr_fast(x,y,0.05,4,0)[2],n)"
   ]
  },
  {
   "cell_type": "code",
   "execution_count": 101,
   "metadata": {
    "collapsed": false
   },
   "outputs": [
    {
     "name": "stdout",
     "output_type": "stream",
     "text": [
      " LASSO FSR is"
     ]
    },
    {
     "ename": "NameError",
     "evalue": "global name 'partial' is not defined",
     "output_type": "error",
     "traceback": [
      "\u001b[1;31m---------------------------------------------------------------------------\u001b[0m",
      "\u001b[1;31mNameError\u001b[0m                                 Traceback (most recent call last)",
      "\u001b[1;32m<ipython-input-101-7dcf760ef959>\u001b[0m in \u001b[0;36m<module>\u001b[1;34m()\u001b[0m\n\u001b[0;32m     16\u001b[0m \u001b[0mn\u001b[0m \u001b[1;33m=\u001b[0m \u001b[0mint\u001b[0m\u001b[1;33m(\u001b[0m\u001b[1;36m1e5\u001b[0m\u001b[1;33m)\u001b[0m\u001b[1;33m\u001b[0m\u001b[0m\n\u001b[0;32m     17\u001b[0m \u001b[0mtarget\u001b[0m \u001b[1;33m=\u001b[0m \u001b[1;33m[\u001b[0m\u001b[1;36m5\u001b[0m\u001b[1;33m,\u001b[0m\u001b[1;36m6\u001b[0m\u001b[1;33m,\u001b[0m\u001b[1;36m7\u001b[0m\u001b[1;33m,\u001b[0m\u001b[1;36m8\u001b[0m\u001b[1;33m,\u001b[0m\u001b[1;36m9\u001b[0m\u001b[1;33m,\u001b[0m\u001b[1;36m12\u001b[0m\u001b[1;33m,\u001b[0m\u001b[1;36m13\u001b[0m\u001b[1;33m,\u001b[0m\u001b[1;36m14\u001b[0m\u001b[1;33m,\u001b[0m\u001b[1;36m15\u001b[0m\u001b[1;33m,\u001b[0m\u001b[1;36m16\u001b[0m\u001b[1;33m]\u001b[0m\u001b[1;33m\u001b[0m\u001b[0m\n\u001b[1;32m---> 18\u001b[1;33m \u001b[1;32mprint\u001b[0m \u001b[1;34m\"LASSO FSR is\"\u001b[0m\u001b[1;33m,\u001b[0m\u001b[0mpi_multiprocessing1\u001b[0m\u001b[1;33m(\u001b[0m\u001b[0mtarget\u001b[0m\u001b[1;33m,\u001b[0m\u001b[0mlasso_index\u001b[0m\u001b[1;33m,\u001b[0m\u001b[0mn\u001b[0m\u001b[1;33m)\u001b[0m \u001b[1;31m##parallel programming 100 times then average\u001b[0m\u001b[1;33m\u001b[0m\u001b[0m\n\u001b[0m\u001b[0;32m     19\u001b[0m \u001b[1;32mprint\u001b[0m \u001b[1;34m\"LASSO ME is\"\u001b[0m\u001b[1;33m,\u001b[0m\u001b[0mpi_multiprocessing2\u001b[0m\u001b[1;33m(\u001b[0m\u001b[0mME\u001b[0m\u001b[1;33m,\u001b[0m\u001b[0my_coef_lasso\u001b[0m\u001b[1;33m,\u001b[0m\u001b[0mx\u001b[0m\u001b[1;33m,\u001b[0m\u001b[0my\u001b[0m\u001b[1;33m,\u001b[0m\u001b[0mn\u001b[0m\u001b[1;33m)\u001b[0m\u001b[1;33m\u001b[0m\u001b[0m\n\u001b[0;32m     20\u001b[0m \u001b[1;32mprint\u001b[0m \u001b[1;34m\"FAST FSR is\"\u001b[0m\u001b[1;33m,\u001b[0m\u001b[0mpi_multiprocessing1\u001b[0m\u001b[1;33m(\u001b[0m\u001b[0mtarget\u001b[0m\u001b[1;33m,\u001b[0m\u001b[0mfsr_fast\u001b[0m\u001b[1;33m(\u001b[0m\u001b[0mx\u001b[0m\u001b[1;33m,\u001b[0m\u001b[0my\u001b[0m\u001b[1;33m,\u001b[0m\u001b[1;36m0.05\u001b[0m\u001b[1;33m,\u001b[0m\u001b[1;36m4\u001b[0m\u001b[1;33m,\u001b[0m\u001b[1;36m0\u001b[0m\u001b[1;33m)\u001b[0m\u001b[1;33m[\u001b[0m\u001b[1;36m2\u001b[0m\u001b[1;33m]\u001b[0m\u001b[1;33m,\u001b[0m\u001b[0mn\u001b[0m\u001b[1;33m)\u001b[0m\u001b[1;33m\u001b[0m\u001b[0m\n",
      "\u001b[1;32m<ipython-input-98-62ae8166891a>\u001b[0m in \u001b[0;36mpi_multiprocessing1\u001b[1;34m(target, method, n)\u001b[0m\n\u001b[0;32m      4\u001b[0m     \u001b[0mm\u001b[0m \u001b[1;33m=\u001b[0m \u001b[0mmultiprocessing\u001b[0m\u001b[1;33m.\u001b[0m\u001b[0mcpu_count\u001b[0m\u001b[1;33m(\u001b[0m\u001b[1;33m)\u001b[0m\u001b[1;33m\u001b[0m\u001b[0m\n\u001b[0;32m      5\u001b[0m     \u001b[0mpool\u001b[0m \u001b[1;33m=\u001b[0m \u001b[0mmultiprocessing\u001b[0m\u001b[1;33m.\u001b[0m\u001b[0mPool\u001b[0m\u001b[1;33m(\u001b[0m\u001b[0mm\u001b[0m\u001b[1;33m)\u001b[0m\u001b[1;33m\u001b[0m\u001b[0m\n\u001b[1;32m----> 6\u001b[1;33m     \u001b[0mmapfunc\u001b[0m \u001b[1;33m=\u001b[0m \u001b[0mpartial\u001b[0m\u001b[1;33m(\u001b[0m\u001b[0mFSRR\u001b[0m\u001b[1;33m,\u001b[0m \u001b[0mtarget\u001b[0m\u001b[1;33m,\u001b[0m\u001b[0mmethod\u001b[0m\u001b[1;33m)\u001b[0m\u001b[1;33m\u001b[0m\u001b[0m\n\u001b[0m\u001b[0;32m      7\u001b[0m     \u001b[0mresults\u001b[0m \u001b[1;33m=\u001b[0m \u001b[0mpool\u001b[0m\u001b[1;33m.\u001b[0m\u001b[0mmap\u001b[0m\u001b[1;33m(\u001b[0m\u001b[0mmapfunc\u001b[0m\u001b[1;33m,\u001b[0m\u001b[1;33m[\u001b[0m\u001b[0mn\u001b[0m\u001b[1;33m/\u001b[0m\u001b[0mm\u001b[0m\u001b[1;33m]\u001b[0m\u001b[1;33m*\u001b[0m\u001b[0mm\u001b[0m\u001b[1;33m)\u001b[0m\u001b[1;33m\u001b[0m\u001b[0m\n\u001b[0;32m      8\u001b[0m     \u001b[0mpool\u001b[0m\u001b[1;33m.\u001b[0m\u001b[0mclose\u001b[0m\u001b[1;33m(\u001b[0m\u001b[1;33m)\u001b[0m\u001b[1;33m\u001b[0m\u001b[0m\n",
      "\u001b[1;31mNameError\u001b[0m: global name 'partial' is not defined"
     ]
    }
   ],
   "source": [
    "# Simulate the data under model 3 5–9 and 12–16 \n",
    "x = pd.DataFrame(np.random.normal(1, 1, 21*150).reshape(150,21))\n",
    "y = 25*x.ix[:,4]+16*x.ix[:,5]+9*x.ix[:,6]+4*x.ix[:,7]+1*x.ix[:,8]+25*x.ix[:,11]+16*x.ix[:,12]+9*x.ix[:,13]+4*x.ix[:,14]+1*x.ix[:,15]\n",
    "quad3 = (x.ix[:,0:20])**2\n",
    "x = np.concatenate((x,quad3),axis=1)\n",
    "x = pd.DataFrame(x)\n",
    "\n",
    "\n",
    "alpha = 0.5\n",
    "lasso = Lasso(alpha=alpha, tol=0.001)\n",
    "y_coef_lasso = lasso.fit(x, y).coef_\n",
    "lasso_index = np.where(y_coef_lasso != 0)[0]+1\n",
    "\n",
    "\n",
    "\n",
    "n = int(1e5)\n",
    "target = [5,6,7,8,9,12,13,14,15,16]\n",
    "print \"LASSO FSR is\",pi_multiprocessing1(target,lasso_index,n) ##parallel programming 100 times then average\n",
    "print \"LASSO ME is\",pi_multiprocessing2(ME,y_coef_lasso,x,y,n)\n",
    "print \"FAST FSR is\",pi_multiprocessing1(target,fsr_fast(x,y,0.05,4,0)[2],n)"
   ]
  },
  {
   "cell_type": "code",
   "execution_count": 548,
   "metadata": {
    "collapsed": false
   },
   "outputs": [
    {
     "name": "stdout",
     "output_type": "stream",
     "text": [
      "LASSO FSR is 0.518518518519\n",
      "LASSO ME is (123.85160024467945, 123.85160024465611)\n",
      "FAST FSR is 0.125\n"
     ]
    }
   ],
   "source": [
    "# Simulate the data under model 4  4–10 and 11–17 \n",
    "x = pd.DataFrame(np.random.normal(1, 1, 21*150).reshape(150,21))\n",
    "y = 45*x.ix[:,3]+36*x.ix[:,4]+25*x.ix[:,5]+16*x.ix[:,6]+9*x.ix[:,7]+4*x.ix[:,8]+x.ix[:,9]+45*x.ix[:,10]+36*x.ix[:,11]+25*x.ix[:,12]+16*x.ix[:,13]+9*x.ix[:,14]+4*x.ix[:,15]+x.ix[:,16]\n",
    "quad4 = (x.ix[:,0:20])**2\n",
    "x = np.concatenate((x,quad4),axis=1)\n",
    "x = pd.DataFrame(x) \n",
    "\n",
    "alpha = 0.5\n",
    "lasso = Lasso(alpha=alpha, tol=0.001)\n",
    "y_coef_lasso = lasso.fit(x, y).coef_\n",
    "lasso_index = np.where(y_coef_lasso != 0)[0]+1\n",
    "\n",
    "n = int(1e5)\n",
    "target = [4,5,6,7,8,9,10,11,12,13,14,15,16]\n",
    "print \"LASSO FSR is\",pi_multiprocessing1(target,lasso_index,n) ##parallel programming 100000 times then average\n",
    "print \"LASSO ME is\",pi_multiprocessing2(ME,y_coef_lasso,x,y,n)\n",
    "print \"FAST FSR is\",pi_multiprocessing1(target,fsr_fast(x,y,0.05,4,0)[2],n)"
   ]
  },
  {
   "cell_type": "markdown",
   "metadata": {},
   "source": [
    "# Profiling the Functions and Optimizing the code by parall pragramming "
   ]
  },
  {
   "cell_type": "code",
   "execution_count": 547,
   "metadata": {
    "collapsed": false
   },
   "outputs": [
    {
     "name": "stdout",
     "output_type": "stream",
     "text": [
      "1 loops, best of 3: 426 ms per loop\n",
      "1 loops, best of 3: 809 ms per loop\n"
     ]
    },
    {
     "name": "stderr",
     "output_type": "stream",
     "text": [
      "Exception in thread Thread-1201:\n",
      "Traceback (most recent call last):\n",
      "  File \"/home/bitnami/anaconda/lib/python2.7/threading.py\", line 810, in __bootstrap_inner\n",
      "    self.run()\n",
      "  File \"/home/bitnami/anaconda/lib/python2.7/site-packages/zmq/utils/garbage.py\", line 34, in run\n",
      "    s.bind(self.gc.url)\n",
      "  File \"socket.pyx\", line 444, in zmq.backend.cython.socket.Socket.bind (zmq/backend/cython/socket.c:4076)\n",
      "  File \"checkrc.pxd\", line 21, in zmq.backend.cython.checkrc._check_rc (zmq/backend/cython/socket.c:6032)\n",
      "ZMQError: Address already in use\n"
     ]
    }
   ],
   "source": [
    "n = int(1e5)\n",
    "%timeit pi_multiprocessing1(target,lasso_index,n)\n",
    "%timeit np.mean(FSRR(target,lasso_index,n))"
   ]
  },
  {
   "cell_type": "code",
   "execution_count": 546,
   "metadata": {
    "collapsed": false
   },
   "outputs": [],
   "source": [
    "! pip install --pre line-profiler &> /dev/null\n",
    "! pip install psutil &> /dev/null\n",
    "! pip install memory_profiler &> /dev/null"
   ]
  },
  {
   "cell_type": "code",
   "execution_count": 83,
   "metadata": {
    "collapsed": false
   },
   "outputs": [
    {
     "name": "stdout",
     "output_type": "stream",
     "text": [
      "1 loops, best of 1: 143 ms per loop\n",
      "1 loops, best of 1: 29 ms per loop\n"
     ]
    }
   ],
   "source": [
    "%timeit -r1 -n1 fsr_fast(x,y,.05,4,0)\n",
    "%timeit -r1 -n1 io13(interaction)"
   ]
  },
  {
   "cell_type": "code",
   "execution_count": 85,
   "metadata": {
    "collapsed": false
   },
   "outputs": [
    {
     "name": "stdout",
     "output_type": "stream",
     "text": [
      "          132355 function calls (132010 primitive calls) in 0.169 seconds\n",
      "\n",
      "   Ordered by: internal time\n",
      "   List reduced from 458 to 10 due to restriction <10>\n",
      "\n",
      "   ncalls  tottime  percall  cumtime  percall filename:lineno(function)\n",
      "      166    0.024    0.000    0.060    0.000 doccer.py:12(docformat)\n",
      "      168    0.016    0.000    0.018    0.000 numpy2ri.py:42(numpy2ri)\n",
      "       86    0.016    0.000    0.016    0.000 {sum}\n",
      "     5146    0.011    0.000    0.011    0.000 {method 'expandtabs' of 'str' objects}\n",
      "       85    0.008    0.000    0.008    0.000 {method 'rcall' of 'rpy2.rinterface.SexpClosure' objects}\n",
      "      166    0.008    0.000    0.012    0.000 doccer.py:128(indentcount_lines)\n",
      "     5146    0.007    0.000    0.007    0.000 {method 'splitlines' of 'str' objects}\n",
      "        1    0.006    0.006    0.049    0.049 functions.py:95(__call__)\n",
      "    50400    0.004    0.000    0.004    0.000 {method 'append' of 'list' objects}\n",
      "       83    0.003    0.000    0.087    0.001 _distn_infrastructure.py:1395(__init__)\n",
      "\n",
      "\n"
     ]
    },
    {
     "data": {
      "text/plain": [
       "<pstats.Stats instance at 0x7f06f3183dd0>"
      ]
     },
     "execution_count": 85,
     "metadata": {},
     "output_type": "execute_result"
    }
   ],
   "source": [
    "stat = %prun -r -q fsr_fast(x,y,.05,4,0)\n",
    "stat.sort_stats('time').print_stats(10)"
   ]
  },
  {
   "cell_type": "code",
   "execution_count": 86,
   "metadata": {
    "collapsed": false
   },
   "outputs": [
    {
     "name": "stdout",
     "output_type": "stream",
     "text": [
      "         132355 function calls (132010 primitive calls) in 0.169 seconds\n",
      "\n",
      "   Ordered by: internal time\n",
      "   List reduced from 458 to 1 due to restriction <'ipython'>\n",
      "\n",
      "   ncalls  tottime  percall  cumtime  percall filename:lineno(function)\n",
      "        1    0.002    0.002    0.179    0.179 <ipython-input-75-5fd1a2e39ab4>:2(fsr_fast)\n",
      "\n",
      "\n"
     ]
    },
    {
     "data": {
      "text/plain": [
       "<pstats.Stats instance at 0x7f06f3183dd0>"
      ]
     },
     "execution_count": 86,
     "metadata": {},
     "output_type": "execute_result"
    }
   ],
   "source": [
    "stat.sort_stats('time').print_stats(r'ipython')"
   ]
  },
  {
   "cell_type": "code",
   "execution_count": 88,
   "metadata": {
    "collapsed": false
   },
   "outputs": [],
   "source": [
    "%load_ext memory_profiler"
   ]
  },
  {
   "cell_type": "code",
   "execution_count": 89,
   "metadata": {
    "collapsed": false
   },
   "outputs": [
    {
     "name": "stdout",
     "output_type": "stream",
     "text": [
      "peak memory: 188.52 MiB, increment: 0.02 MiB\n"
     ]
    }
   ],
   "source": [
    "%memit fsr_fast(x,y,.05,4,0)"
   ]
  },
  {
   "cell_type": "markdown",
   "metadata": {},
   "source": [
    "- 1.how to improve the input reading speed? necessary use numpy.load or not?\n",
    "- 2.how to detect which part should be improved? based on my running time for the functions\n",
    "- 3.does my memory use too much memory for the data?\n",
    "- 4.comparision : glmnet result lasso julia?\n",
    "- 5.one column covariance equals to zero.....add random value to it....?\n",
    "- 6.julia? can i solve it????"
   ]
  },
  {
   "cell_type": "markdown",
   "metadata": {
    "collapsed": false
   },
   "source": [
    "# Draft of Make Files:\n",
    "\n"
   ]
  },
  {
   "cell_type": "markdown",
   "metadata": {},
   "source": [
    "- make -f MyMakefile\n",
    "- target: dependencies\n",
    "- make -f Makefile-1"
   ]
  },
  {
   "cell_type": "code",
   "execution_count": null,
   "metadata": {
    "collapsed": true
   },
   "outputs": [],
   "source": []
  }
 ],
 "metadata": {
  "kernelspec": {
   "display_name": "Python 2",
   "language": "python",
   "name": "python2"
  },
  "language_info": {
   "codemirror_mode": {
    "name": "ipython",
    "version": 2
   },
   "file_extension": ".py",
   "mimetype": "text/x-python",
   "name": "python",
   "nbconvert_exporter": "python",
   "pygments_lexer": "ipython2",
   "version": "2.7.9"
  }
 },
 "nbformat": 4,
 "nbformat_minor": 0
}
