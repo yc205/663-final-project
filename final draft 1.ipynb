{
 "cells": [
  {
   "cell_type": "code",
   "execution_count": 6,
   "metadata": {
    "collapsed": false
   },
   "outputs": [
    {
     "data": {
      "text/plain": [
       "u'%.4f'"
      ]
     },
     "execution_count": 6,
     "metadata": {},
     "output_type": "execute_result"
    },
    {
     "name": "stdout",
     "output_type": "stream",
     "text": [
      "\n"
     ]
    }
   ],
   "source": [
    "import os\n",
    "import sys\n",
    "import glob\n",
    "import matplotlib.pyplot as plt\n",
    "import numpy as np\n",
    "import pandas as pd\n",
    "from scipy import stats\n",
    "import statsmodels.api as sm\n",
    "import scipy.stats as ss\n",
    "from functools import partial\n",
    "from pandas import Series, DataFrame, Panel\n",
    "from sklearn.linear_model import Lasso\n",
    "from sklearn.linear_model import Ridge\n",
    "import multiprocessing\n",
    "%matplotlib inline\n",
    "%precision 4"
   ]
  },
  {
   "cell_type": "code",
   "execution_count": 7,
   "metadata": {
    "collapsed": false
   },
   "outputs": [],
   "source": [
    "%load_ext rpy2.ipython\n",
    "from rpy2.robjects.packages import importr\n",
    "p1=importr('leaps')\n",
    "p2=importr('stats')"
   ]
  },
  {
   "cell_type": "markdown",
   "metadata": {},
   "source": [
    "# FSR Function Code"
   ]
  },
  {
   "cell_type": "code",
   "execution_count": 8,
   "metadata": {
    "collapsed": false
   },
   "outputs": [],
   "source": [
    "\n",
    "def fsr_fast(x,y):\n",
    "    gam0=0.05\n",
    "    digits = 4\n",
    "    pl = 1\n",
    "    m = x.shape[1]\n",
    "    n = x.shape[0]\n",
    "    if(m >= n): \n",
    "        m1=n-5  \n",
    "    else: \n",
    "        m1=m \n",
    "    vm = range(m1)\n",
    "  # if only partially named columns corrects for no colnames\n",
    "    pvm = [0] * m1\n",
    "    out_x = p1.regsubsets(x,y,method=\"forward\")  \n",
    "    rss = out_x[9]\n",
    "    nn = out_x[26][0]\n",
    "    q = [(rss[i]-rss[i+1])*(nn-i-2)/rss[i+1] for i in range(len(rss)-1)]\n",
    "    rvf = [ ss.f(1,nn-i-2)  for i in range(len(rss)-1)]\n",
    "    orig =  [1-rvf[i].cdf(q[i]) for i in range(len(rss)-1)]\n",
    "\n",
    " # sequential max of pvalues\n",
    "    for i in range(m1):\n",
    "        pvm[i] = max(orig[0:i+1])\n",
    "    alpha = [0]+pvm\n",
    "    ng = len(alpha)\n",
    " # will contain num. of true entering in orig\n",
    "    S = [0] * ng\n",
    " # loop through alpha values for S=size                        \n",
    "    for ia in range(1,ng):                   \n",
    "        S[ia] = sum([pvm[i] <= alpha[ia] for i in range(len(pvm))])        # size of models at alpha[ia], S[1]=0\n",
    "    ghat = [(m-S[i])*alpha[i]/(1+S[i]) for i in range(len(alpha))]              # gammahat_ER \n",
    " # add additional points to make jumps\n",
    "    alpha2 = np.array(alpha[1:ng])-.0000001\n",
    "    ghat2 = ((m-np.array(S[0:(ng-1)]))*alpha2)/(1+np.array(S[0:(ng-1)]))\n",
    "    a= alpha+list(alpha2)\n",
    "    g=ghat + list(ghat2)\n",
    "    zp = {'a' : a,\n",
    "     'g' : g}\n",
    "    zp = pd.DataFrame(zp)  \n",
    "    zp=np.array(zp)[np.argsort(zp.a)]\n",
    "    index_max= np.argmax(zp[:,1])\n",
    "    alphamax=zp[:,0][index_max]\n",
    "    ind = [0]*len(ghat)\n",
    "    ind = [ 1 if ghat[i]<gam0 and alpha[i]<=alphamax else 0 for i in range(len(ghat))]\n",
    "    Sind = S[np.max(np.where(np.array(ind)>0))]\n",
    "    alphahat_fast = (1+Sind)*gam0/(m-Sind)\n",
    "    size1=np.sum(np.array(pvm)<=alphahat_fast)+1\n",
    "    x=x[list(x.columns.values[list((np.array(out_x[7])-2)[1:size1])])]\n",
    "    x=sm.add_constant(x)\n",
    "    if(size1>1): \n",
    "        x_ind=(np.array(out_x[7])-1)[1:size1]\n",
    "    else:\n",
    "        x_ind=0\n",
    "    if (size1==1):\n",
    "        mod = np.mean(y)\n",
    "    else:\n",
    "        mod = sm.OLS(y, x).fit()\n",
    "    ghat4=(m-size1+1)*np.array(alpha)/(1+np.array(range(m+1)))\n",
    " #plt.axis([0,alphamax,0,1.4]) \n",
    "    if pl == 1:\n",
    "        plt.plot(zp[:,0],zp[:,1],'bo',color='red')\n",
    "        plt.plot([alphahat_fast], [gam0], 'g.', markersize=20.0)\n",
    "        plt.xlabel('Alpha')\n",
    "        plt.ylabel('Estimated Gamma')\n",
    "        plt.axvspan(xmin=-0.1, xmax=alphahat_fast, ymin=0, ymax=0.18)\n",
    "    return mod,size1-1,x_ind,alphahat_fast"
   ]
  },
  {
   "cell_type": "markdown",
   "metadata": {},
   "source": [
    "# Bagging FSR"
   ]
  },
  {
   "cell_type": "code",
   "execution_count": 8,
   "metadata": {
    "collapsed": false
   },
   "outputs": [],
   "source": [
    "def bag_fsr(x,y,B,gam0,fsr_fast,digits):\n",
    "    m = x.shape[1]\n",
    "    n = x.shape[0]\n",
    "    hold = np.zeros((B,m+1))      # holds coefficients\n",
    "    hold = pd.DataFrame(hold)\n",
    "    alphahat = [0] * B                    # holds alphahats\n",
    "    size = [0] * B\n",
    "    for i in range(B):\n",
    "        index = np.random.choice(n, n)\n",
    "        out = fsr_fast(x.ix[index,:],y.ix[index])\n",
    "        if out[1]>0:\n",
    "            hold.iloc[i,out[2]] = np.array(out[0].params)[1:(len(out[2])+1)]\n",
    "        hold.iloc[i,0] = out[0].params[0]\n",
    "        alphahat[i] = out[3]\n",
    "        size[i] = out[1]\n",
    "    hold[np.isnan(hold)]=0\n",
    "    para_av = np.mean(hold,0)\n",
    "    para_sd = [0]*(m+1)\n",
    "    para_sd = np.var(hold,0)**0.5\n",
    "    amean = np.mean(alphahat)\n",
    "    sizem = np.mean(size)\n",
    "    pred = np.matrix(x)*np.transpose(np.matrix(para_av[1:]))+para_av[0]\n",
    "    return para_av,para_sd,pred,amean,sizem\n"
   ]
  },
  {
   "cell_type": "markdown",
   "metadata": {
    "collapsed": false
   },
   "source": [
    "# Example With Real Data Set"
   ]
  },
  {
   "cell_type": "code",
   "execution_count": 77,
   "metadata": {
    "collapsed": false
   },
   "outputs": [
    {
     "data": {
      "text/plain": [
       "(<statsmodels.regression.linear_model.RegressionResultsWrapper at 0x7eff10044410>,\n",
       " 5,\n",
       " array([2, 3, 5, 4, 7], dtype=int32),\n",
       " 0.0214)"
      ]
     },
     "execution_count": 77,
     "metadata": {},
     "output_type": "execute_result"
    },
    {
     "data": {
      "image/png": "[encoded data removed]",
      "text/plain": [
       "<matplotlib.figure.Figure at 0x7eff100447d0>"
      ]
     },
     "metadata": {},
     "output_type": "display_data"
    }
   ],
   "source": [
    "df = pd.read_csv('ncaa.data2.txt',delim_whitespace=True)\n",
    "df.head()\n",
    "x = df.ix[:,0:19]\n",
    "y = df.ix[:,19]\n",
    "fsr_fast(x,y)[0].summary()"
   ]
  },
  {
   "cell_type": "code",
   "execution_count": 10,
   "metadata": {
    "collapsed": false
   },
   "outputs": [
    {
     "data": {
      "image/png": "[encoded data removed]",
      "text/plain": [
       "<matplotlib.figure.Figure at 0x7eff21b55090>"
      ]
     },
     "metadata": {},
     "output_type": "display_data"
    }
   ],
   "source": [
    "ho = bag_fsr(x,y,100,0.05,fsr_fast,4)  "
   ]
  },
  {
   "cell_type": "code",
   "execution_count": 11,
   "metadata": {
    "collapsed": false
   },
   "outputs": [
    {
     "data": {
      "text/html": [
       "<table class=\"simpletable\">\n",
       "<caption>OLS Regression Results</caption>\n",
       "<tr>\n",
       "  <th>Dep. Variable:</th>          <td>event</td>      <th>  R-squared:         </th> <td>   0.086</td>\n",
       "</tr>\n",
       "<tr>\n",
       "  <th>Model:</th>                   <td>OLS</td>       <th>  Adj. R-squared:    </th> <td>   0.083</td>\n",
       "</tr>\n",
       "<tr>\n",
       "  <th>Method:</th>             <td>Least Squares</td>  <th>  F-statistic:       </th> <td>   24.92</td>\n",
       "</tr>\n",
       "<tr>\n",
       "  <th>Date:</th>             <td>Sun, 26 Apr 2015</td> <th>  Prob (F-statistic):</th> <td>4.53e-11</td>\n",
       "</tr>\n",
       "<tr>\n",
       "  <th>Time:</th>                 <td>20:26:15</td>     <th>  Log-Likelihood:    </th> <td> -3810.5</td>\n",
       "</tr>\n",
       "<tr>\n",
       "  <th>No. Observations:</th>      <td>   532</td>      <th>  AIC:               </th> <td>   7627.</td>\n",
       "</tr>\n",
       "<tr>\n",
       "  <th>Df Residuals:</th>          <td>   529</td>      <th>  BIC:               </th> <td>   7640.</td>\n",
       "</tr>\n",
       "<tr>\n",
       "  <th>Df Model:</th>              <td>     2</td>      <th>                     </th>     <td> </td>   \n",
       "</tr>\n",
       "</table>\n",
       "<table class=\"simpletable\">\n",
       "<tr>\n",
       "    <td></td>       <th>coef</th>     <th>std err</th>      <th>t</th>      <th>P>|t|</th> <th>[95.0% Conf. Int.]</th> \n",
       "</tr>\n",
       "<tr>\n",
       "  <th>const</th> <td>  622.0209</td> <td>   48.880</td> <td>   12.725</td> <td> 0.000</td> <td>  525.998   718.044</td>\n",
       "</tr>\n",
       "<tr>\n",
       "  <th>cd40</th>  <td>    0.8018</td> <td>    0.121</td> <td>    6.620</td> <td> 0.000</td> <td>    0.564     1.040</td>\n",
       "</tr>\n",
       "<tr>\n",
       "  <th>cd80</th>  <td>   -0.1053</td> <td>    0.029</td> <td>   -3.622</td> <td> 0.000</td> <td>   -0.162    -0.048</td>\n",
       "</tr>\n",
       "</table>\n",
       "<table class=\"simpletable\">\n",
       "<tr>\n",
       "  <th>Omnibus:</th>       <td>56.479</td> <th>  Durbin-Watson:     </th> <td>   1.989</td>\n",
       "</tr>\n",
       "<tr>\n",
       "  <th>Prob(Omnibus):</th> <td> 0.000</td> <th>  Jarque-Bera (JB):  </th> <td>  42.967</td>\n",
       "</tr>\n",
       "<tr>\n",
       "  <th>Skew:</th>          <td>-0.596</td> <th>  Prob(JB):          </th> <td>4.68e-10</td>\n",
       "</tr>\n",
       "<tr>\n",
       "  <th>Kurtosis:</th>      <td> 2.280</td> <th>  Cond. No.          </th> <td>4.12e+03</td>\n",
       "</tr>\n",
       "</table>"
      ],
      "text/plain": [
       "<class 'statsmodels.iolib.summary.Summary'>\n",
       "\"\"\"\n",
       "                            OLS Regression Results                            \n",
       "==============================================================================\n",
       "Dep. Variable:                  event   R-squared:                       0.086\n",
       "Model:                            OLS   Adj. R-squared:                  0.083\n",
       "Method:                 Least Squares   F-statistic:                     24.92\n",
       "Date:                Sun, 26 Apr 2015   Prob (F-statistic):           4.53e-11\n",
       "Time:                        20:26:15   Log-Likelihood:                -3810.5\n",
       "No. Observations:                 532   AIC:                             7627.\n",
       "Df Residuals:                     529   BIC:                             7640.\n",
       "Df Model:                           2                                         \n",
       "==============================================================================\n",
       "                 coef    std err          t      P>|t|      [95.0% Conf. Int.]\n",
       "------------------------------------------------------------------------------\n",
       "const        622.0209     48.880     12.725      0.000       525.998   718.044\n",
       "cd40           0.8018      0.121      6.620      0.000         0.564     1.040\n",
       "cd80          -0.1053      0.029     -3.622      0.000        -0.162    -0.048\n",
       "==============================================================================\n",
       "Omnibus:                       56.479   Durbin-Watson:                   1.989\n",
       "Prob(Omnibus):                  0.000   Jarque-Bera (JB):               42.967\n",
       "Skew:                          -0.596   Prob(JB):                     4.68e-10\n",
       "Kurtosis:                       2.280   Cond. No.                     4.12e+03\n",
       "==============================================================================\n",
       "\n",
       "Warnings:\n",
       "[1] The condition number is large, 4.12e+03. This might indicate that there are\n",
       "strong multicollinearity or other numerical problems.\n",
       "\"\"\""
      ]
     },
     "execution_count": 11,
     "metadata": {},
     "output_type": "execute_result"
    },
    {
     "data": {
      "image/png": "[encoded data removed]",
      "text/plain": [
       "<matplotlib.figure.Figure at 0x7eff10124c50>"
      ]
     },
     "metadata": {},
     "output_type": "display_data"
    }
   ],
   "source": [
    "# Real Case 1: 12 linear variables \n",
    "df = pd.read_csv('actg.175.trt0.txt',delim_whitespace=True)\n",
    "x = DataFrame(df, columns = ['cd40','cd80','age','wtkg','karnof','hemo','homo','drugs','race','gender','str2','symptom'])\n",
    "y = df.ix[:,2]\n",
    "fsr_fast(x,y)[0].summary()"
   ]
  },
  {
   "cell_type": "code",
   "execution_count": 115,
   "metadata": {
    "collapsed": false
   },
   "outputs": [
    {
     "name": "stdout",
     "output_type": "stream",
     "text": [
      "(0     614.406065\n",
      "1       0.772137\n",
      "2      -0.099051\n",
      "3       0.405435\n",
      "4      -0.507052\n",
      "5       0.506669\n",
      "6     -32.395294\n",
      "7       8.969278\n",
      "8     -16.273553\n",
      "9     -27.549885\n",
      "10     -0.930070\n",
      "11     -5.563249\n",
      "12     -9.343776\n",
      "dtype: float64, 0     195.972561\n",
      "1       0.128431\n",
      "2       0.042707\n",
      "3       1.246380\n",
      "4       1.075167\n",
      "5       1.621354\n",
      "6      61.661988\n",
      "7      27.618374\n",
      "8      40.503981\n",
      "9      41.676181\n",
      "10     14.913286\n",
      "11     23.413653\n",
      "12     28.602841\n",
      "dtype: float64, matrix([[  954.1556],\n",
      "        [  761.3607],\n",
      "        [  855.8887],\n",
      "        [  790.9315],\n",
      "        [  576.7947],\n",
      "        [  810.9513],\n",
      "        [  721.5524],\n",
      "        [  785.9622],\n",
      "        [  735.766 ],\n",
      "        [  865.9993],\n",
      "        [  694.4042],\n",
      "        [  800.6199],\n",
      "        [ 1141.8545],\n",
      "        [  713.5435],\n",
      "        [  777.6952],\n",
      "        [  689.4241],\n",
      "        [  870.1739],\n",
      "        [  788.3237],\n",
      "        [  914.7041],\n",
      "        [  703.7908],\n",
      "        [  878.65  ],\n",
      "        [  683.2057],\n",
      "        [  924.5279],\n",
      "        [  847.3815],\n",
      "        [  716.2787],\n",
      "        [  880.0898],\n",
      "        [  862.0816],\n",
      "        [  876.7159],\n",
      "        [  822.3503],\n",
      "        [  939.5959],\n",
      "        [  821.265 ],\n",
      "        [  882.6166],\n",
      "        [  780.894 ],\n",
      "        [  726.8647],\n",
      "        [  817.412 ],\n",
      "        [  711.8323],\n",
      "        [  770.8366],\n",
      "        [  912.4824],\n",
      "        [  721.8826],\n",
      "        [  914.1365],\n",
      "        [  759.7433],\n",
      "        [  697.7067],\n",
      "        [  800.7548],\n",
      "        [  761.0568],\n",
      "        [  631.2581],\n",
      "        [  812.0525],\n",
      "        [  629.4061],\n",
      "        [  820.7611],\n",
      "        [  830.6859],\n",
      "        [  646.6232],\n",
      "        [  878.6168],\n",
      "        [  788.3812],\n",
      "        [  790.7748],\n",
      "        [  737.6625],\n",
      "        [  678.2815],\n",
      "        [  861.9383],\n",
      "        [  775.425 ],\n",
      "        [  912.5925],\n",
      "        [  708.7505],\n",
      "        [  727.7117],\n",
      "        [  745.088 ],\n",
      "        [  731.5355],\n",
      "        [  890.5547],\n",
      "        [  770.6216],\n",
      "        [  743.7951],\n",
      "        [  870.5087],\n",
      "        [  685.132 ],\n",
      "        [  908.6484],\n",
      "        [  711.8896],\n",
      "        [  840.5043],\n",
      "        [  680.94  ],\n",
      "        [  779.5266],\n",
      "        [  611.4975],\n",
      "        [  733.6346],\n",
      "        [  786.2087],\n",
      "        [  763.566 ],\n",
      "        [  804.9739],\n",
      "        [  789.0056],\n",
      "        [  882.6856],\n",
      "        [  844.6873],\n",
      "        [  926.0914],\n",
      "        [ 1077.3955],\n",
      "        [  780.9168],\n",
      "        [ 1042.1941],\n",
      "        [  682.9009],\n",
      "        [  842.4656],\n",
      "        [  749.2205],\n",
      "        [  609.3505],\n",
      "        [  781.8432],\n",
      "        [  803.3696],\n",
      "        [  807.7986],\n",
      "        [  771.7612],\n",
      "        [  617.7489],\n",
      "        [ 1046.982 ],\n",
      "        [  877.1732],\n",
      "        [  730.3679],\n",
      "        [  706.7243],\n",
      "        [  792.9848],\n",
      "        [  883.7999],\n",
      "        [  776.5834],\n",
      "        [  874.9115],\n",
      "        [  737.1455],\n",
      "        [  745.85  ],\n",
      "        [  845.1709],\n",
      "        [  867.0555],\n",
      "        [  777.6713],\n",
      "        [  704.6711],\n",
      "        [  642.3769],\n",
      "        [  786.9696],\n",
      "        [  859.3674],\n",
      "        [  991.9133],\n",
      "        [  660.7573],\n",
      "        [  787.9241],\n",
      "        [  801.8705],\n",
      "        [  848.5981],\n",
      "        [  857.4265],\n",
      "        [  808.3316],\n",
      "        [  771.6115],\n",
      "        [  732.9984],\n",
      "        [  742.3158],\n",
      "        [  813.898 ],\n",
      "        [  755.2289],\n",
      "        [  686.207 ],\n",
      "        [  815.2235],\n",
      "        [  760.734 ],\n",
      "        [  812.2982],\n",
      "        [  798.8061],\n",
      "        [  920.3362],\n",
      "        [  813.8941],\n",
      "        [  764.2806],\n",
      "        [  841.9237],\n",
      "        [  916.1869],\n",
      "        [  886.086 ],\n",
      "        [  801.3351],\n",
      "        [  915.316 ],\n",
      "        [  819.7708],\n",
      "        [  825.1555],\n",
      "        [  937.9975],\n",
      "        [  913.1519],\n",
      "        [  816.5185],\n",
      "        [  854.0267],\n",
      "        [  884.0888],\n",
      "        [  797.3093],\n",
      "        [  806.6114],\n",
      "        [  867.5288],\n",
      "        [  940.8607],\n",
      "        [  720.5365],\n",
      "        [  739.0294],\n",
      "        [  820.2841],\n",
      "        [  706.6102],\n",
      "        [  816.4243],\n",
      "        [  907.7658],\n",
      "        [  804.9002],\n",
      "        [  713.2325],\n",
      "        [  933.4523],\n",
      "        [  922.0684],\n",
      "        [  774.4811],\n",
      "        [  680.3866],\n",
      "        [  711.9178],\n",
      "        [  850.6164],\n",
      "        [  851.9907],\n",
      "        [  821.7682],\n",
      "        [  822.8147],\n",
      "        [  954.5516],\n",
      "        [  659.7109],\n",
      "        [  665.6703],\n",
      "        [  782.5849],\n",
      "        [  980.1049],\n",
      "        [  793.1188],\n",
      "        [ 1078.1096],\n",
      "        [  675.6468],\n",
      "        [  690.0494],\n",
      "        [  821.8948],\n",
      "        [  857.2447],\n",
      "        [  741.2598],\n",
      "        [  772.6553],\n",
      "        [  808.2016],\n",
      "        [  801.5642],\n",
      "        [  670.4348],\n",
      "        [  704.88  ],\n",
      "        [  793.3678],\n",
      "        [  812.0825],\n",
      "        [  783.6998],\n",
      "        [  923.7708],\n",
      "        [  736.5113],\n",
      "        [  686.7251],\n",
      "        [  833.3499],\n",
      "        [  676.4077],\n",
      "        [  675.975 ],\n",
      "        [  786.1129],\n",
      "        [  680.4215],\n",
      "        [  749.0707],\n",
      "        [  806.6405],\n",
      "        [  813.4429],\n",
      "        [  699.2853],\n",
      "        [  890.581 ],\n",
      "        [  721.1141],\n",
      "        [  717.0704],\n",
      "        [  971.6869],\n",
      "        [  757.1348],\n",
      "        [  873.0789],\n",
      "        [  737.9867],\n",
      "        [  810.7725],\n",
      "        [  844.2673],\n",
      "        [  798.6161],\n",
      "        [  777.2402],\n",
      "        [  863.3176],\n",
      "        [  743.6557],\n",
      "        [  784.7289],\n",
      "        [  982.6085],\n",
      "        [  861.2409],\n",
      "        [  764.1248],\n",
      "        [  905.1781],\n",
      "        [  904.3626],\n",
      "        [  696.117 ],\n",
      "        [  828.0839],\n",
      "        [  741.3595],\n",
      "        [  644.5158],\n",
      "        [  736.4824],\n",
      "        [  709.6362],\n",
      "        [  905.9544],\n",
      "        [  688.931 ],\n",
      "        [  759.6862],\n",
      "        [  801.9832],\n",
      "        [  747.9626],\n",
      "        [  872.9655],\n",
      "        [  917.4652],\n",
      "        [  736.3301],\n",
      "        [  836.4516],\n",
      "        [  863.4872],\n",
      "        [  853.255 ],\n",
      "        [  812.4464],\n",
      "        [  752.9888],\n",
      "        [  916.2217],\n",
      "        [  934.2623],\n",
      "        [  748.7908],\n",
      "        [  733.9321],\n",
      "        [  864.4617],\n",
      "        [  742.9845],\n",
      "        [  833.8785],\n",
      "        [  903.0105],\n",
      "        [  797.5832],\n",
      "        [  776.9549],\n",
      "        [  716.522 ],\n",
      "        [  852.2872],\n",
      "        [  802.7796],\n",
      "        [  763.9911],\n",
      "        [  685.2687],\n",
      "        [  798.0731],\n",
      "        [  767.0684],\n",
      "        [  727.8555],\n",
      "        [  830.4095],\n",
      "        [  660.9995],\n",
      "        [  770.2466],\n",
      "        [  791.9035],\n",
      "        [  731.3466],\n",
      "        [  869.572 ],\n",
      "        [  702.5617],\n",
      "        [  689.3591],\n",
      "        [  793.3353],\n",
      "        [  740.1794],\n",
      "        [  957.4309],\n",
      "        [  876.9214],\n",
      "        [  843.8352],\n",
      "        [  879.7216],\n",
      "        [  908.3088],\n",
      "        [  674.3553],\n",
      "        [  766.8433],\n",
      "        [  873.7759],\n",
      "        [  931.6644],\n",
      "        [  911.9506],\n",
      "        [  831.5802],\n",
      "        [  745.5102],\n",
      "        [  724.1748],\n",
      "        [  745.9455],\n",
      "        [  746.6685],\n",
      "        [  751.2766],\n",
      "        [  789.3839],\n",
      "        [  969.9552],\n",
      "        [  772.7442],\n",
      "        [  783.5016],\n",
      "        [  836.1116],\n",
      "        [  651.8754],\n",
      "        [  824.7334],\n",
      "        [  800.7162],\n",
      "        [  945.655 ],\n",
      "        [  872.9213],\n",
      "        [  776.577 ],\n",
      "        [  892.5526],\n",
      "        [ 1098.3427],\n",
      "        [  647.1042],\n",
      "        [  804.0458],\n",
      "        [  739.8115],\n",
      "        [  814.034 ],\n",
      "        [  862.7246],\n",
      "        [  903.1771],\n",
      "        [ 1008.3204],\n",
      "        [  777.3294],\n",
      "        [  824.3598],\n",
      "        [  640.7755],\n",
      "        [  794.6464],\n",
      "        [  710.2449],\n",
      "        [  770.9826],\n",
      "        [  749.7158],\n",
      "        [  721.7326],\n",
      "        [  815.7583],\n",
      "        [  717.3843],\n",
      "        [  761.8398],\n",
      "        [  829.6425],\n",
      "        [  820.1431],\n",
      "        [  686.8145],\n",
      "        [  617.1117],\n",
      "        [  883.0827],\n",
      "        [  706.3862],\n",
      "        [  601.752 ],\n",
      "        [  802.6323],\n",
      "        [  828.3702],\n",
      "        [  907.0826],\n",
      "        [ 1041.84  ],\n",
      "        [  858.0241],\n",
      "        [  816.8307],\n",
      "        [  806.8534],\n",
      "        [  908.4523],\n",
      "        [  899.405 ],\n",
      "        [  812.8813],\n",
      "        [  657.9749],\n",
      "        [  653.6888],\n",
      "        [  780.5435],\n",
      "        [  759.8959],\n",
      "        [  872.5878],\n",
      "        [  894.3502],\n",
      "        [ 1036.5288],\n",
      "        [  850.1795],\n",
      "        [  891.2206],\n",
      "        [  877.5735],\n",
      "        [  833.5877],\n",
      "        [  711.2904],\n",
      "        [  698.3284],\n",
      "        [  716.0039],\n",
      "        [  911.6704],\n",
      "        [  807.6798],\n",
      "        [  782.7181],\n",
      "        [  656.6231],\n",
      "        [  851.5236],\n",
      "        [  931.7045],\n",
      "        [  742.8648],\n",
      "        [  865.3658],\n",
      "        [  765.733 ],\n",
      "        [  883.0599],\n",
      "        [  982.5207],\n",
      "        [  806.8149],\n",
      "        [  613.5171],\n",
      "        [  756.2573],\n",
      "        [  661.1656],\n",
      "        [  647.3364],\n",
      "        [  771.7119],\n",
      "        [  742.7541],\n",
      "        [  845.5785],\n",
      "        [  816.6805],\n",
      "        [  729.0839],\n",
      "        [  889.4324],\n",
      "        [  831.8879],\n",
      "        [  757.7653],\n",
      "        [  876.0024],\n",
      "        [  873.5633],\n",
      "        [  949.927 ],\n",
      "        [  753.2244],\n",
      "        [ 1028.0855],\n",
      "        [  834.513 ],\n",
      "        [  857.2589],\n",
      "        [  850.6052],\n",
      "        [  923.001 ],\n",
      "        [  894.8794],\n",
      "        [  689.5464],\n",
      "        [  740.2358],\n",
      "        [  864.0134],\n",
      "        [ 1033.5601],\n",
      "        [  609.0895],\n",
      "        [  822.4078],\n",
      "        [  797.8291],\n",
      "        [  943.252 ],\n",
      "        [  864.9651],\n",
      "        [  815.4836],\n",
      "        [  658.6035],\n",
      "        [  808.8942],\n",
      "        [  712.7497],\n",
      "        [  698.675 ],\n",
      "        [  859.5512],\n",
      "        [  826.5499],\n",
      "        [  878.3351],\n",
      "        [  615.7536],\n",
      "        [  832.1643],\n",
      "        [  934.8385],\n",
      "        [  734.5802],\n",
      "        [  712.0645],\n",
      "        [  691.3025],\n",
      "        [  933.2629],\n",
      "        [  749.279 ],\n",
      "        [  803.5013],\n",
      "        [  886.2169],\n",
      "        [  647.2826],\n",
      "        [  775.2645],\n",
      "        [  910.6249],\n",
      "        [  862.427 ],\n",
      "        [  821.4351],\n",
      "        [  801.7739],\n",
      "        [  873.0911],\n",
      "        [  776.9314],\n",
      "        [  723.6327],\n",
      "        [  710.3319],\n",
      "        [  954.5788],\n",
      "        [  703.6067],\n",
      "        [  742.0317],\n",
      "        [  741.4035],\n",
      "        [  817.3533],\n",
      "        [  891.3017],\n",
      "        [ 1064.9481],\n",
      "        [  833.8159],\n",
      "        [  900.8473],\n",
      "        [  811.3969],\n",
      "        [  877.2186],\n",
      "        [  964.6886],\n",
      "        [  742.7994],\n",
      "        [  742.6956],\n",
      "        [  698.8517],\n",
      "        [  968.2195],\n",
      "        [  813.6979],\n",
      "        [  709.2989],\n",
      "        [  937.8586],\n",
      "        [  764.0849],\n",
      "        [  651.9821],\n",
      "        [  821.4397],\n",
      "        [  939.5105],\n",
      "        [  908.5398],\n",
      "        [  712.4489],\n",
      "        [  664.5068],\n",
      "        [  660.7338],\n",
      "        [  823.7004],\n",
      "        [  746.4075],\n",
      "        [  861.2182],\n",
      "        [  788.9988],\n",
      "        [  790.4316],\n",
      "        [  922.251 ],\n",
      "        [  647.6027],\n",
      "        [  508.4164],\n",
      "        [  821.0002],\n",
      "        [  734.1916],\n",
      "        [  841.3571],\n",
      "        [  918.4488],\n",
      "        [  806.1579],\n",
      "        [  698.6048],\n",
      "        [  961.2079],\n",
      "        [  940.9344],\n",
      "        [  734.1261],\n",
      "        [  787.5739],\n",
      "        [  698.5082],\n",
      "        [  750.4444],\n",
      "        [  986.0197],\n",
      "        [  828.4958],\n",
      "        [  718.6054],\n",
      "        [  751.2572],\n",
      "        [  904.4118],\n",
      "        [  850.8461],\n",
      "        [  797.1522],\n",
      "        [  860.8816],\n",
      "        [  910.6874],\n",
      "        [  960.914 ],\n",
      "        [  894.6418],\n",
      "        [  865.7115],\n",
      "        [  917.7893],\n",
      "        [  755.5969],\n",
      "        [  760.4421],\n",
      "        [  654.853 ],\n",
      "        [  769.0243],\n",
      "        [  766.367 ],\n",
      "        [  897.7943],\n",
      "        [  750.4389],\n",
      "        [  782.5009],\n",
      "        [  869.6135],\n",
      "        [  810.7343],\n",
      "        [  484.3285],\n",
      "        [  657.5778],\n",
      "        [  737.9465],\n",
      "        [  788.6024],\n",
      "        [  876.3032],\n",
      "        [  862.9631],\n",
      "        [  660.9061],\n",
      "        [  751.4695],\n",
      "        [  781.944 ],\n",
      "        [  764.957 ],\n",
      "        [  765.4017],\n",
      "        [  784.3091],\n",
      "        [  839.897 ],\n",
      "        [ 1002.2205],\n",
      "        [  901.4544],\n",
      "        [  712.6292],\n",
      "        [  781.1667],\n",
      "        [  741.4458],\n",
      "        [  772.4469],\n",
      "        [  841.0443],\n",
      "        [  735.8015],\n",
      "        [  788.6172],\n",
      "        [  751.3384],\n",
      "        [  746.2983],\n",
      "        [  806.4316],\n",
      "        [  792.6157],\n",
      "        [  882.2471],\n",
      "        [  663.5552],\n",
      "        [  817.4173],\n",
      "        [  666.2861],\n",
      "        [  841.0333],\n",
      "        [  843.3473],\n",
      "        [  782.1305],\n",
      "        [  841.9025],\n",
      "        [  970.966 ],\n",
      "        [  650.7488],\n",
      "        [  785.5172],\n",
      "        [  612.1145],\n",
      "        [  928.9981],\n",
      "        [  871.2803],\n",
      "        [  776.3132],\n",
      "        [  613.8306],\n",
      "        [  872.4983],\n",
      "        [  849.7033],\n",
      "        [  732.3466],\n",
      "        [  896.6461],\n",
      "        [  641.7379],\n",
      "        [  804.7027],\n",
      "        [  829.5504],\n",
      "        [  777.5142],\n",
      "        [  667.0935],\n",
      "        [  636.2232]]), 0.028875577200577204, 3.3700000000000001)\n"
     ]
    },
    {
     "data": {
      "image/png": "[encoded data removed]",
      "text/plain": [
       "<matplotlib.figure.Figure at 0x7f4872f8e650>"
      ]
     },
     "metadata": {},
     "output_type": "display_data"
    }
   ],
   "source": [
    "ho = bag_fsr(x,y,100,0.05,fsr_fast,4)   \n",
    "print ho"
   ]
  },
  {
   "cell_type": "code",
   "execution_count": 13,
   "metadata": {
    "collapsed": false
   },
   "outputs": [
    {
     "data": {
      "text/html": [
       "<table class=\"simpletable\">\n",
       "<caption>OLS Regression Results</caption>\n",
       "<tr>\n",
       "  <th>Dep. Variable:</th>          <td>event</td>      <th>  R-squared:         </th> <td>   0.092</td>\n",
       "</tr>\n",
       "<tr>\n",
       "  <th>Model:</th>                   <td>OLS</td>       <th>  Adj. R-squared:    </th> <td>   0.088</td>\n",
       "</tr>\n",
       "<tr>\n",
       "  <th>Method:</th>             <td>Least Squares</td>  <th>  F-statistic:       </th> <td>   26.76</td>\n",
       "</tr>\n",
       "<tr>\n",
       "  <th>Date:</th>             <td>Sun, 26 Apr 2015</td> <th>  Prob (F-statistic):</th> <td>8.52e-12</td>\n",
       "</tr>\n",
       "<tr>\n",
       "  <th>Time:</th>                 <td>20:26:32</td>     <th>  Log-Likelihood:    </th> <td> -3808.8</td>\n",
       "</tr>\n",
       "<tr>\n",
       "  <th>No. Observations:</th>      <td>   532</td>      <th>  AIC:               </th> <td>   7624.</td>\n",
       "</tr>\n",
       "<tr>\n",
       "  <th>Df Residuals:</th>          <td>   529</td>      <th>  BIC:               </th> <td>   7636.</td>\n",
       "</tr>\n",
       "<tr>\n",
       "  <th>Df Model:</th>              <td>     2</td>      <th>                     </th>     <td> </td>   \n",
       "</tr>\n",
       "</table>\n",
       "<table class=\"simpletable\">\n",
       "<tr>\n",
       "    <td></td>       <th>coef</th>     <th>std err</th>      <th>t</th>      <th>P>|t|</th> <th>[95.0% Conf. Int.]</th> \n",
       "</tr>\n",
       "<tr>\n",
       "  <th>const</th> <td>  526.9251</td> <td>   44.312</td> <td>   11.891</td> <td> 0.000</td> <td>  439.875   613.975</td>\n",
       "</tr>\n",
       "<tr>\n",
       "  <th>0</th>     <td>    0.7830</td> <td>    0.120</td> <td>    6.544</td> <td> 0.000</td> <td>    0.548     1.018</td>\n",
       "</tr>\n",
       "<tr>\n",
       "  <th>32</th>    <td>   -0.1600</td> <td>    0.039</td> <td>   -4.069</td> <td> 0.000</td> <td>   -0.237    -0.083</td>\n",
       "</tr>\n",
       "</table>\n",
       "<table class=\"simpletable\">\n",
       "<tr>\n",
       "  <th>Omnibus:</th>       <td>52.216</td> <th>  Durbin-Watson:     </th> <td>   1.980</td>\n",
       "</tr>\n",
       "<tr>\n",
       "  <th>Prob(Omnibus):</th> <td> 0.000</td> <th>  Jarque-Bera (JB):  </th> <td>  40.574</td>\n",
       "</tr>\n",
       "<tr>\n",
       "  <th>Skew:</th>          <td>-0.580</td> <th>  Prob(JB):          </th> <td>1.55e-09</td>\n",
       "</tr>\n",
       "<tr>\n",
       "  <th>Kurtosis:</th>      <td> 2.303</td> <th>  Cond. No.          </th> <td>1.24e+03</td>\n",
       "</tr>\n",
       "</table>"
      ],
      "text/plain": [
       "<class 'statsmodels.iolib.summary.Summary'>\n",
       "\"\"\"\n",
       "                            OLS Regression Results                            \n",
       "==============================================================================\n",
       "Dep. Variable:                  event   R-squared:                       0.092\n",
       "Model:                            OLS   Adj. R-squared:                  0.088\n",
       "Method:                 Least Squares   F-statistic:                     26.76\n",
       "Date:                Sun, 26 Apr 2015   Prob (F-statistic):           8.52e-12\n",
       "Time:                        20:26:32   Log-Likelihood:                -3808.8\n",
       "No. Observations:                 532   AIC:                             7624.\n",
       "Df Residuals:                     529   BIC:                             7636.\n",
       "Df Model:                           2                                         \n",
       "==============================================================================\n",
       "                 coef    std err          t      P>|t|      [95.0% Conf. Int.]\n",
       "------------------------------------------------------------------------------\n",
       "const        526.9251     44.312     11.891      0.000       439.875   613.975\n",
       "0              0.7830      0.120      6.544      0.000         0.548     1.018\n",
       "32            -0.1600      0.039     -4.069      0.000        -0.237    -0.083\n",
       "==============================================================================\n",
       "Omnibus:                       52.216   Durbin-Watson:                   1.980\n",
       "Prob(Omnibus):                  0.000   Jarque-Bera (JB):               40.574\n",
       "Skew:                          -0.580   Prob(JB):                     1.55e-09\n",
       "Kurtosis:                       2.303   Cond. No.                     1.24e+03\n",
       "==============================================================================\n",
       "\n",
       "Warnings:\n",
       "[1] The condition number is large, 1.24e+03. This might indicate that there are\n",
       "strong multicollinearity or other numerical problems.\n",
       "\"\"\""
      ]
     },
     "execution_count": 13,
     "metadata": {},
     "output_type": "execute_result"
    },
    {
     "data": {
      "image/png": "[encoded data removed]",
      "text/plain": [
       "<matplotlib.figure.Figure at 0x7eff100bf410>"
      ]
     },
     "metadata": {},
     "output_type": "display_data"
    }
   ],
   "source": [
    "# Two function of cleaning the data and created the quadratic and interaction variables 83 variables\n",
    "def io13():\n",
    "    \"\"\"Numpy loadtxt.\"\"\"\n",
    "    df = pd.read_csv('actg.175.trt0.txt',delim_whitespace=True)\n",
    "    x = DataFrame(df, columns = ['cd40','cd80','age','wtkg','karnof','hemo','homo','drugs','race','gender','str2','symptom'])\n",
    "    y = df.ix[:,2]\n",
    "    x_15 = x.ix[:,0:5]\n",
    "    x.ix[:,0:5] = x_15-x_15.mean()\n",
    "    quadratic = (x.ix[:,0:5])**2\n",
    "    count=-1\n",
    "    new = np.zeros(shape=(df.shape[0],66))\n",
    "    for i in range(x.shape[1]):\n",
    "      for j in range(i+1,x.shape[1]):\n",
    "           count = count+1\n",
    "           new[:,count] = x.ix[:,i] * x.ix[:,j]\n",
    "    X = DataFrame(df, columns = ['hemo','homo','drugs','race','gender','str2','symptom'])\n",
    "    x = np.concatenate((x_15,X,quadratic,new),axis=1)\n",
    "    x = pd.DataFrame(x)\n",
    "    x.ix[:,63]=np.random.normal(0, 1, x.shape[0])\n",
    "    return y,x\n",
    "\n",
    "y = io13()[0]\n",
    "x = io13()[1]\n",
    "\n",
    "fsr_fast(x,y)[0].summary()"
   ]
  },
  {
   "cell_type": "markdown",
   "metadata": {},
   "source": [
    "- Code optimization: too many loops \n",
    "- Programming optimization: vectorize the code and parallize programming\n",
    "- algorithm optimization"
   ]
  },
  {
   "cell_type": "markdown",
   "metadata": {},
   "source": [
    "# Method Comparision : Lasso, Ridge, Forward Selection with BIC"
   ]
  },
  {
   "cell_type": "code",
   "execution_count": 14,
   "metadata": {
    "collapsed": false
   },
   "outputs": [
    {
     "data": {
      "text/plain": [
       "(75,)"
      ]
     },
     "execution_count": 14,
     "metadata": {},
     "output_type": "execute_result"
    }
   ],
   "source": [
    "\n",
    "alpha = 0.5\n",
    "lasso = Lasso(alpha=alpha, tol=0.001)\n",
    "y_coef_lasso = lasso.fit(x, y).coef_\n",
    "y_coef_lasso[np.round(y_coef_lasso,4) != 0].shape\n"
   ]
  },
  {
   "cell_type": "code",
   "execution_count": 15,
   "metadata": {
    "collapsed": false
   },
   "outputs": [
    {
     "data": {
      "text/plain": [
       "(81,)"
      ]
     },
     "execution_count": 15,
     "metadata": {},
     "output_type": "execute_result"
    }
   ],
   "source": [
    "\n",
    "alpha = 0.5\n",
    "ridge = Ridge(alpha=0.5,tol=0.001)\n",
    "y_coef_ridge = ridge.fit(x, y).coef_\n",
    "y_coef_ridge[np.round(y_coef_ridge,3) != 0].shape"
   ]
  },
  {
   "cell_type": "markdown",
   "metadata": {},
   "source": [
    "# Method Assesment and comparison"
   ]
  },
  {
   "cell_type": "markdown",
   "metadata": {},
   "source": [
    "- Comparsion among lasso, fast fsr, ridge and forward selectino with BIC based on two criteria: Model Error Ratio \n",
    "  and False Selection Rate by the simulated data \n",
    "- In this simulation study, I simulated 100 data points with 42 variables. Four models are simulated: H1: all variables are zeros. H2: 6 variables are non-zeros at variables 6–8 and 13–15 with values (9,4,1). H3: 10 variables are non-zeros at variables 5–9 and 12–16 with values (25,16,9,4,1). H4: 14 variables are non-zeros at variables 4–10 and 11–17 with value (49, 36, 25, 16, 9, 4, 1)\n",
    "- Plot the ME and FSR comparison plot for four models"
   ]
  },
  {
   "cell_type": "code",
   "execution_count": 122,
   "metadata": {
    "collapsed": false
   },
   "outputs": [],
   "source": [
    "def ME (method_coef,x,y,n):\n",
    "    me=[]\n",
    "    for i in range(n):\n",
    "        me.append(np.sum((np.dot(method_coef,x.transpose())-y)**2)/150.0)\n",
    "        i = i + 1\n",
    "    return me\n"
   ]
  },
  {
   "cell_type": "code",
   "execution_count": 9,
   "metadata": {
    "collapsed": false
   },
   "outputs": [],
   "source": [
    "def lasso_fit (x,y):\n",
    "    alpha =0.5\n",
    "    lasso = Lasso(alpha=alpha, tol=0.001)\n",
    "    y_coef_lasso = lasso.fit(x, y).coef_\n",
    "    lasso_index = np.where(y_coef_lasso != 0)[0]+1\n",
    "    return lasso_index"
   ]
  },
  {
   "cell_type": "code",
   "execution_count": 10,
   "metadata": {
    "collapsed": false
   },
   "outputs": [],
   "source": [
    "def FSRR (target,method,model,n):\n",
    "    l=[]  \n",
    "    for i in range(n):\n",
    "        x = pd.DataFrame(np.random.normal(1, 1, 21*150).reshape(150,21))\n",
    "        if (model==1):\n",
    "            y = np.random.normal(1, 1, 150)\n",
    "        if (model==2):\n",
    "            y = 9*x.ix[:,5]+4*x.ix[:,6]+x.ix[:,7]+9*x.ix[:,12]+4*x.ix[:,13]+x.ix[:,14]\n",
    "        if (model==3):\n",
    "            y = 25*x.ix[:,4]+16*x.ix[:,5]+9*x.ix[:,6]+4*x.ix[:,7]+1*x.ix[:,8]+25*x.ix[:,11]+16*x.ix[:,12]+9*x.ix[:,13]+4*x.ix[:,14]+1*x.ix[:,15]\n",
    "        if (model==4):\n",
    "            y = 45*x.ix[:,3]+36*x.ix[:,4]+25*x.ix[:,5]+16*x.ix[:,6]+9*x.ix[:,7]+4*x.ix[:,8]+x.ix[:,9]+45*x.ix[:,10]+36*x.ix[:,11]+25*x.ix[:,12]+16*x.ix[:,13]+9*x.ix[:,14]+4*x.ix[:,15]+x.ix[:,16]\n",
    "        quad = (x.ix[:,0:20])**2\n",
    "        x = np.concatenate((x,quad),axis=1)\n",
    "        x = pd.DataFrame(x)\n",
    "        m = method(x,y)\n",
    "        if (len(m) == 4 and m[1]==0):\n",
    "             m = []\n",
    "        if (len(m) == 4 and m[1]!=0):\n",
    "             m = m[2]\n",
    "        I = set(target)&set(m)\n",
    "        l.append((len(m)-len(I))/(1.0+len(m)))\n",
    "        i = i+1\n",
    "    return l"
   ]
  },
  {
   "cell_type": "markdown",
   "metadata": {},
   "source": [
    "#  Parall pragramming"
   ]
  },
  {
   "cell_type": "code",
   "execution_count": 11,
   "metadata": {
    "collapsed": false
   },
   "outputs": [],
   "source": [
    "def pi_multiprocessing1(target,method,model,n):\n",
    "    \"\"\"Split a job of length n into num_procs pieces.\"\"\"\n",
    "    import multiprocessing\n",
    "    m = multiprocessing.cpu_count()\n",
    "    pool = multiprocessing.Pool(m)\n",
    "    mapfunc = partial(FSRR,target,method,model)\n",
    "    results = pool.map(mapfunc,[n/m]*m)\n",
    "    pool.close()\n",
    "    return np.mean(results)\n"
   ]
  },
  {
   "cell_type": "code",
   "execution_count": 19,
   "metadata": {
    "collapsed": true
   },
   "outputs": [],
   "source": [
    "def pi_multiprocessing2(ME,method_coef,x,y,n):\n",
    "    \"\"\"Split a job of length n into num_procs pieces.\"\"\"\n",
    "    m = multiprocessing.cpu_count()\n",
    "    pool = multiprocessing.Pool(m)\n",
    "    mapfunc = partial(ME,method_coef,x,y)\n",
    "    results = pool.map(mapfunc,[n/m]*m)\n",
    "    pool.close()\n",
    "    return np.mean(results),min(min(results))"
   ]
  },
  {
   "cell_type": "code",
   "execution_count": 12,
   "metadata": {
    "collapsed": false
   },
   "outputs": [
    {
     "name": "stdout",
     "output_type": "stream",
     "text": [
      "LASSO FSR is 0.12\n",
      "FAST FSR is 0.04\n"
     ]
    }
   ],
   "source": [
    "# Simulate the data set under model 1\n",
    "target =[]\n",
    "n = int(100)\n",
    "\n",
    "print \"LASSO FSR is\",pi_multiprocessing1(target,lasso_fit,1,n)\n",
    "print \"FAST FSR is\",pi_multiprocessing1(target,fsr_fast,1,n)\n",
    "    "
   ]
  },
  {
   "cell_type": "code",
   "execution_count": 129,
   "metadata": {
    "collapsed": false
   },
   "outputs": [
    {
     "name": "stdout",
     "output_type": "stream",
     "text": [
      "LASSO FSR is 0.0\n",
      "(1.8510745950583427, 1.8510745950583427)\n",
      "LASSO ME is 1.0\n",
      "FAST FSR is 0\n"
     ]
    }
   ],
   "source": [
    "\n",
    "me_r = pi_multiprocessing2(ME,y_coef_lasso,x,y,n)\n",
    "print me_r\n",
    "print \"LASSO ME is\",me_r[1]/me_r[0]\n",
    "print \"FAST FSR is\",fsr_fast(x,y,0.05,4,0)[2]"
   ]
  },
  {
   "cell_type": "code",
   "execution_count": 95,
   "metadata": {
    "collapsed": false
   },
   "outputs": [
    {
     "name": "stdout",
     "output_type": "stream",
     "text": [
      "LASSO FSR is 0.567294675912\n",
      "FAST FSR is 0.146661616162\n"
     ]
    }
   ],
   "source": [
    "# Simulate the data under model 2 6–8 and 13–15\n",
    "\n",
    "\n",
    "n = int(100)\n",
    "target = [6,7,8,13,14,15]\n",
    "\n",
    "print \"LASSO FSR is\",pi_multiprocessing1(target,lasso_fit,2,n)\n",
    "print \"FAST FSR is\",pi_multiprocessing1(target,fsr_fast,2,n)\n",
    "    "
   ]
  },
  {
   "cell_type": "code",
   "execution_count": 96,
   "metadata": {
    "collapsed": false
   },
   "outputs": [
    {
     "name": "stdout",
     "output_type": "stream",
     "text": [
      "LASSO FSR is 0.55515100003\n",
      "FAST FSR is 0.0807326007326\n"
     ]
    }
   ],
   "source": [
    "# Simulate the data under model 3 5–9 and 12–16 \n",
    "n = int(100)\n",
    "target = [5,6,7,8,9,12,13,14,15,16]\n",
    "\n",
    "print \"LASSO FSR is\",pi_multiprocessing1(target,lasso_fit,3,n)\n",
    "print \"FAST FSR is\",pi_multiprocessing1(target,fsr_fast,3,n)\n",
    "    \n"
   ]
  },
  {
   "cell_type": "code",
   "execution_count": 13,
   "metadata": {
    "collapsed": false
   },
   "outputs": [
    {
     "name": "stdout",
     "output_type": "stream",
     "text": [
      "LASSO FSR is 0.54446326827\n",
      "FAST FSR is 0.123083356788\n"
     ]
    }
   ],
   "source": [
    "# Simulate the data under model 4  4–10 and 11–17 \n",
    "\n",
    "n = int(100)\n",
    "target = [4,5,6,7,8,9,10,11,12,13,14,15,16]\n",
    "print \"LASSO FSR is\",pi_multiprocessing1(target,lasso_fit,4,n)\n",
    "print \"FAST FSR is\",pi_multiprocessing1(target,fsr_fast,4,n)\n",
    "    "
   ]
  },
  {
   "cell_type": "markdown",
   "metadata": {},
   "source": [
    "# Profiling the Functions and Optimizing the code by parall pragramming "
   ]
  },
  {
   "cell_type": "code",
   "execution_count": 547,
   "metadata": {
    "collapsed": false
   },
   "outputs": [
    {
     "name": "stdout",
     "output_type": "stream",
     "text": [
      "1 loops, best of 3: 426 ms per loop\n",
      "1 loops, best of 3: 809 ms per loop\n"
     ]
    },
    {
     "name": "stderr",
     "output_type": "stream",
     "text": [
      "Exception in thread Thread-1201:\n",
      "Traceback (most recent call last):\n",
      "  File \"/home/bitnami/anaconda/lib/python2.7/threading.py\", line 810, in __bootstrap_inner\n",
      "    self.run()\n",
      "  File \"/home/bitnami/anaconda/lib/python2.7/site-packages/zmq/utils/garbage.py\", line 34, in run\n",
      "    s.bind(self.gc.url)\n",
      "  File \"socket.pyx\", line 444, in zmq.backend.cython.socket.Socket.bind (zmq/backend/cython/socket.c:4076)\n",
      "  File \"checkrc.pxd\", line 21, in zmq.backend.cython.checkrc._check_rc (zmq/backend/cython/socket.c:6032)\n",
      "ZMQError: Address already in use\n"
     ]
    }
   ],
   "source": [
    "n = int(1e5)\n",
    "%timeit pi_multiprocessing1(target,lasso_index,n)\n",
    "%timeit np.mean(FSRR(target,lasso_index,n))"
   ]
  },
  {
   "cell_type": "code",
   "execution_count": 546,
   "metadata": {
    "collapsed": false
   },
   "outputs": [],
   "source": [
    "! pip install --pre line-profiler &> /dev/null\n",
    "! pip install psutil &> /dev/null\n",
    "! pip install memory_profiler &> /dev/null"
   ]
  },
  {
   "cell_type": "code",
   "execution_count": 83,
   "metadata": {
    "collapsed": false
   },
   "outputs": [
    {
     "name": "stdout",
     "output_type": "stream",
     "text": [
      "1 loops, best of 1: 143 ms per loop\n",
      "1 loops, best of 1: 29 ms per loop\n"
     ]
    }
   ],
   "source": [
    "%timeit -r1 -n1 fsr_fast(x,y,.05,4,0)\n",
    "%timeit -r1 -n1 io13(interaction)"
   ]
  },
  {
   "cell_type": "code",
   "execution_count": 85,
   "metadata": {
    "collapsed": false
   },
   "outputs": [
    {
     "name": "stdout",
     "output_type": "stream",
     "text": [
      "          132355 function calls (132010 primitive calls) in 0.169 seconds\n",
      "\n",
      "   Ordered by: internal time\n",
      "   List reduced from 458 to 10 due to restriction <10>\n",
      "\n",
      "   ncalls  tottime  percall  cumtime  percall filename:lineno(function)\n",
      "      166    0.024    0.000    0.060    0.000 doccer.py:12(docformat)\n",
      "      168    0.016    0.000    0.018    0.000 numpy2ri.py:42(numpy2ri)\n",
      "       86    0.016    0.000    0.016    0.000 {sum}\n",
      "     5146    0.011    0.000    0.011    0.000 {method 'expandtabs' of 'str' objects}\n",
      "       85    0.008    0.000    0.008    0.000 {method 'rcall' of 'rpy2.rinterface.SexpClosure' objects}\n",
      "      166    0.008    0.000    0.012    0.000 doccer.py:128(indentcount_lines)\n",
      "     5146    0.007    0.000    0.007    0.000 {method 'splitlines' of 'str' objects}\n",
      "        1    0.006    0.006    0.049    0.049 functions.py:95(__call__)\n",
      "    50400    0.004    0.000    0.004    0.000 {method 'append' of 'list' objects}\n",
      "       83    0.003    0.000    0.087    0.001 _distn_infrastructure.py:1395(__init__)\n",
      "\n",
      "\n"
     ]
    },
    {
     "data": {
      "text/plain": [
       "<pstats.Stats instance at 0x7f06f3183dd0>"
      ]
     },
     "execution_count": 85,
     "metadata": {},
     "output_type": "execute_result"
    }
   ],
   "source": [
    "stat = %prun -r -q fsr_fast(x,y,.05,4,0)\n",
    "stat.sort_stats('time').print_stats(10)"
   ]
  },
  {
   "cell_type": "code",
   "execution_count": 86,
   "metadata": {
    "collapsed": false
   },
   "outputs": [
    {
     "name": "stdout",
     "output_type": "stream",
     "text": [
      "         132355 function calls (132010 primitive calls) in 0.169 seconds\n",
      "\n",
      "   Ordered by: internal time\n",
      "   List reduced from 458 to 1 due to restriction <'ipython'>\n",
      "\n",
      "   ncalls  tottime  percall  cumtime  percall filename:lineno(function)\n",
      "        1    0.002    0.002    0.179    0.179 <ipython-input-75-5fd1a2e39ab4>:2(fsr_fast)\n",
      "\n",
      "\n"
     ]
    },
    {
     "data": {
      "text/plain": [
       "<pstats.Stats instance at 0x7f06f3183dd0>"
      ]
     },
     "execution_count": 86,
     "metadata": {},
     "output_type": "execute_result"
    }
   ],
   "source": [
    "stat.sort_stats('time').print_stats(r'ipython')"
   ]
  },
  {
   "cell_type": "code",
   "execution_count": 88,
   "metadata": {
    "collapsed": false
   },
   "outputs": [],
   "source": [
    "%load_ext memory_profiler"
   ]
  },
  {
   "cell_type": "code",
   "execution_count": 89,
   "metadata": {
    "collapsed": false
   },
   "outputs": [
    {
     "name": "stdout",
     "output_type": "stream",
     "text": [
      "peak memory: 188.52 MiB, increment: 0.02 MiB\n"
     ]
    }
   ],
   "source": [
    "%memit fsr_fast(x,y,.05,4,0)"
   ]
  },
  {
   "cell_type": "markdown",
   "metadata": {},
   "source": [
    "- 1.how to improve the input reading speed? necessary use numpy.load or not?\n",
    "- 2.how to detect which part should be improved? based on my running time for the functions\n",
    "- 3.does my memory use too much memory for the data?\n",
    "- 4.comparision : glmnet result lasso julia?\n",
    "- 5.one column covariance equals to zero.....add random value to it....?\n",
    "- 6.julia? can i solve it????"
   ]
  },
  {
   "cell_type": "markdown",
   "metadata": {
    "collapsed": false
   },
   "source": [
    "# Draft of Make Files:\n",
    "\n"
   ]
  },
  {
   "cell_type": "markdown",
   "metadata": {},
   "source": [
    "- make -f MyMakefile\n",
    "- target: dependencies\n",
    "- make -f Makefile-1"
   ]
  },
  {
   "cell_type": "code",
   "execution_count": null,
   "metadata": {
    "collapsed": true
   },
   "outputs": [],
   "source": []
  }
 ],
 "metadata": {
  "kernelspec": {
   "display_name": "Python 2",
   "language": "python",
   "name": "python2"
  },
  "language_info": {
   "codemirror_mode": {
    "name": "ipython",
    "version": 2
   },
   "file_extension": ".py",
   "mimetype": "text/x-python",
   "name": "python",
   "nbconvert_exporter": "python",
   "pygments_lexer": "ipython2",
   "version": "2.7.9"
  }
 },
 "nbformat": 4,
 "nbformat_minor": 0
}
