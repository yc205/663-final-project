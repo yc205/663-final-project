{
 "cells": [
  {
   "cell_type": "code",
   "execution_count": 229,
   "metadata": {
    "collapsed": false
   },
   "outputs": [
    {
     "data": {
      "text/plain": [
       "u'%.4f'"
      ]
     },
     "execution_count": 229,
     "metadata": {},
     "output_type": "execute_result"
    }
   ],
   "source": [
    "import os\n",
    "import sys\n",
    "import glob\n",
    "import matplotlib.pyplot as plt\n",
    "import numpy as np\n",
    "import pandas as pd\n",
    "from scipy import stats\n",
    "import statsmodels.api as sm\n",
    "import scipy.stats as ss\n",
    "from pandas import Series, DataFrame, Panel\n",
    "%matplotlib inline\n",
    "%precision 4"
   ]
  },
  {
   "cell_type": "code",
   "execution_count": 230,
   "metadata": {
    "collapsed": false
   },
   "outputs": [
    {
     "name": "stdout",
     "output_type": "stream",
     "text": [
      "The rpy2.ipython extension is already loaded. To reload it, use:\n",
      "  %reload_ext rpy2.ipython\n"
     ]
    }
   ],
   "source": [
    "%load_ext rpy2.ipython\n",
    "from rpy2.robjects.packages import importr\n",
    "p1=importr('leaps')\n",
    "p2=importr('stats')"
   ]
  },
  {
   "cell_type": "markdown",
   "metadata": {},
   "source": [
    "# FSR Function Code"
   ]
  },
  {
   "cell_type": "code",
   "execution_count": 231,
   "metadata": {
    "collapsed": false
   },
   "outputs": [],
   "source": [
    "\n",
    "def fsr_fast(x,y,gam0,digits,pl):\n",
    " m = x.shape[1]\n",
    " n = x.shape[0]\n",
    " if(m >= n): \n",
    "    m1=n-5  \n",
    " else: \n",
    "    m1=m \n",
    " vm = range(m1)\n",
    "  # if only partially named columns corrects for no colnames\n",
    " pvm = [0] * m1\n",
    " out_x = p1.regsubsets(x,y,method=\"forward\")  \n",
    " rss = out_x[9]\n",
    " nn = out_x[26][0]\n",
    " q = [(rss[i]-rss[i+1])*(nn-i-2)/rss[i+1] for i in range(len(rss)-1)]\n",
    " rvf = [ ss.f(1,nn-i-2)  for i in range(len(rss)-1)]\n",
    " orig =  [1-rvf[i].cdf(q[i]) for i in range(len(rss)-1)]\n",
    "\n",
    " # sequential max of pvalues\n",
    " for i in range(m1):\n",
    "   pvm[i] = max(orig[0:i+1])\n",
    " alpha = [0]+pvm\n",
    " ng = len(alpha)\n",
    " # will contain num. of true entering in orig\n",
    " S = [0] * ng\n",
    " # loop through alpha values for S=size                        \n",
    " for ia in range(1,ng):                   \n",
    "   S[ia] = sum([pvm[i] <= alpha[ia] for i in range(len(pvm))])        # size of models at alpha[ia], S[1]=0\n",
    " ghat = [(m-S[i])*alpha[i]/(1+S[i]) for i in range(len(alpha))]              # gammahat_ER \n",
    " # add additional points to make jumps\n",
    " alpha2 = np.array(alpha[1:ng])-.0000001\n",
    " ghat2 = ((m-np.array(S[0:(ng-1)]))*alpha2)/(1+np.array(S[0:(ng-1)]))\n",
    " a= alpha+list(alpha2)\n",
    " g=ghat + list(ghat2)\n",
    " zp = {'a' : a,\n",
    "     'g' : g}\n",
    " zp = pd.DataFrame(zp)  \n",
    " zp=np.array(zp)[np.argsort(zp.a)]\n",
    " index_max= np.argmax(zp[:,1])\n",
    " alphamax=zp[:,0][index_max]\n",
    " ind = [0]*len(ghat)\n",
    " ind = [ 1 if ghat[i]<gam0 and alpha[i]<=alphamax else 0 for i in range(len(ghat))]\n",
    " Sind = S[np.max(np.where(np.array(ind)>0))]\n",
    " alphahat_fast = (1+Sind)*gam0/(m-Sind)\n",
    " size1=np.sum(np.array(pvm)<=alphahat_fast)+1\n",
    " x=x[list(x.columns.values[list((np.array(out_x[7])-1)[1:size1])])]\n",
    " x=sm.add_constant(x)\n",
    " if(size1>1): \n",
    "   x_ind=(np.array(out_x[7])-1)[1:size1]\n",
    " else:\n",
    "   x_ind=0\n",
    " if (size1==1):\n",
    "    mod = np.mean(y)\n",
    " else:\n",
    "    mod = sm.OLS(y, x).fit()\n",
    " ghat4=(m-size1+1)*np.array(alpha)/(1+np.array(range(m+1)))\n",
    " #plt.axis([0,alphamax,0,1.4]) \n",
    " if pl == 1:\n",
    "  plt.plot(zp[:,0],zp[:,1],'bo',color='red')\n",
    "  plt.plot([alphahat_fast], [gam0], 'g.', markersize=20.0)\n",
    "  plt.xlabel('Alpha')\n",
    "  plt.ylabel('Estimated Gamma')\n",
    "  plt.axvspan(xmin=-0.1, xmax=alphahat_fast, ymin=0, ymax=0.18)\n",
    " return mod,size1-1,x_ind,alphahat_fast"
   ]
  },
  {
   "cell_type": "markdown",
   "metadata": {
    "collapsed": false
   },
   "source": [
    "# Example With Real Data Set"
   ]
  },
  {
   "cell_type": "code",
   "execution_count": 323,
   "metadata": {
    "collapsed": false
   },
   "outputs": [
    {
     "data": {
      "text/html": [
       "<table class=\"simpletable\">\n",
       "<caption>OLS Regression Results</caption>\n",
       "<tr>\n",
       "  <th>Dep. Variable:</th>          <td>event</td>      <th>  R-squared:         </th> <td>   0.011</td>\n",
       "</tr>\n",
       "<tr>\n",
       "  <th>Model:</th>                   <td>OLS</td>       <th>  Adj. R-squared:    </th> <td>   0.007</td>\n",
       "</tr>\n",
       "<tr>\n",
       "  <th>Method:</th>             <td>Least Squares</td>  <th>  F-statistic:       </th> <td>   2.895</td>\n",
       "</tr>\n",
       "<tr>\n",
       "  <th>Date:</th>             <td>Mon, 20 Apr 2015</td> <th>  Prob (F-statistic):</th>  <td>0.0562</td> \n",
       "</tr>\n",
       "<tr>\n",
       "  <th>Time:</th>                 <td>11:25:11</td>     <th>  Log-Likelihood:    </th> <td> -3831.6</td>\n",
       "</tr>\n",
       "<tr>\n",
       "  <th>No. Observations:</th>      <td>   532</td>      <th>  AIC:               </th> <td>   7669.</td>\n",
       "</tr>\n",
       "<tr>\n",
       "  <th>Df Residuals:</th>          <td>   529</td>      <th>  BIC:               </th> <td>   7682.</td>\n",
       "</tr>\n",
       "<tr>\n",
       "  <th>Df Model:</th>              <td>     2</td>      <th>                     </th>     <td> </td>   \n",
       "</tr>\n",
       "</table>\n",
       "<table class=\"simpletable\">\n",
       "<tr>\n",
       "    <td></td>       <th>coef</th>     <th>std err</th>      <th>t</th>      <th>P>|t|</th> <th>[95.0% Conf. Int.]</th> \n",
       "</tr>\n",
       "<tr>\n",
       "  <th>const</th> <td>  844.2013</td> <td>   63.440</td> <td>   13.307</td> <td> 0.000</td> <td>  719.576   968.826</td>\n",
       "</tr>\n",
       "<tr>\n",
       "  <th>cd80</th>  <td>   -0.0711</td> <td>    0.030</td> <td>   -2.384</td> <td> 0.017</td> <td>   -0.130    -0.013</td>\n",
       "</tr>\n",
       "<tr>\n",
       "  <th>age</th>   <td>    0.7722</td> <td>    1.600</td> <td>    0.483</td> <td> 0.630</td> <td>   -2.372     3.916</td>\n",
       "</tr>\n",
       "</table>\n",
       "<table class=\"simpletable\">\n",
       "<tr>\n",
       "  <th>Omnibus:</th>       <td>92.797</td> <th>  Durbin-Watson:     </th> <td>   1.979</td>\n",
       "</tr>\n",
       "<tr>\n",
       "  <th>Prob(Omnibus):</th> <td> 0.000</td> <th>  Jarque-Bera (JB):  </th> <td>  56.997</td>\n",
       "</tr>\n",
       "<tr>\n",
       "  <th>Skew:</th>          <td>-0.672</td> <th>  Prob(JB):          </th> <td>4.20e-13</td>\n",
       "</tr>\n",
       "<tr>\n",
       "  <th>Kurtosis:</th>      <td> 2.127</td> <th>  Cond. No.          </th> <td>4.92e+03</td>\n",
       "</tr>\n",
       "</table>"
      ],
      "text/plain": [
       "<class 'statsmodels.iolib.summary.Summary'>\n",
       "\"\"\"\n",
       "                            OLS Regression Results                            \n",
       "==============================================================================\n",
       "Dep. Variable:                  event   R-squared:                       0.011\n",
       "Model:                            OLS   Adj. R-squared:                  0.007\n",
       "Method:                 Least Squares   F-statistic:                     2.895\n",
       "Date:                Mon, 20 Apr 2015   Prob (F-statistic):             0.0562\n",
       "Time:                        11:25:11   Log-Likelihood:                -3831.6\n",
       "No. Observations:                 532   AIC:                             7669.\n",
       "Df Residuals:                     529   BIC:                             7682.\n",
       "Df Model:                           2                                         \n",
       "==============================================================================\n",
       "                 coef    std err          t      P>|t|      [95.0% Conf. Int.]\n",
       "------------------------------------------------------------------------------\n",
       "const        844.2013     63.440     13.307      0.000       719.576   968.826\n",
       "cd80          -0.0711      0.030     -2.384      0.017        -0.130    -0.013\n",
       "age            0.7722      1.600      0.483      0.630        -2.372     3.916\n",
       "==============================================================================\n",
       "Omnibus:                       92.797   Durbin-Watson:                   1.979\n",
       "Prob(Omnibus):                  0.000   Jarque-Bera (JB):               56.997\n",
       "Skew:                          -0.672   Prob(JB):                     4.20e-13\n",
       "Kurtosis:                       2.127   Cond. No.                     4.92e+03\n",
       "==============================================================================\n",
       "\n",
       "Warnings:\n",
       "[1] The condition number is large, 4.92e+03. This might indicate that there are\n",
       "strong multicollinearity or other numerical problems.\n",
       "\"\"\""
      ]
     },
     "execution_count": 323,
     "metadata": {},
     "output_type": "execute_result"
    },
    {
     "data": {
      "image/png": "[encoded data removed]",
      "text/plain": [
       "<matplotlib.figure.Figure at 0x7eff5f18c6d0>"
      ]
     },
     "metadata": {},
     "output_type": "display_data"
    }
   ],
   "source": [
    "# Real Case 1: 12 linear variables \n",
    "df = pd.read_csv('actg.175.trt0.txt',delim_whitespace=True)\n",
    "x = DataFrame(df, columns = ['cd40','cd80','age','wtkg','karnof','hemo','homo','drugs','race','gender','str2','symptom'])\n",
    "y = df.ix[:,2]\n",
    "fsr_fast(x,y,0.05,4,1)[0].summary()"
   ]
  },
  {
   "cell_type": "code",
   "execution_count": 331,
   "metadata": {
    "collapsed": false
   },
   "outputs": [
    {
     "data": {
      "text/html": [
       "<table class=\"simpletable\">\n",
       "<caption>OLS Regression Results</caption>\n",
       "<tr>\n",
       "  <th>Dep. Variable:</th>          <td>event</td>      <th>  R-squared:         </th> <td>   0.011</td>\n",
       "</tr>\n",
       "<tr>\n",
       "  <th>Model:</th>                   <td>OLS</td>       <th>  Adj. R-squared:    </th> <td>   0.007</td>\n",
       "</tr>\n",
       "<tr>\n",
       "  <th>Method:</th>             <td>Least Squares</td>  <th>  F-statistic:       </th> <td>   2.907</td>\n",
       "</tr>\n",
       "<tr>\n",
       "  <th>Date:</th>             <td>Mon, 20 Apr 2015</td> <th>  Prob (F-statistic):</th>  <td>0.0555</td> \n",
       "</tr>\n",
       "<tr>\n",
       "  <th>Time:</th>                 <td>11:37:59</td>     <th>  Log-Likelihood:    </th> <td> -3831.5</td>\n",
       "</tr>\n",
       "<tr>\n",
       "  <th>No. Observations:</th>      <td>   532</td>      <th>  AIC:               </th> <td>   7669.</td>\n",
       "</tr>\n",
       "<tr>\n",
       "  <th>Df Residuals:</th>          <td>   529</td>      <th>  BIC:               </th> <td>   7682.</td>\n",
       "</tr>\n",
       "<tr>\n",
       "  <th>Df Model:</th>              <td>     2</td>      <th>                     </th>     <td> </td>   \n",
       "</tr>\n",
       "</table>\n",
       "<table class=\"simpletable\">\n",
       "<tr>\n",
       "    <td></td>       <th>coef</th>     <th>std err</th>      <th>t</th>      <th>P>|t|</th> <th>[95.0% Conf. Int.]</th> \n",
       "</tr>\n",
       "<tr>\n",
       "  <th>const</th> <td>  875.6858</td> <td>   34.179</td> <td>   25.621</td> <td> 0.000</td> <td>  808.543   942.828</td>\n",
       "</tr>\n",
       "<tr>\n",
       "  <th>1</th>     <td>   -0.0750</td> <td>    0.031</td> <td>   -2.398</td> <td> 0.017</td> <td>   -0.136    -0.014</td>\n",
       "</tr>\n",
       "<tr>\n",
       "  <th>33</th>    <td>    0.0513</td> <td>    0.101</td> <td>    0.506</td> <td> 0.613</td> <td>   -0.148     0.251</td>\n",
       "</tr>\n",
       "</table>\n",
       "<table class=\"simpletable\">\n",
       "<tr>\n",
       "  <th>Omnibus:</th>       <td>92.480</td> <th>  Durbin-Watson:     </th> <td>   1.978</td>\n",
       "</tr>\n",
       "<tr>\n",
       "  <th>Prob(Omnibus):</th> <td> 0.000</td> <th>  Jarque-Bera (JB):  </th> <td>  56.994</td>\n",
       "</tr>\n",
       "<tr>\n",
       "  <th>Skew:</th>          <td>-0.673</td> <th>  Prob(JB):          </th> <td>4.21e-13</td>\n",
       "</tr>\n",
       "<tr>\n",
       "  <th>Kurtosis:</th>      <td> 2.128</td> <th>  Cond. No.          </th> <td>2.65e+03</td>\n",
       "</tr>\n",
       "</table>"
      ],
      "text/plain": [
       "<class 'statsmodels.iolib.summary.Summary'>\n",
       "\"\"\"\n",
       "                            OLS Regression Results                            \n",
       "==============================================================================\n",
       "Dep. Variable:                  event   R-squared:                       0.011\n",
       "Model:                            OLS   Adj. R-squared:                  0.007\n",
       "Method:                 Least Squares   F-statistic:                     2.907\n",
       "Date:                Mon, 20 Apr 2015   Prob (F-statistic):             0.0555\n",
       "Time:                        11:37:59   Log-Likelihood:                -3831.5\n",
       "No. Observations:                 532   AIC:                             7669.\n",
       "Df Residuals:                     529   BIC:                             7682.\n",
       "Df Model:                           2                                         \n",
       "==============================================================================\n",
       "                 coef    std err          t      P>|t|      [95.0% Conf. Int.]\n",
       "------------------------------------------------------------------------------\n",
       "const        875.6858     34.179     25.621      0.000       808.543   942.828\n",
       "1             -0.0750      0.031     -2.398      0.017        -0.136    -0.014\n",
       "33             0.0513      0.101      0.506      0.613        -0.148     0.251\n",
       "==============================================================================\n",
       "Omnibus:                       92.480   Durbin-Watson:                   1.978\n",
       "Prob(Omnibus):                  0.000   Jarque-Bera (JB):               56.994\n",
       "Skew:                          -0.673   Prob(JB):                     4.21e-13\n",
       "Kurtosis:                       2.128   Cond. No.                     2.65e+03\n",
       "==============================================================================\n",
       "\n",
       "Warnings:\n",
       "[1] The condition number is large, 2.65e+03. This might indicate that there are\n",
       "strong multicollinearity or other numerical problems.\n",
       "\"\"\""
      ]
     },
     "execution_count": 331,
     "metadata": {},
     "output_type": "execute_result"
    },
    {
     "data": {
      "image/png": "[encoded data removed]",
      "text/plain": [
       "<matplotlib.figure.Figure at 0x7eff541e0710>"
      ]
     },
     "metadata": {},
     "output_type": "display_data"
    }
   ],
   "source": [
    "# Two function of cleaning the data and created the quadratic and interaction variables 83 variables\n",
    "def io13():\n",
    "    \"\"\"Numpy loadtxt.\"\"\"\n",
    "    df = pd.read_csv('actg.175.trt0.txt',delim_whitespace=True)\n",
    "    x = DataFrame(df, columns = ['cd40','cd80','age','wtkg','karnof','hemo','homo','drugs','race','gender','str2','symptom'])\n",
    "    y = df.ix[:,2]\n",
    "    x_15 = x.ix[:,0:5]\n",
    "    x.ix[:,0:5] = x_15-x_15.mean()\n",
    "    quadratic = (x.ix[:,0:5])**2\n",
    "    count=-1\n",
    "    new = np.zeros(shape=(df.shape[0],66))\n",
    "    for i in range(x.shape[1]):\n",
    "      for j in range(i+1,x.shape[1]):\n",
    "           count = count+1\n",
    "           new[:,count] = x.ix[:,i] * x.ix[:,j]\n",
    "    X = DataFrame(df, columns = ['hemo','homo','drugs','race','gender','str2','symptom'])\n",
    "    x = np.concatenate((x_15,X,quadratic,new),axis=1)\n",
    "    x = pd.DataFrame(x)\n",
    "    x.ix[:,63]=np.random.normal(0, 1, x.shape[0])\n",
    "    return y,x\n",
    "\n",
    "y = io13()[0]\n",
    "x = io13()[1]\n",
    "\n",
    "fsr_fast(x,y,0.05,4,1)[0].summary()"
   ]
  },
  {
   "cell_type": "markdown",
   "metadata": {},
   "source": [
    "- Code optimization: too many loops \n",
    "- Programming optimization: vectorize the code and parallize programming\n",
    "- algorithm optimization"
   ]
  },
  {
   "cell_type": "markdown",
   "metadata": {},
   "source": [
    "# Method Comparision : Lasso, Ridge, Forward Selection with BIC"
   ]
  },
  {
   "cell_type": "code",
   "execution_count": 336,
   "metadata": {
    "collapsed": false
   },
   "outputs": [
    {
     "data": {
      "text/plain": [
       "(74,)"
      ]
     },
     "execution_count": 336,
     "metadata": {},
     "output_type": "execute_result"
    }
   ],
   "source": [
    "from sklearn.linear_model import Lasso\n",
    "alpha = 0.5\n",
    "lasso = Lasso(alpha=alpha, tol=0.001)\n",
    "y_coef_lasso = lasso.fit(x, y).coef_\n",
    "y_coef_lasso[np.round(y_coef_lasso,4) != 0].shape\n"
   ]
  },
  {
   "cell_type": "code",
   "execution_count": 333,
   "metadata": {
    "collapsed": false
   },
   "outputs": [
    {
     "data": {
      "text/plain": [
       "(81,)"
      ]
     },
     "execution_count": 333,
     "metadata": {},
     "output_type": "execute_result"
    }
   ],
   "source": [
    "from sklearn.linear_model import Ridge\n",
    "alpha = 0.5\n",
    "ridge = Ridge(alpha=0.5,tol=0.001)\n",
    "y_coef_ridge = ridge.fit(x, y).coef_\n",
    "y_coef_ridge[np.round(y_coef_ridge,3) != 0].shape"
   ]
  },
  {
   "cell_type": "markdown",
   "metadata": {},
   "source": [
    "# Method Assesment and comparison"
   ]
  },
  {
   "cell_type": "markdown",
   "metadata": {},
   "source": [
    "- Comparsion among lasso, fast fsr, ridge and forward selectino with BIC based on two criteria: Model Error Ratio \n",
    "  and False Selection Rate by the simulated data \n",
    "- In this simulation study, I simulated 100 data points with 42 variables. Four models are simulated: H1: all variables are zeros. H2: 6 variables are non-zeros at variables 6–8 and 13–15 with values (9,4,1). H3: 10 variables are non-zeros at variables 5–9 and 12–16 with values (25,16,9,4,1). H4: 14 variables are non-zeros at variables 4–10 and 11–17 with value (49, 36, 25, 16, 9, 4, 1)\n",
    "- Plot the ME and FSR comparison plot for four models"
   ]
  },
  {
   "cell_type": "code",
   "execution_count": 330,
   "metadata": {
    "collapsed": false
   },
   "outputs": [
    {
     "name": "stdout",
     "output_type": "stream",
     "text": [
      "LASSO FSR is 0.0\n",
      "FAST FSR is 0\n"
     ]
    }
   ],
   "source": [
    "# Simulate the data set under model 1\n",
    "y = np.random.normal(1, 1, 10000)\n",
    "x = pd.DataFrame(np.random.normal(1, 1, 420000).reshape(10000,42))\n",
    "\n",
    "alpha = 0.5\n",
    "lasso = Lasso(alpha=alpha, tol=0.001)\n",
    "y_coef_lasso = lasso.fit(x, y).coef_\n",
    "lasso_index = np.where(y_coef_lasso != 0)[0]+1\n",
    "\n",
    "target =[]\n",
    "print \"LASSO FSR is\",pi_multiprocessing(target,lasso_index,n)\n",
    "print \"FAST FSR is\",fsr_fast(x,y,0.05,4,0)[2]"
   ]
  },
  {
   "cell_type": "code",
   "execution_count": 260,
   "metadata": {
    "collapsed": false
   },
   "outputs": [],
   "source": [
    "# function to find the False Selection Rate  \n",
    "def FSRR (target,method_selected,n):\n",
    "    l=[]\n",
    "    for i in range(n):\n",
    "      I = set(target)&set(method_selected)\n",
    "      l.append((len(method_selected)-len(I))/(1.0+len(method_selected)))\n",
    "      i = i+1\n",
    "    return l"
   ]
  },
  {
   "cell_type": "code",
   "execution_count": 295,
   "metadata": {
    "collapsed": false
   },
   "outputs": [
    {
     "name": "stdout",
     "output_type": "stream",
     "text": [
      "LASSO FSR is 0.0\n",
      "FAST FSR is 0.416666666667\n"
     ]
    }
   ],
   "source": [
    "# Simulate the data under model 2 6–8 and 13–15\n",
    "x = pd.DataFrame(np.random.normal(1, 1, 420000).reshape(10000,42))\n",
    "y = 9*x.ix[:,5]+4*x.ix[:,6]+x.ix[:,7]+9*x.ix[:,12]+4*x.ix[:,13]+x.ix[:,14]\n",
    "\n",
    "alpha = 0.5\n",
    "lasso = Lasso(alpha=alpha, tol=0.001)\n",
    "y_coef_lasso = lasso.fit(x, y).coef_\n",
    "lasso_index = np.where(y_coef_lasso != 0)[0]+1\n",
    "\n",
    "n = int(1e5)\n",
    "target = [6,7,8,13,14,15]\n",
    "print \"LASSO FSR is\",pi_multiprocessing(target,lasso_index,n) ##parallel programming 100 times then average\n",
    "print \"FAST FSR is\",pi_multiprocessing(target,fsr_fast(x,y,0.05,4,0)[2],n)"
   ]
  },
  {
   "cell_type": "markdown",
   "metadata": {},
   "source": [
    "# Parall pragramming"
   ]
  },
  {
   "cell_type": "code",
   "execution_count": 246,
   "metadata": {
    "collapsed": false
   },
   "outputs": [],
   "source": [
    "def pi_multiprocessing(target,method,n):\n",
    "    \"\"\"Split a job of length n into num_procs pieces.\"\"\"\n",
    "    import multiprocessing\n",
    "    m = multiprocessing.cpu_count()\n",
    "    pool = multiprocessing.Pool(m)\n",
    "    mapfunc = partial(FSRR, target,method)\n",
    "    results = pool.map(mapfunc,[n/m]*m)\n",
    "    pool.close()\n",
    "    return np.mean(results)\n",
    "\n",
    "\n"
   ]
  },
  {
   "cell_type": "markdown",
   "metadata": {},
   "source": [
    "# Profiling time and comparsion "
   ]
  },
  {
   "cell_type": "code",
   "execution_count": 247,
   "metadata": {
    "collapsed": false
   },
   "outputs": [
    {
     "name": "stdout",
     "output_type": "stream",
     "text": [
      "1 loops, best of 3: 307 ms per loop\n",
      "1 loops, best of 3: 520 ms per loop\n"
     ]
    }
   ],
   "source": [
    "%timeit pi_multiprocessing(target,lasso_index[0],n)\n",
    "%timeit np.mean(FSRR(target,lasso_index[0],int(1e5)))"
   ]
  },
  {
   "cell_type": "code",
   "execution_count": 296,
   "metadata": {
    "collapsed": false
   },
   "outputs": [
    {
     "name": "stdout",
     "output_type": "stream",
     "text": [
      "LASSO FSR is 0.0\n",
      "FAST FSR is 0.0833333333333\n"
     ]
    }
   ],
   "source": [
    "# Simulate the data under model 3 5–9 and 12–16 \n",
    "x = pd.DataFrame(np.random.normal(1, 1, 4200).reshape(100,42))\n",
    "y = 25*x.ix[:,4]+16*x.ix[:,5]+9*x.ix[:,6]+4*x.ix[:,7]+1*x.ix[:,8]+25*x.ix[:,11]+16*x.ix[:,12]+9*x.ix[:,13]+4*x.ix[:,14]+1*x.ix[:,15]\n",
    "\n",
    "alpha = 0.5\n",
    "lasso = Lasso(alpha=alpha, tol=0.001)\n",
    "y_coef_lasso = lasso.fit(x, y).coef_\n",
    "lasso_index = np.where(y_coef_lasso != 0)[0]+1\n",
    "\n",
    "\n",
    "\n",
    "n = int(1e5)\n",
    "target = [5,6,7,8,9,12,13,14,15,16]\n",
    "print \"LASSO FSR is\",pi_multiprocessing(target,lasso_index,n) ##parallel programming 100 times then average\n",
    "print \"FAST FSR is\",pi_multiprocessing(target,fsr_fast(x,y,0.05,4,0)[2],n)"
   ]
  },
  {
   "cell_type": "code",
   "execution_count": 310,
   "metadata": {
    "collapsed": false
   },
   "outputs": [
    {
     "name": "stdout",
     "output_type": "stream",
     "text": [
      "LASSO FSR is 0.133333333333\n",
      "FAST FSR is 0.0666666666667\n"
     ]
    }
   ],
   "source": [
    "# Simulate the data under model 4  4–10 and 11–17 \n",
    "x = pd.DataFrame(np.random.normal(1, 1, 21*150).reshape(150,21))\n",
    "y = 45*x.ix[:,3]+36*x.ix[:,4]+25*x.ix[:,5]+16*x.ix[:,6]+9*x.ix[:,7]+4*x.ix[:,8]+x.ix[:,9]+45*x.ix[:,10]+36*x.ix[:,11]+25*x.ix[:,12]+16*x.ix[:,13]+9*x.ix[:,14]+4*x.ix[:,15]+x.ix[:,16]\n",
    "\n",
    "alpha = 0.5\n",
    "lasso = Lasso(alpha=alpha, tol=0.001)\n",
    "y_coef_lasso = lasso.fit(x, y).coef_\n",
    "lasso_index = np.where(y_coef_lasso != 0)[0]+1\n",
    "\n",
    "n = int(1e5)\n",
    "target = [4,5,6,7,8,9,10,11,12,13,14,15,16]\n",
    "print \"LASSO FSR is\",pi_multiprocessing(target,lasso_index,n) ##parallel programming 100 times then average\n",
    "print \"FAST FSR is\",pi_multiprocessing(target,fsr_fast(x,y,0.05,4,0)[2],n)"
   ]
  },
  {
   "cell_type": "code",
   "execution_count": 304,
   "metadata": {
    "collapsed": false
   },
   "outputs": [
    {
     "data": {
      "text/plain": [
       "array([ 4,  5,  6,  7,  8,  9, 10, 11, 12, 13, 14, 15, 16, 17, 20])"
      ]
     },
     "execution_count": 304,
     "metadata": {},
     "output_type": "execute_result"
    }
   ],
   "source": [
    "lasso_index"
   ]
  },
  {
   "cell_type": "markdown",
   "metadata": {},
   "source": [
    "# Profiling the Functions and Optimizing the code by parall pragramming "
   ]
  },
  {
   "cell_type": "code",
   "execution_count": 71,
   "metadata": {
    "collapsed": false
   },
   "outputs": [],
   "source": [
    "! pip install --pre line-profiler &> /dev/null\n",
    "! pip install psutil &> /dev/null\n",
    "! pip install memory_profiler &> /dev/null"
   ]
  },
  {
   "cell_type": "code",
   "execution_count": 83,
   "metadata": {
    "collapsed": false
   },
   "outputs": [
    {
     "name": "stdout",
     "output_type": "stream",
     "text": [
      "1 loops, best of 1: 143 ms per loop\n",
      "1 loops, best of 1: 29 ms per loop\n"
     ]
    }
   ],
   "source": [
    "%timeit -r1 -n1 fsr_fast(x,y,.05,4,0)\n",
    "%timeit -r1 -n1 io13(interaction)"
   ]
  },
  {
   "cell_type": "code",
   "execution_count": 85,
   "metadata": {
    "collapsed": false
   },
   "outputs": [
    {
     "name": "stdout",
     "output_type": "stream",
     "text": [
      "          132355 function calls (132010 primitive calls) in 0.169 seconds\n",
      "\n",
      "   Ordered by: internal time\n",
      "   List reduced from 458 to 10 due to restriction <10>\n",
      "\n",
      "   ncalls  tottime  percall  cumtime  percall filename:lineno(function)\n",
      "      166    0.024    0.000    0.060    0.000 doccer.py:12(docformat)\n",
      "      168    0.016    0.000    0.018    0.000 numpy2ri.py:42(numpy2ri)\n",
      "       86    0.016    0.000    0.016    0.000 {sum}\n",
      "     5146    0.011    0.000    0.011    0.000 {method 'expandtabs' of 'str' objects}\n",
      "       85    0.008    0.000    0.008    0.000 {method 'rcall' of 'rpy2.rinterface.SexpClosure' objects}\n",
      "      166    0.008    0.000    0.012    0.000 doccer.py:128(indentcount_lines)\n",
      "     5146    0.007    0.000    0.007    0.000 {method 'splitlines' of 'str' objects}\n",
      "        1    0.006    0.006    0.049    0.049 functions.py:95(__call__)\n",
      "    50400    0.004    0.000    0.004    0.000 {method 'append' of 'list' objects}\n",
      "       83    0.003    0.000    0.087    0.001 _distn_infrastructure.py:1395(__init__)\n",
      "\n",
      "\n"
     ]
    },
    {
     "data": {
      "text/plain": [
       "<pstats.Stats instance at 0x7f06f3183dd0>"
      ]
     },
     "execution_count": 85,
     "metadata": {},
     "output_type": "execute_result"
    }
   ],
   "source": [
    "stat = %prun -r -q fsr_fast(x,y,.05,4,0)\n",
    "stat.sort_stats('time').print_stats(10)"
   ]
  },
  {
   "cell_type": "code",
   "execution_count": 86,
   "metadata": {
    "collapsed": false
   },
   "outputs": [
    {
     "name": "stdout",
     "output_type": "stream",
     "text": [
      "         132355 function calls (132010 primitive calls) in 0.169 seconds\n",
      "\n",
      "   Ordered by: internal time\n",
      "   List reduced from 458 to 1 due to restriction <'ipython'>\n",
      "\n",
      "   ncalls  tottime  percall  cumtime  percall filename:lineno(function)\n",
      "        1    0.002    0.002    0.179    0.179 <ipython-input-75-5fd1a2e39ab4>:2(fsr_fast)\n",
      "\n",
      "\n"
     ]
    },
    {
     "data": {
      "text/plain": [
       "<pstats.Stats instance at 0x7f06f3183dd0>"
      ]
     },
     "execution_count": 86,
     "metadata": {},
     "output_type": "execute_result"
    }
   ],
   "source": [
    "stat.sort_stats('time').print_stats(r'ipython')"
   ]
  },
  {
   "cell_type": "code",
   "execution_count": 88,
   "metadata": {
    "collapsed": false
   },
   "outputs": [],
   "source": [
    "%load_ext memory_profiler"
   ]
  },
  {
   "cell_type": "code",
   "execution_count": 89,
   "metadata": {
    "collapsed": false
   },
   "outputs": [
    {
     "name": "stdout",
     "output_type": "stream",
     "text": [
      "peak memory: 188.52 MiB, increment: 0.02 MiB\n"
     ]
    }
   ],
   "source": [
    "%memit fsr_fast(x,y,.05,4,0)"
   ]
  },
  {
   "cell_type": "markdown",
   "metadata": {},
   "source": [
    "- 1.how to improve the input reading speed? necessary use numpy.load or not?\n",
    "- 2.how to detect which part should be improved? based on my running time for the functions\n",
    "- 3.does my memory use too much memory for the data?\n",
    "- 4.comparision : glmnet result lasso julia?\n",
    "- 5.one column covariance equals to zero.....add random value to it....?\n",
    "- 6.julia? can i solve it????"
   ]
  },
  {
   "cell_type": "markdown",
   "metadata": {
    "collapsed": false
   },
   "source": [
    "# Draft of Make Files:\n",
    "\n"
   ]
  },
  {
   "cell_type": "markdown",
   "metadata": {},
   "source": [
    "- make -f MyMakefile\n",
    "- target: dependencies\n",
    "- make -f Makefile-1"
   ]
  },
  {
   "cell_type": "code",
   "execution_count": null,
   "metadata": {
    "collapsed": true
   },
   "outputs": [],
   "source": []
  }
 ],
 "metadata": {
  "kernelspec": {
   "display_name": "Python 2",
   "language": "python",
   "name": "python2"
  },
  "language_info": {
   "codemirror_mode": {
    "name": "ipython",
    "version": 2
   },
   "file_extension": ".py",
   "mimetype": "text/x-python",
   "name": "python",
   "nbconvert_exporter": "python",
   "pygments_lexer": "ipython2",
   "version": "2.7.9"
  }
 },
 "nbformat": 4,
 "nbformat_minor": 0
}
