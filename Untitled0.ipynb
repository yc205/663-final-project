{
 "metadata": {
  "name": "",
  "signature": "sha256:69e01e9d6bc7a1c5f4c573bb44c4aaa29bdf040f3f829cdbb79352916c45a5f5"
 },
 "nbformat": 3,
 "nbformat_minor": 0,
 "worksheets": [
  {
   "cells": [
    {
     "cell_type": "code",
     "collapsed": false,
     "input": [
      "! git pull"
     ],
     "language": "python",
     "metadata": {},
     "outputs": [
      {
       "output_type": "stream",
       "stream": "stdout",
       "text": [
        "Already up-to-date.\r\n"
       ]
      }
     ],
     "prompt_number": 1
    },
    {
     "cell_type": "code",
     "collapsed": false,
     "input": [
      "! git commit -m\"commit\""
     ],
     "language": "python",
     "metadata": {},
     "outputs": [
      {
       "output_type": "stream",
       "stream": "stdout",
       "text": [
        "On branch master\r\n",
        "Your branch is up-to-date with 'origin/master'.\r\n",
        "\r\n",
        "Changes not staged for commit:\r\n",
        "\t\u001b[31mmodified:   .ipynb_checkpoints/Profiling of initial and optimization strategies-checkpoint.ipynb\u001b[m\r\n",
        "\t\u001b[31mdeleted:    .ipynb_checkpoints/Untitled0-checkpoint.ipynb\u001b[m\r\n",
        "\t\u001b[31mmodified:   Profiling of initial and optimization strategies.ipynb\u001b[m\r\n",
        "\r\n",
        "Untracked files:\r\n",
        "\t\u001b[31mUntitled0.ipynb\u001b[m\r\n",
        "\r\n",
        "no changes added to commit\r\n"
       ]
      }
     ],
     "prompt_number": 2
    },
    {
     "cell_type": "code",
     "collapsed": false,
     "input": [
      "! git add ."
     ],
     "language": "python",
     "metadata": {},
     "outputs": [
      {
       "output_type": "stream",
       "stream": "stdout",
       "text": [
        "warning: You ran 'git add' with neither '-A (--all)' or '--ignore-removal',\r\n",
        "whose behaviour will change in Git 2.0 with respect to paths you removed.\r\n",
        "Paths like '.ipynb_checkpoints/Untitled0-checkpoint.ipynb' that are\r\n",
        "removed from your working tree are ignored with this version of Git.\r\n",
        "\r\n",
        "* 'git add --ignore-removal <pathspec>', which is the current default,\r\n",
        "  ignores paths you removed from your working tree.\r\n",
        "\r\n",
        "* 'git add --all <pathspec>' will let you also record the removals.\r\n",
        "\r\n",
        "Run 'git status' to check the paths you removed from your working tree.\r\n",
        "\r\n"
       ]
      }
     ],
     "prompt_number": 3
    },
    {
     "cell_type": "code",
     "collapsed": false,
     "input": [
      "! git commit -m\"commit\""
     ],
     "language": "python",
     "metadata": {},
     "outputs": [
      {
       "output_type": "stream",
       "stream": "stdout",
       "text": [
        "[master 50352ee] commit\r\n",
        " Committer: Bitnami <bitnami@ubuntu14-generic-template-01.oit.duke.edu>\r\n",
        "Your name and email address were configured automatically based\r\n",
        "on your username and hostname. Please check that they are accurate.\r\n",
        "You can suppress this message by setting them explicitly:\r\n",
        "\r\n",
        "    git config --global user.name \"Your Name\"\r\n",
        "    git config --global user.email you@example.com\r\n",
        "\r\n",
        "After doing this, you may fix the identity used for this commit with:\r\n",
        "\r\n",
        "    git commit --amend --reset-author\r\n",
        "\r\n",
        " 3 files changed, 119 insertions(+), 24 deletions(-)\r\n",
        " create mode 100644 Untitled0.ipynb\r\n"
       ]
      }
     ],
     "prompt_number": 4
    },
    {
     "cell_type": "code",
     "collapsed": false,
     "input": [
      "! git push"
     ],
     "language": "python",
     "metadata": {},
     "outputs": [
      {
       "output_type": "stream",
       "stream": "stdout",
       "text": [
        "warning: push.default is unset; its implicit value is changing in\r\n",
        "Git 2.0 from 'matching' to 'simple'. To squelch this message\r\n",
        "and maintain the current behavior after the default changes, use:\r\n",
        "\r\n",
        "  git config --global push.default matching\r\n",
        "\r\n",
        "To squelch this message and adopt the new behavior now, use:\r\n",
        "\r\n",
        "  git config --global push.default simple\r\n",
        "\r\n",
        "When push.default is set to 'matching', git will push local branches\r\n",
        "to the remote branches that already exist with the same name.\r\n",
        "\r\n",
        "In Git 2.0, Git will default to the more conservative 'simple'\r\n",
        "behavior, which only pushes the current branch to the corresponding\r\n",
        "remote branch that 'git pull' uses to update the current branch.\r\n",
        "\r\n",
        "See 'git help config' and search for 'push.default' for further information.\r\n",
        "(the 'simple' mode was introduced in Git 1.7.11. Use the similar mode\r\n",
        "'current' instead of 'simple' if you sometimes use older versions of Git)\r\n",
        "\r\n"
       ]
      },
      {
       "output_type": "stream",
       "stream": "stdout",
       "text": [
        "Username for 'https://github.com': "
       ]
      }
     ]
    },
    {
     "cell_type": "code",
     "collapsed": false,
     "input": [
      "yc205"
     ],
     "language": "python",
     "metadata": {},
     "outputs": []
    },
    {
     "cell_type": "code",
     "collapsed": false,
     "input": [],
     "language": "python",
     "metadata": {},
     "outputs": []
    }
   ],
   "metadata": {}
  }
 ]
}