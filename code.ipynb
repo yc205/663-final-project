{
 "metadata": {
  "name": "",
  "signature": "sha256:56afa08d2f2528efa25f17648cc32ca5860430cbe01f3bb8d85c38a22f5c11d6"
 },
 "nbformat": 3,
 "nbformat_minor": 0,
 "worksheets": [
  {
   "cells": [
    {
     "cell_type": "code",
     "collapsed": false,
     "input": [],
     "language": "python",
     "metadata": {},
     "outputs": []
    }
   ],
   "metadata": {}
  }
 ]
}